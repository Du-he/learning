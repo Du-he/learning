{
 "cells": [
  {
   "cell_type": "markdown",
   "source": [],
   "metadata": {
    "collapsed": false,
    "pycharm": {
     "name": "#%% md\n"
    }
   }
  },
  {
   "cell_type": "markdown",
   "source": [
    "## 规划类"
   ],
   "metadata": {
    "collapsed": false,
    "pycharm": {
     "name": "#%% md\n"
    }
   }
  },
  {
   "cell_type": "markdown",
   "source": [
    "### 线性规划"
   ],
   "metadata": {
    "collapsed": false,
    "pycharm": {
     "name": "#%% md\n"
    }
   }
  },
  {
   "cell_type": "markdown",
   "source": [
    "#### scipy.optimize.linprog"
   ],
   "metadata": {
    "collapsed": false,
    "pycharm": {
     "name": "#%% md\n"
    }
   }
  },
  {
   "cell_type": "code",
   "execution_count": 31,
   "outputs": [
    {
     "name": "stdout",
     "output_type": "stream",
     "text": [
      "        message: Optimization terminated successfully. (HiGHS Status 7: Optimal)\n",
      "        success: True\n",
      "         status: 0\n",
      "            fun: -11.428571428571429\n",
      "              x: [-1.143e+00  2.571e+00]\n",
      "            nit: 0\n",
      "          lower:  residual: [       inf  5.571e+00]\n",
      "                 marginals: [ 0.000e+00  0.000e+00]\n",
      "          upper:  residual: [       inf        inf]\n",
      "                 marginals: [ 0.000e+00  0.000e+00]\n",
      "          eqlin:  residual: []\n",
      "                 marginals: []\n",
      "        ineqlin:  residual: [ 0.000e+00  0.000e+00]\n",
      "                 marginals: [-8.571e-01 -1.571e+00]\n",
      " mip_node_count: 0\n",
      " mip_dual_bound: 0.0\n",
      "        mip_gap: 0.0\n"
     ]
    }
   ],
   "source": [
    "#2维线性规划问题\n",
    "from scipy.optimize import linprog\n",
    "c=[1,-4]#默认取最小值，如果想要得到最大值，只需取反[-1,4]就能得到最大值的相反数\n",
    "A=[[-3,1],[1,2]]\n",
    "b=[6,4]\n",
    "x0_bounds=(None,None)\n",
    "x1_bounds=(-3,None)\n",
    "res=linprog(c,A_ub=A,b_ub=b,bounds=(x0_bounds,x1_bounds),options={\"disp\":True})\n",
    "print(res)"
   ],
   "metadata": {
    "collapsed": false,
    "pycharm": {
     "name": "#%%\n"
    }
   }
  },
  {
   "cell_type": "markdown",
   "source": [
    "#### PULP"
   ],
   "metadata": {
    "collapsed": false,
    "pycharm": {
     "name": "#%% md\n"
    }
   }
  },
  {
   "cell_type": "markdown",
   "source": [
    "![](picture/img.png)"
   ],
   "metadata": {
    "collapsed": false,
    "pycharm": {
     "name": "#%% md\n"
    }
   }
  },
  {
   "cell_type": "code",
   "execution_count": 32,
   "outputs": [],
   "source": [
    "import pulp"
   ],
   "metadata": {
    "collapsed": false,
    "pycharm": {
     "name": "#%%\n"
    }
   }
  },
  {
   "cell_type": "code",
   "execution_count": 33,
   "metadata": {
    "collapsed": true,
    "pycharm": {
     "name": "#%%\n"
    }
   },
   "outputs": [
    {
     "name": "stdout",
     "output_type": "stream",
     "text": [
      "Status: Optimal\n",
      "x1 = 6.4285714\n",
      "x2 = 0.57142857\n",
      "x3 = 0.0\n",
      "F(x) =  14.57142851\n"
     ]
    }
   ],
   "source": [
    "# 定义规划问题\n",
    "MyProbLP = pulp.LpProblem(\"LPProbDemo1\", sense=pulp.LpMaximize)\n",
    "\n",
    "# 定义决策变量\n",
    "x1 = pulp.LpVariable('x1', lowBound=0, upBound=7, cat='Continuous')\n",
    "x2 = pulp.LpVariable('x2', lowBound=0, upBound=7, cat='Continuous')\n",
    "x3 = pulp.LpVariable('x3', lowBound=0, upBound=7, cat='Continuous')\n",
    "\n",
    "# 设置目标函数\n",
    "MyProbLP += 2*x1 + 3*x2 - 5*x3\n",
    "\n",
    "# 添加约束条件\n",
    "MyProbLP += (2*x1 - 5*x2 + x3 >= 10)  # 不等式约束\n",
    "MyProbLP += (x1 + 3*x2 + x3 <= 12)  # 不等式约束\n",
    "MyProbLP += (x1 + x2 + x3 == 7)  # 等式约束\n",
    "\n",
    "# 求解\n",
    "MyProbLP.solve()\n",
    "print(\"Status:\", pulp.LpStatus[MyProbLP.status]) # 输出求解状态\n",
    "for v in MyProbLP.variables():\n",
    "    print(v.name, \"=\", v.varValue)  # 输出每个变量的最优值\n",
    "print(\"F(x) = \", pulp.value(MyProbLP.objective))  #输出最优解的目标函数值\n",
    "\n"
   ]
  },
  {
   "cell_type": "markdown",
   "source": [
    "##### 运输问题"
   ],
   "metadata": {
    "collapsed": false,
    "pycharm": {
     "name": "#%% md\n"
    }
   }
  },
  {
   "cell_type": "markdown",
   "source": [
    "![](picture/img_1.png)"
   ],
   "metadata": {
    "collapsed": false,
    "pycharm": {
     "name": "#%% md\n"
    }
   }
  },
  {
   "cell_type": "code",
   "execution_count": 34,
   "outputs": [
    {
     "name": "stdout",
     "output_type": "stream",
     "text": [
      "最大值为(res[\"objective\"])\n",
      "各变量的值为：\n",
      "[[0.0, 0.0, 0.0, 76.0, 0.0, 0.0],\n",
      " [0.0, 0.0, 0.0, 88.0, 0.0, 0.0],\n",
      " [2.0, 94.0, 0.0, 0.0, 0.0, 0.0],\n",
      " [40.0, 0.0, 0.0, 0.0, 0.0, 0.0]]\n"
     ]
    },
    {
     "name": "stderr",
     "output_type": "stream",
     "text": [
      "D:\\Anaconda3\\lib\\site-packages\\pulp\\pulp.py:1199: UserWarning: Spaces are not permitted in the name. Converted to '_'\n",
      "  warnings.warn(\"Spaces are not permitted in the name. Converted to '_'\")\n"
     ]
    }
   ],
   "source": [
    "import pulp\n",
    "import numpy as np\n",
    "from pprint import pprint\n",
    "\n",
    "def transportation_problem(costs,x_max,y_max):\n",
    "    row = len(costs)\n",
    "    col = len(costs[0])\n",
    "    prob = pulp.LpProblem('Transportation Problem',sense=pulp.LpMaximize)\n",
    "    var = [[pulp.LpVariable(f'x{i}{j}',lowBound=0,cat=pulp.LpInteger) for j in range(col)] for i in range(row)]\n",
    "    flatten = lambda x: [y for l in x for y in flatten(l)] if type(x) is list else [x]\n",
    "    # LpDot 向量点乘\n",
    "    prob += pulp.lpDot(flatten(var),costs.flatten())\n",
    "    for i in range(row):\n",
    "        prob += (pulp.lpSum(var[i])<=x_max[i])\n",
    "    for j in range(col):\n",
    "        prob += (pulp.lpSum(([var[i][j]] for i in range(row))) <=y_max[j])\n",
    "        prob.solve()\n",
    "        return {'objective':pulp.value(prob.objective),'var':[[pulp.value(var[i][j])for j in range(col)]for i in range(row)]}\n",
    "\n",
    "if __name__ == '__main__':\n",
    "    costs = np.array([[500,550,630,1000,800,700],\n",
    "                      [800,700,600,950,900,930],\n",
    "                      [1000,960,840,650,600,700],\n",
    "                      [1200,1040,980,960,880,780]])\n",
    "    max_plant = [76,88,96,40]\n",
    "    max_cultivation = [42,56,44,39,60,59]\n",
    "    res = transportation_problem(costs,max_plant,max_cultivation)\n",
    "    print(f'最大值为(res[\"objective\"])')\n",
    "    print('各变量的值为：')\n",
    "    pprint(res['var'])"
   ],
   "metadata": {
    "collapsed": false,
    "pycharm": {
     "name": "#%%\n"
    }
   }
  },
  {
   "cell_type": "markdown",
   "source": [
    "### 整数规划\n",
    "\n",
    "* 先去除整数约束\n",
    "* 分支定界"
   ],
   "metadata": {
    "collapsed": false,
    "pycharm": {
     "name": "#%% md\n"
    }
   }
  },
  {
   "cell_type": "markdown",
   "source": [],
   "metadata": {
    "collapsed": false,
    "pycharm": {
     "name": "#%% md\n"
    }
   }
  },
  {
   "cell_type": "markdown",
   "source": [
    "#### cvxpy"
   ],
   "metadata": {
    "collapsed": false,
    "pycharm": {
     "name": "#%% md\n"
    }
   }
  },
  {
   "cell_type": "markdown",
   "source": [
    "##### 1.整数线性规划"
   ],
   "metadata": {
    "collapsed": false,
    "pycharm": {
     "name": "#%% md\n"
    }
   }
  },
  {
   "cell_type": "markdown",
   "source": [
    "![](picture/img_2.png)"
   ],
   "metadata": {
    "collapsed": false,
    "pycharm": {
     "name": "#%% md\n"
    }
   }
  },
  {
   "cell_type": "code",
   "execution_count": 35,
   "outputs": [
    {
     "name": "stdout",
     "output_type": "stream",
     "text": [
      "===============================================================================\n",
      "                                     CVXPY                                     \n",
      "                                     v1.3.2                                    \n",
      "===============================================================================\n",
      "(CVXPY) Aug 14 06:13:39 PM: Your problem has 2 variables, 2 constraints, and 0 parameters.\n",
      "(CVXPY) Aug 14 06:13:39 PM: It is compliant with the following grammars: DCP, DQCP\n",
      "(CVXPY) Aug 14 06:13:39 PM: (If you need to solve this problem multiple times, but with different data, consider using parameters.)\n",
      "(CVXPY) Aug 14 06:13:39 PM: CVXPY will first compile your problem; then, it will invoke a numerical solver to obtain a solution.\n",
      "-------------------------------------------------------------------------------\n",
      "                                  Compilation                                  \n",
      "-------------------------------------------------------------------------------\n",
      "(CVXPY) Aug 14 06:13:39 PM: Compiling problem (target solver=GLPK_MI).\n",
      "(CVXPY) Aug 14 06:13:39 PM: Reduction chain: Dcp2Cone -> CvxAttr2Constr -> ConeMatrixStuffing -> GLPK_MI\n",
      "(CVXPY) Aug 14 06:13:39 PM: Applying reduction Dcp2Cone\n",
      "(CVXPY) Aug 14 06:13:39 PM: Applying reduction CvxAttr2Constr\n",
      "(CVXPY) Aug 14 06:13:39 PM: Applying reduction ConeMatrixStuffing\n",
      "(CVXPY) Aug 14 06:13:39 PM: Applying reduction GLPK_MI\n",
      "(CVXPY) Aug 14 06:13:39 PM: Finished problem compilation (took 1.063e-02 seconds).\n",
      "-------------------------------------------------------------------------------\n",
      "                                Numerical solver                               \n",
      "-------------------------------------------------------------------------------\n",
      "(CVXPY) Aug 14 06:13:39 PM: Invoking solver GLPK_MI  to obtain a solution.\n",
      "-------------------------------------------------------------------------------\n",
      "                                    Summary                                    \n",
      "-------------------------------------------------------------------------------\n",
      "(CVXPY) Aug 14 06:13:39 PM: Problem status: optimal\n",
      "(CVXPY) Aug 14 06:13:39 PM: Optimal value: 3.500e+02\n",
      "(CVXPY) Aug 14 06:13:39 PM: Compilation took 1.063e-02 seconds\n",
      "(CVXPY) Aug 14 06:13:39 PM: Solver (including time spent in interface) took 7.753e-04 seconds\n",
      "最优值为: 350.0\n",
      "最优解为：\n",
      " [2. 3.]\n"
     ]
    },
    {
     "name": "stderr",
     "output_type": "stream",
     "text": [
      "D:\\Anaconda3\\lib\\site-packages\\cvxpy\\expressions\\expression.py:612: UserWarning: \n",
      "This use of ``*`` has resulted in matrix multiplication.\n",
      "Using ``*`` for matrix multiplication has been deprecated since CVXPY 1.1.\n",
      "    Use ``*`` for matrix-scalar and vector-scalar multiplication.\n",
      "    Use ``@`` for matrix-matrix and matrix-vector multiplication.\n",
      "    Use ``multiply`` for elementwise multiplication.\n",
      "This code path has been hit 1 times so far.\n",
      "\n",
      "  warnings.warn(msg, UserWarning)\n",
      "D:\\Anaconda3\\lib\\site-packages\\cvxpy\\expressions\\expression.py:612: UserWarning: \n",
      "This use of ``*`` has resulted in matrix multiplication.\n",
      "Using ``*`` for matrix multiplication has been deprecated since CVXPY 1.1.\n",
      "    Use ``*`` for matrix-scalar and vector-scalar multiplication.\n",
      "    Use ``@`` for matrix-matrix and matrix-vector multiplication.\n",
      "    Use ``multiply`` for elementwise multiplication.\n",
      "This code path has been hit 2 times so far.\n",
      "\n",
      "  warnings.warn(msg, UserWarning)\n"
     ]
    }
   ],
   "source": [
    "import cvxpy as cp\n",
    "from numpy import array\n",
    "c=array([40,90]) #定义目标向量\n",
    "a=array([[9,7],[-7,-20]]) #定义约束矩阵\n",
    "b=array([56,-70]) #定义约束条件的右边向量\n",
    "x=cp.Variable(2,integer=True) #定义两个整数决策变量\n",
    "obj=cp.Minimize(c*x) #构造目标函数\n",
    "cons=[a*x<=b, x>=0] #构造约束条件\n",
    "prob=cp.Problem(obj, cons) #构建问题模型\n",
    "prob.solve(solver='GLPK_MI',verbose =True) #求解问题\n",
    "print(\"最优值为:\",prob.value)\n",
    "print(\"最优解为：\\n\",x.value)"
   ],
   "metadata": {
    "collapsed": false,
    "pycharm": {
     "name": "#%%\n"
    }
   }
  },
  {
   "cell_type": "markdown",
   "source": [
    "##### 2.指派问题"
   ],
   "metadata": {
    "collapsed": false,
    "pycharm": {
     "name": "#%% md\n"
    }
   }
  },
  {
   "cell_type": "markdown",
   "source": [
    "![](picture/img_3.png)"
   ],
   "metadata": {
    "collapsed": false,
    "pycharm": {
     "name": "#%% md\n"
    }
   }
  },
  {
   "cell_type": "code",
   "execution_count": 36,
   "outputs": [
    {
     "name": "stdout",
     "output_type": "stream",
     "text": [
      "最优值为: 34.0\n",
      "最优解为：\n",
      " [[0. 0. 1. 0. 0.]\n",
      " [0. 1. 0. 0. 0.]\n",
      " [1. 0. 0. 0. 0.]\n",
      " [0. 0. 0. 1. 0.]\n",
      " [0. 0. 0. 0. 1.]]\n"
     ]
    }
   ],
   "source": [
    "import cvxpy as cp\n",
    "import numpy as np\n",
    "c=np.array([[4, 8, 7, 15, 12],\n",
    "[7, 9, 17, 14, 10],\n",
    "[6, 9, 12, 8, 7],\n",
    "[6, 7, 14, 6, 10],\n",
    "[6, 9, 12, 10, 6]])\n",
    "x = cp.Variable((5,5),integer=True)\n",
    "obj = cp.Minimize(cp.sum(cp.multiply(c,x)))\n",
    "con= [0 <= x, x <= 1, cp.sum(x, axis=0, keepdims=True)==1,\n",
    "cp.sum(x, axis=1, keepdims=True)==1]\n",
    "prob = cp.Problem(obj, con)\n",
    "prob.solve(solver='GLPK_MI')\n",
    "print(\"最优值为:\",prob.value)\n",
    "print(\"最优解为：\\n\",x.value)"
   ],
   "metadata": {
    "collapsed": false,
    "pycharm": {
     "name": "#%%\n"
    }
   }
  },
  {
   "cell_type": "markdown",
   "source": [
    "##### 3.装箱问题"
   ],
   "metadata": {
    "collapsed": false,
    "pycharm": {
     "name": "#%% md\n"
    }
   }
  },
  {
   "cell_type": "markdown",
   "source": [
    "![](picture/img_4.png)"
   ],
   "metadata": {
    "collapsed": false,
    "pycharm": {
     "name": "#%% md\n"
    }
   }
  },
  {
   "cell_type": "code",
   "execution_count": 37,
   "outputs": [
    {
     "name": "stdout",
     "output_type": "stream",
     "text": [
      "===============================================================================\n",
      "                                     CVXPY                                     \n",
      "                                     v1.3.2                                    \n",
      "===============================================================================\n",
      "(CVXPY) Aug 14 06:13:39 PM: Your problem has 14 variables, 5 constraints, and 0 parameters.\n",
      "(CVXPY) Aug 14 06:13:39 PM: It is compliant with the following grammars: DCP, DQCP\n",
      "(CVXPY) Aug 14 06:13:39 PM: (If you need to solve this problem multiple times, but with different data, consider using parameters.)\n",
      "(CVXPY) Aug 14 06:13:39 PM: CVXPY will first compile your problem; then, it will invoke a numerical solver to obtain a solution.\n",
      "-------------------------------------------------------------------------------\n",
      "                                  Compilation                                  \n",
      "-------------------------------------------------------------------------------\n",
      "(CVXPY) Aug 14 06:13:39 PM: Compiling problem (target solver=GLPK_MI).\n",
      "(CVXPY) Aug 14 06:13:39 PM: Reduction chain: FlipObjective -> Dcp2Cone -> CvxAttr2Constr -> ConeMatrixStuffing -> GLPK_MI\n",
      "(CVXPY) Aug 14 06:13:39 PM: Applying reduction FlipObjective\n",
      "(CVXPY) Aug 14 06:13:39 PM: Applying reduction Dcp2Cone\n",
      "(CVXPY) Aug 14 06:13:39 PM: Applying reduction CvxAttr2Constr\n",
      "(CVXPY) Aug 14 06:13:39 PM: Applying reduction ConeMatrixStuffing\n",
      "(CVXPY) Aug 14 06:13:39 PM: Applying reduction GLPK_MI\n",
      "(CVXPY) Aug 14 06:13:39 PM: Finished problem compilation (took 1.307e-02 seconds).\n",
      "-------------------------------------------------------------------------------\n",
      "                                Numerical solver                               \n",
      "-------------------------------------------------------------------------------\n",
      "(CVXPY) Aug 14 06:13:39 PM: Invoking solver GLPK_MI  to obtain a solution.\n"
     ]
    },
    {
     "name": "stderr",
     "output_type": "stream",
     "text": [
      "D:\\Anaconda3\\lib\\site-packages\\cvxpy\\expressions\\expression.py:612: UserWarning: \n",
      "This use of ``*`` has resulted in matrix multiplication.\n",
      "Using ``*`` for matrix multiplication has been deprecated since CVXPY 1.1.\n",
      "    Use ``*`` for matrix-scalar and vector-scalar multiplication.\n",
      "    Use ``@`` for matrix-matrix and matrix-vector multiplication.\n",
      "    Use ``multiply`` for elementwise multiplication.\n",
      "This code path has been hit 3 times so far.\n",
      "\n",
      "  warnings.warn(msg, UserWarning)\n",
      "D:\\Anaconda3\\lib\\site-packages\\cvxpy\\expressions\\expression.py:612: UserWarning: \n",
      "This use of ``*`` has resulted in matrix multiplication.\n",
      "Using ``*`` for matrix multiplication has been deprecated since CVXPY 1.1.\n",
      "    Use ``*`` for matrix-scalar and vector-scalar multiplication.\n",
      "    Use ``@`` for matrix-matrix and matrix-vector multiplication.\n",
      "    Use ``multiply`` for elementwise multiplication.\n",
      "This code path has been hit 4 times so far.\n",
      "\n",
      "  warnings.warn(msg, UserWarning)\n",
      "D:\\Anaconda3\\lib\\site-packages\\cvxpy\\expressions\\expression.py:612: UserWarning: \n",
      "This use of ``*`` has resulted in matrix multiplication.\n",
      "Using ``*`` for matrix multiplication has been deprecated since CVXPY 1.1.\n",
      "    Use ``*`` for matrix-scalar and vector-scalar multiplication.\n",
      "    Use ``@`` for matrix-matrix and matrix-vector multiplication.\n",
      "    Use ``multiply`` for elementwise multiplication.\n",
      "This code path has been hit 5 times so far.\n",
      "\n",
      "  warnings.warn(msg, UserWarning)\n",
      "D:\\Anaconda3\\lib\\site-packages\\cvxpy\\expressions\\expression.py:612: UserWarning: \n",
      "This use of ``*`` has resulted in matrix multiplication.\n",
      "Using ``*`` for matrix multiplication has been deprecated since CVXPY 1.1.\n",
      "    Use ``*`` for matrix-scalar and vector-scalar multiplication.\n",
      "    Use ``@`` for matrix-matrix and matrix-vector multiplication.\n",
      "    Use ``multiply`` for elementwise multiplication.\n",
      "This code path has been hit 6 times so far.\n",
      "\n",
      "  warnings.warn(msg, UserWarning)\n"
     ]
    },
    {
     "name": "stdout",
     "output_type": "stream",
     "text": [
      "-------------------------------------------------------------------------------\n",
      "                                    Summary                                    \n",
      "-------------------------------------------------------------------------------\n",
      "(CVXPY) Aug 14 06:13:40 PM: Problem status: optimal\n",
      "(CVXPY) Aug 14 06:13:40 PM: Optimal value: 2.039e+03\n",
      "(CVXPY) Aug 14 06:13:40 PM: Compilation took 1.307e-02 seconds\n",
      "(CVXPY) Aug 14 06:13:40 PM: Solver (including time spent in interface) took 8.572e-01 seconds\n",
      "最优值为: 2039.4\n",
      "最优解为：\n",
      " [[4. 1. 5. 3. 3. 2. 0.]\n",
      " [4. 6. 4. 3. 0. 1. 0.]]\n"
     ]
    }
   ],
   "source": [
    "import cvxpy as cp\n",
    "import numpy as np\n",
    "L=np.array([48.7,52.0,61.3,72.0,48.7,52.0,64.0])\n",
    "w=np.array([2000,3000,1000,500,4000,2000,1000])\n",
    "a=np.array([8,7,9,6,6,4,8])\n",
    "x=cp.Variable((2,7), integer=True)\n",
    "obj=cp.Maximize(cp.sum(x*L))\n",
    "con=[cp.sum(x,axis=0,keepdims=True)<=a.reshape(1,7),\n",
    "x*L<=1020, x*w<=40000, cp.sum(x[:,4:]*L[4:])<=302.7, x>=0]\n",
    "prob = cp.Problem(obj, con)\n",
    "prob.solve(solver='GLPK_MI',verbose =True)\n",
    "print(\"最优值为:\",prob.value)\n",
    "print(\"最优解为：\\n\",x.value)"
   ],
   "metadata": {
    "collapsed": false,
    "pycharm": {
     "name": "#%%\n"
    }
   }
  },
  {
   "cell_type": "markdown",
   "source": [
    "## 回归分析"
   ],
   "metadata": {
    "collapsed": false,
    "pycharm": {
     "name": "#%% md\n"
    }
   }
  },
  {
   "cell_type": "markdown",
   "source": [
    "### 线性回归"
   ],
   "metadata": {
    "collapsed": false,
    "pycharm": {
     "name": "#%% md\n"
    }
   }
  },
  {
   "cell_type": "markdown",
   "source": [
    "#### P2P网贷实例"
   ],
   "metadata": {
    "collapsed": false,
    "pycharm": {
     "name": "#%% md\n"
    }
   }
  },
  {
   "cell_type": "code",
   "execution_count": 1,
   "outputs": [],
   "source": [
    "import pandas as pd\n",
    "import numpy as np\n",
    "import statsmodels.api as sm\n",
    "import matplotlib.pyplot as plt\n",
    "import seaborn as sns"
   ],
   "metadata": {
    "collapsed": false,
    "pycharm": {
     "name": "#%%\n"
    }
   }
  },
  {
   "cell_type": "code",
   "execution_count": 2,
   "outputs": [
    {
     "data": {
      "text/plain": "   SUCCESS  DEFAULT  AMOUNT  INTEREST  MONTHS  CREDIT  BIDS  HOUSE  CAR  Year  \\\n0        0        0    3000      15.0       3       1     1      1    0  2011   \n1        0        0    3000      15.0       6       1     0      0    0  2011   \n2        0        0    3000      20.0       3       1     0      0    0  2011   \n3        0        0    3000      20.4       3       1     0      0    0  2011   \n4        0        0    7000      15.0       6       5    14      0    0  2011   \n\n   EDUCATION  WORKTIME  INCOME   IND CITY MARRY ADDRESS  AGE  \n0          2         1       5   能源业   上海    未婚      上海   27  \n1          2         1       2   制造业   深圳    未婚      广东   32  \n2          2         2       4  建筑工程   苏州    未婚      江苏   32  \n3          1         2       3    IT   邯郸    已婚      河北   29  \n4          2         1       3   制造业   杭州    已婚      浙江   31  ",
      "text/html": "<div>\n<style scoped>\n    .dataframe tbody tr th:only-of-type {\n        vertical-align: middle;\n    }\n\n    .dataframe tbody tr th {\n        vertical-align: top;\n    }\n\n    .dataframe thead th {\n        text-align: right;\n    }\n</style>\n<table border=\"1\" class=\"dataframe\">\n  <thead>\n    <tr style=\"text-align: right;\">\n      <th></th>\n      <th>SUCCESS</th>\n      <th>DEFAULT</th>\n      <th>AMOUNT</th>\n      <th>INTEREST</th>\n      <th>MONTHS</th>\n      <th>CREDIT</th>\n      <th>BIDS</th>\n      <th>HOUSE</th>\n      <th>CAR</th>\n      <th>Year</th>\n      <th>EDUCATION</th>\n      <th>WORKTIME</th>\n      <th>INCOME</th>\n      <th>IND</th>\n      <th>CITY</th>\n      <th>MARRY</th>\n      <th>ADDRESS</th>\n      <th>AGE</th>\n    </tr>\n  </thead>\n  <tbody>\n    <tr>\n      <th>0</th>\n      <td>0</td>\n      <td>0</td>\n      <td>3000</td>\n      <td>15.0</td>\n      <td>3</td>\n      <td>1</td>\n      <td>1</td>\n      <td>1</td>\n      <td>0</td>\n      <td>2011</td>\n      <td>2</td>\n      <td>1</td>\n      <td>5</td>\n      <td>能源业</td>\n      <td>上海</td>\n      <td>未婚</td>\n      <td>上海</td>\n      <td>27</td>\n    </tr>\n    <tr>\n      <th>1</th>\n      <td>0</td>\n      <td>0</td>\n      <td>3000</td>\n      <td>15.0</td>\n      <td>6</td>\n      <td>1</td>\n      <td>0</td>\n      <td>0</td>\n      <td>0</td>\n      <td>2011</td>\n      <td>2</td>\n      <td>1</td>\n      <td>2</td>\n      <td>制造业</td>\n      <td>深圳</td>\n      <td>未婚</td>\n      <td>广东</td>\n      <td>32</td>\n    </tr>\n    <tr>\n      <th>2</th>\n      <td>0</td>\n      <td>0</td>\n      <td>3000</td>\n      <td>20.0</td>\n      <td>3</td>\n      <td>1</td>\n      <td>0</td>\n      <td>0</td>\n      <td>0</td>\n      <td>2011</td>\n      <td>2</td>\n      <td>2</td>\n      <td>4</td>\n      <td>建筑工程</td>\n      <td>苏州</td>\n      <td>未婚</td>\n      <td>江苏</td>\n      <td>32</td>\n    </tr>\n    <tr>\n      <th>3</th>\n      <td>0</td>\n      <td>0</td>\n      <td>3000</td>\n      <td>20.4</td>\n      <td>3</td>\n      <td>1</td>\n      <td>0</td>\n      <td>0</td>\n      <td>0</td>\n      <td>2011</td>\n      <td>1</td>\n      <td>2</td>\n      <td>3</td>\n      <td>IT</td>\n      <td>邯郸</td>\n      <td>已婚</td>\n      <td>河北</td>\n      <td>29</td>\n    </tr>\n    <tr>\n      <th>4</th>\n      <td>0</td>\n      <td>0</td>\n      <td>7000</td>\n      <td>15.0</td>\n      <td>6</td>\n      <td>5</td>\n      <td>14</td>\n      <td>0</td>\n      <td>0</td>\n      <td>2011</td>\n      <td>2</td>\n      <td>1</td>\n      <td>3</td>\n      <td>制造业</td>\n      <td>杭州</td>\n      <td>已婚</td>\n      <td>浙江</td>\n      <td>31</td>\n    </tr>\n  </tbody>\n</table>\n</div>"
     },
     "execution_count": 2,
     "metadata": {},
     "output_type": "execute_result"
    }
   ],
   "source": [
    "data = pd.read_csv('raw_data.csv')\n",
    "data.head()"
   ],
   "metadata": {
    "collapsed": false,
    "pycharm": {
     "name": "#%%\n"
    }
   }
  },
  {
   "cell_type": "code",
   "execution_count": 3,
   "outputs": [
    {
     "name": "stdout",
     "output_type": "stream",
     "text": [
      "<class 'pandas.core.frame.DataFrame'>\n",
      "RangeIndex: 128573 entries, 0 to 128572\n",
      "Data columns (total 18 columns):\n",
      " #   Column     Non-Null Count   Dtype  \n",
      "---  ------     --------------   -----  \n",
      " 0   SUCCESS    128573 non-null  int64  \n",
      " 1   DEFAULT    128573 non-null  int64  \n",
      " 2   AMOUNT     128573 non-null  int64  \n",
      " 3   INTEREST   128573 non-null  float64\n",
      " 4   MONTHS     128573 non-null  int64  \n",
      " 5   CREDIT     128573 non-null  int64  \n",
      " 6   BIDS       128573 non-null  int64  \n",
      " 7   HOUSE      128573 non-null  int64  \n",
      " 8   CAR        128573 non-null  int64  \n",
      " 9   Year       128573 non-null  int64  \n",
      " 10  EDUCATION  128573 non-null  int64  \n",
      " 11  WORKTIME   128573 non-null  int64  \n",
      " 12  INCOME     128573 non-null  int64  \n",
      " 13  IND        128573 non-null  object \n",
      " 14  CITY       128573 non-null  object \n",
      " 15  MARRY      128573 non-null  object \n",
      " 16  ADDRESS    128573 non-null  object \n",
      " 17  AGE        128573 non-null  int64  \n",
      "dtypes: float64(1), int64(13), object(4)\n",
      "memory usage: 17.7+ MB\n"
     ]
    }
   ],
   "source": [
    "data.info()"
   ],
   "metadata": {
    "collapsed": false,
    "pycharm": {
     "name": "#%%\n"
    }
   }
  },
  {
   "cell_type": "code",
   "execution_count": 4,
   "outputs": [],
   "source": [
    "data.drop(data[data['ADDRESS'].map(lambda x : x == '香港' or x == '台湾' or x == '澳门')].index, inplace=True)"
   ],
   "metadata": {
    "collapsed": false,
    "pycharm": {
     "name": "#%%\n"
    }
   }
  },
  {
   "cell_type": "code",
   "execution_count": 5,
   "outputs": [
    {
     "data": {
      "text/plain": "             SUCCESS        DEFAULT          AMOUNT       INTEREST  \\\ncount  128532.000000  128532.000000   128532.000000  128532.000000   \nmean        0.070309       0.005594    58751.692964      16.032722   \nstd         0.255669       0.074583   111021.210662       3.920587   \nmin         0.000000       0.000000        0.000000       3.000000   \n25%         0.000000       0.000000     5000.000000      15.000000   \n50%         0.000000       0.000000    20000.000000      15.000000   \n75%         0.000000       0.000000    50000.000000      19.000000   \nmax         1.000000       1.000000  1000000.000000      24.400000   \n\n              MONTHS         CREDIT           BIDS          HOUSE  \\\ncount  128532.000000  128532.000000  128532.000000  128532.000000   \nmean       12.296105       1.190482       3.411119       0.411213   \nstd         7.951234       0.815687      21.509059       0.492056   \nmin         1.000000       1.000000       0.000000       0.000000   \n25%         6.000000       1.000000       0.000000       0.000000   \n50%        12.000000       1.000000       0.000000       0.000000   \n75%        24.000000       1.000000       0.000000       1.000000   \nmax        36.000000       7.000000     747.000000       1.000000   \n\n                 CAR           Year      EDUCATION       WORKTIME  \\\ncount  128532.000000  128532.000000  128532.000000  128532.000000   \nmean        0.235786    2012.740111       1.800073       2.394602   \nstd         0.424490       1.005786       0.793808       1.008723   \nmin         0.000000    2011.000000       1.000000       1.000000   \n25%         0.000000    2012.000000       1.000000       2.000000   \n50%         0.000000    2013.000000       2.000000       2.000000   \n75%         0.000000    2014.000000       2.000000       3.000000   \nmax         1.000000    2014.000000       4.000000       4.000000   \n\n              INCOME            AGE  \ncount  128532.000000  128532.000000  \nmean        3.904125      32.373821  \nstd         1.263114       6.763847  \nmin         1.000000       3.000000  \n25%         3.000000      28.000000  \n50%         4.000000      31.000000  \n75%         4.000000      35.000000  \nmax         7.000000     116.000000  ",
      "text/html": "<div>\n<style scoped>\n    .dataframe tbody tr th:only-of-type {\n        vertical-align: middle;\n    }\n\n    .dataframe tbody tr th {\n        vertical-align: top;\n    }\n\n    .dataframe thead th {\n        text-align: right;\n    }\n</style>\n<table border=\"1\" class=\"dataframe\">\n  <thead>\n    <tr style=\"text-align: right;\">\n      <th></th>\n      <th>SUCCESS</th>\n      <th>DEFAULT</th>\n      <th>AMOUNT</th>\n      <th>INTEREST</th>\n      <th>MONTHS</th>\n      <th>CREDIT</th>\n      <th>BIDS</th>\n      <th>HOUSE</th>\n      <th>CAR</th>\n      <th>Year</th>\n      <th>EDUCATION</th>\n      <th>WORKTIME</th>\n      <th>INCOME</th>\n      <th>AGE</th>\n    </tr>\n  </thead>\n  <tbody>\n    <tr>\n      <th>count</th>\n      <td>128532.000000</td>\n      <td>128532.000000</td>\n      <td>128532.000000</td>\n      <td>128532.000000</td>\n      <td>128532.000000</td>\n      <td>128532.000000</td>\n      <td>128532.000000</td>\n      <td>128532.000000</td>\n      <td>128532.000000</td>\n      <td>128532.000000</td>\n      <td>128532.000000</td>\n      <td>128532.000000</td>\n      <td>128532.000000</td>\n      <td>128532.000000</td>\n    </tr>\n    <tr>\n      <th>mean</th>\n      <td>0.070309</td>\n      <td>0.005594</td>\n      <td>58751.692964</td>\n      <td>16.032722</td>\n      <td>12.296105</td>\n      <td>1.190482</td>\n      <td>3.411119</td>\n      <td>0.411213</td>\n      <td>0.235786</td>\n      <td>2012.740111</td>\n      <td>1.800073</td>\n      <td>2.394602</td>\n      <td>3.904125</td>\n      <td>32.373821</td>\n    </tr>\n    <tr>\n      <th>std</th>\n      <td>0.255669</td>\n      <td>0.074583</td>\n      <td>111021.210662</td>\n      <td>3.920587</td>\n      <td>7.951234</td>\n      <td>0.815687</td>\n      <td>21.509059</td>\n      <td>0.492056</td>\n      <td>0.424490</td>\n      <td>1.005786</td>\n      <td>0.793808</td>\n      <td>1.008723</td>\n      <td>1.263114</td>\n      <td>6.763847</td>\n    </tr>\n    <tr>\n      <th>min</th>\n      <td>0.000000</td>\n      <td>0.000000</td>\n      <td>0.000000</td>\n      <td>3.000000</td>\n      <td>1.000000</td>\n      <td>1.000000</td>\n      <td>0.000000</td>\n      <td>0.000000</td>\n      <td>0.000000</td>\n      <td>2011.000000</td>\n      <td>1.000000</td>\n      <td>1.000000</td>\n      <td>1.000000</td>\n      <td>3.000000</td>\n    </tr>\n    <tr>\n      <th>25%</th>\n      <td>0.000000</td>\n      <td>0.000000</td>\n      <td>5000.000000</td>\n      <td>15.000000</td>\n      <td>6.000000</td>\n      <td>1.000000</td>\n      <td>0.000000</td>\n      <td>0.000000</td>\n      <td>0.000000</td>\n      <td>2012.000000</td>\n      <td>1.000000</td>\n      <td>2.000000</td>\n      <td>3.000000</td>\n      <td>28.000000</td>\n    </tr>\n    <tr>\n      <th>50%</th>\n      <td>0.000000</td>\n      <td>0.000000</td>\n      <td>20000.000000</td>\n      <td>15.000000</td>\n      <td>12.000000</td>\n      <td>1.000000</td>\n      <td>0.000000</td>\n      <td>0.000000</td>\n      <td>0.000000</td>\n      <td>2013.000000</td>\n      <td>2.000000</td>\n      <td>2.000000</td>\n      <td>4.000000</td>\n      <td>31.000000</td>\n    </tr>\n    <tr>\n      <th>75%</th>\n      <td>0.000000</td>\n      <td>0.000000</td>\n      <td>50000.000000</td>\n      <td>19.000000</td>\n      <td>24.000000</td>\n      <td>1.000000</td>\n      <td>0.000000</td>\n      <td>1.000000</td>\n      <td>0.000000</td>\n      <td>2014.000000</td>\n      <td>2.000000</td>\n      <td>3.000000</td>\n      <td>4.000000</td>\n      <td>35.000000</td>\n    </tr>\n    <tr>\n      <th>max</th>\n      <td>1.000000</td>\n      <td>1.000000</td>\n      <td>1000000.000000</td>\n      <td>24.400000</td>\n      <td>36.000000</td>\n      <td>7.000000</td>\n      <td>747.000000</td>\n      <td>1.000000</td>\n      <td>1.000000</td>\n      <td>2014.000000</td>\n      <td>4.000000</td>\n      <td>4.000000</td>\n      <td>7.000000</td>\n      <td>116.000000</td>\n    </tr>\n  </tbody>\n</table>\n</div>"
     },
     "execution_count": 5,
     "metadata": {},
     "output_type": "execute_result"
    }
   ],
   "source": [
    "data.describe()"
   ],
   "metadata": {
    "collapsed": false,
    "pycharm": {
     "name": "#%%\n"
    }
   }
  },
  {
   "cell_type": "code",
   "execution_count": 6,
   "outputs": [
    {
     "data": {
      "text/plain": "        SUCCESS      DEFAULT\n          count  sum     sum\nADDRESS                     \n上海         4305  286      20\n云南         2560  181      14",
      "text/html": "<div>\n<style scoped>\n    .dataframe tbody tr th:only-of-type {\n        vertical-align: middle;\n    }\n\n    .dataframe tbody tr th {\n        vertical-align: top;\n    }\n\n    .dataframe thead tr th {\n        text-align: left;\n    }\n\n    .dataframe thead tr:last-of-type th {\n        text-align: right;\n    }\n</style>\n<table border=\"1\" class=\"dataframe\">\n  <thead>\n    <tr>\n      <th></th>\n      <th colspan=\"2\" halign=\"left\">SUCCESS</th>\n      <th>DEFAULT</th>\n    </tr>\n    <tr>\n      <th></th>\n      <th>count</th>\n      <th>sum</th>\n      <th>sum</th>\n    </tr>\n    <tr>\n      <th>ADDRESS</th>\n      <th></th>\n      <th></th>\n      <th></th>\n    </tr>\n  </thead>\n  <tbody>\n    <tr>\n      <th>上海</th>\n      <td>4305</td>\n      <td>286</td>\n      <td>20</td>\n    </tr>\n    <tr>\n      <th>云南</th>\n      <td>2560</td>\n      <td>181</td>\n      <td>14</td>\n    </tr>\n  </tbody>\n</table>\n</div>"
     },
     "execution_count": 6,
     "metadata": {},
     "output_type": "execute_result"
    }
   ],
   "source": [
    "data1 = data.groupby('ADDRESS').agg({'SUCCESS':['count', 'sum'], 'DEFAULT':'sum'})\n",
    "data1.head(2)"
   ],
   "metadata": {
    "collapsed": false,
    "pycharm": {
     "name": "#%%\n"
    }
   }
  },
  {
   "cell_type": "code",
   "execution_count": 7,
   "outputs": [
    {
     "data": {
      "text/plain": "        SUCCESS            成功率 DEFAULT       违约率\n          count  sum               sum          \nADDRESS                                         \n上海         4305  286  0.066434      20  0.069930\n云南         2560  181  0.070703      14  0.077348",
      "text/html": "<div>\n<style scoped>\n    .dataframe tbody tr th:only-of-type {\n        vertical-align: middle;\n    }\n\n    .dataframe tbody tr th {\n        vertical-align: top;\n    }\n\n    .dataframe thead tr th {\n        text-align: left;\n    }\n\n    .dataframe thead tr:last-of-type th {\n        text-align: right;\n    }\n</style>\n<table border=\"1\" class=\"dataframe\">\n  <thead>\n    <tr>\n      <th></th>\n      <th colspan=\"2\" halign=\"left\">SUCCESS</th>\n      <th>成功率</th>\n      <th>DEFAULT</th>\n      <th>违约率</th>\n    </tr>\n    <tr>\n      <th></th>\n      <th>count</th>\n      <th>sum</th>\n      <th></th>\n      <th>sum</th>\n      <th></th>\n    </tr>\n    <tr>\n      <th>ADDRESS</th>\n      <th></th>\n      <th></th>\n      <th></th>\n      <th></th>\n      <th></th>\n    </tr>\n  </thead>\n  <tbody>\n    <tr>\n      <th>上海</th>\n      <td>4305</td>\n      <td>286</td>\n      <td>0.066434</td>\n      <td>20</td>\n      <td>0.069930</td>\n    </tr>\n    <tr>\n      <th>云南</th>\n      <td>2560</td>\n      <td>181</td>\n      <td>0.070703</td>\n      <td>14</td>\n      <td>0.077348</td>\n    </tr>\n  </tbody>\n</table>\n</div>"
     },
     "execution_count": 7,
     "metadata": {},
     "output_type": "execute_result"
    }
   ],
   "source": [
    "data1.insert(2, '成功率', data1['SUCCESS']['sum']/data1['SUCCESS']['count'])\n",
    "data1.insert(4, '违约率', data1['DEFAULT']['sum']/data1['SUCCESS']['sum'])\n",
    "data1.head(2)"
   ],
   "metadata": {
    "collapsed": false,
    "pycharm": {
     "name": "#%%\n"
    }
   }
  },
  {
   "cell_type": "code",
   "execution_count": 8,
   "outputs": [
    {
     "data": {
      "text/plain": "              成功率       违约率\n                           \nADDRESS                    \n上海       0.066434  0.069930\n云南       0.070703  0.077348\n内蒙古      0.034043  0.062500\n北京       0.086044  0.013187\n吉林       0.073999  0.082192\n四川       0.045325  0.081181\n天津       0.058777  0.108108\n宁夏       0.035256  0.136364\n安徽       0.069444  0.113208\n山东       0.085829  0.140875\n山西       0.041511  0.073770\n广东       0.058363  0.067970\n广西       0.051506  0.092896\n新疆       0.041860  0.022222\n江苏       0.112298  0.084084\n江西       0.056278  0.046243\n河北       0.060775  0.058608\n河南       0.089337  0.054670\n浙江       0.105860  0.092559\n海南       0.060571  0.037736\n湖北       0.054300  0.085714\n湖南       0.053672  0.089069\n甘肃       0.083922  0.021053\n福建       0.067272  0.069364\n西藏       0.037037  0.000000\n贵州       0.084258  0.059880\n辽宁       0.051477  0.051136\n重庆       0.034271  0.064103\n陕西       0.074452  0.086294\n青海       0.060000  0.000000\n黑龙江      0.049392  0.079365",
      "text/html": "<div>\n<style scoped>\n    .dataframe tbody tr th:only-of-type {\n        vertical-align: middle;\n    }\n\n    .dataframe tbody tr th {\n        vertical-align: top;\n    }\n\n    .dataframe thead tr th {\n        text-align: left;\n    }\n\n    .dataframe thead tr:last-of-type th {\n        text-align: right;\n    }\n</style>\n<table border=\"1\" class=\"dataframe\">\n  <thead>\n    <tr>\n      <th></th>\n      <th>成功率</th>\n      <th>违约率</th>\n    </tr>\n    <tr>\n      <th></th>\n      <th></th>\n      <th></th>\n    </tr>\n    <tr>\n      <th>ADDRESS</th>\n      <th></th>\n      <th></th>\n    </tr>\n  </thead>\n  <tbody>\n    <tr>\n      <th>上海</th>\n      <td>0.066434</td>\n      <td>0.069930</td>\n    </tr>\n    <tr>\n      <th>云南</th>\n      <td>0.070703</td>\n      <td>0.077348</td>\n    </tr>\n    <tr>\n      <th>内蒙古</th>\n      <td>0.034043</td>\n      <td>0.062500</td>\n    </tr>\n    <tr>\n      <th>北京</th>\n      <td>0.086044</td>\n      <td>0.013187</td>\n    </tr>\n    <tr>\n      <th>吉林</th>\n      <td>0.073999</td>\n      <td>0.082192</td>\n    </tr>\n    <tr>\n      <th>四川</th>\n      <td>0.045325</td>\n      <td>0.081181</td>\n    </tr>\n    <tr>\n      <th>天津</th>\n      <td>0.058777</td>\n      <td>0.108108</td>\n    </tr>\n    <tr>\n      <th>宁夏</th>\n      <td>0.035256</td>\n      <td>0.136364</td>\n    </tr>\n    <tr>\n      <th>安徽</th>\n      <td>0.069444</td>\n      <td>0.113208</td>\n    </tr>\n    <tr>\n      <th>山东</th>\n      <td>0.085829</td>\n      <td>0.140875</td>\n    </tr>\n    <tr>\n      <th>山西</th>\n      <td>0.041511</td>\n      <td>0.073770</td>\n    </tr>\n    <tr>\n      <th>广东</th>\n      <td>0.058363</td>\n      <td>0.067970</td>\n    </tr>\n    <tr>\n      <th>广西</th>\n      <td>0.051506</td>\n      <td>0.092896</td>\n    </tr>\n    <tr>\n      <th>新疆</th>\n      <td>0.041860</td>\n      <td>0.022222</td>\n    </tr>\n    <tr>\n      <th>江苏</th>\n      <td>0.112298</td>\n      <td>0.084084</td>\n    </tr>\n    <tr>\n      <th>江西</th>\n      <td>0.056278</td>\n      <td>0.046243</td>\n    </tr>\n    <tr>\n      <th>河北</th>\n      <td>0.060775</td>\n      <td>0.058608</td>\n    </tr>\n    <tr>\n      <th>河南</th>\n      <td>0.089337</td>\n      <td>0.054670</td>\n    </tr>\n    <tr>\n      <th>浙江</th>\n      <td>0.105860</td>\n      <td>0.092559</td>\n    </tr>\n    <tr>\n      <th>海南</th>\n      <td>0.060571</td>\n      <td>0.037736</td>\n    </tr>\n    <tr>\n      <th>湖北</th>\n      <td>0.054300</td>\n      <td>0.085714</td>\n    </tr>\n    <tr>\n      <th>湖南</th>\n      <td>0.053672</td>\n      <td>0.089069</td>\n    </tr>\n    <tr>\n      <th>甘肃</th>\n      <td>0.083922</td>\n      <td>0.021053</td>\n    </tr>\n    <tr>\n      <th>福建</th>\n      <td>0.067272</td>\n      <td>0.069364</td>\n    </tr>\n    <tr>\n      <th>西藏</th>\n      <td>0.037037</td>\n      <td>0.000000</td>\n    </tr>\n    <tr>\n      <th>贵州</th>\n      <td>0.084258</td>\n      <td>0.059880</td>\n    </tr>\n    <tr>\n      <th>辽宁</th>\n      <td>0.051477</td>\n      <td>0.051136</td>\n    </tr>\n    <tr>\n      <th>重庆</th>\n      <td>0.034271</td>\n      <td>0.064103</td>\n    </tr>\n    <tr>\n      <th>陕西</th>\n      <td>0.074452</td>\n      <td>0.086294</td>\n    </tr>\n    <tr>\n      <th>青海</th>\n      <td>0.060000</td>\n      <td>0.000000</td>\n    </tr>\n    <tr>\n      <th>黑龙江</th>\n      <td>0.049392</td>\n      <td>0.079365</td>\n    </tr>\n  </tbody>\n</table>\n</div>"
     },
     "execution_count": 8,
     "metadata": {},
     "output_type": "execute_result"
    }
   ],
   "source": [
    "data2 = data1[['成功率','违约率']]\n",
    "data2"
   ],
   "metadata": {
    "collapsed": false,
    "pycharm": {
     "name": "#%%\n"
    }
   }
  },
  {
   "cell_type": "code",
   "execution_count": 9,
   "outputs": [],
   "source": [
    "data2 = data2.sort_values('成功率')"
   ],
   "metadata": {
    "collapsed": false,
    "pycharm": {
     "name": "#%%\n"
    }
   }
  },
  {
   "cell_type": "code",
   "execution_count": 10,
   "outputs": [],
   "source": [
    "# 支持显示中文\n",
    "plt.rcParams['font.family'] = ['sans-serif']\n",
    "plt.rcParams['font.sans-serif'] = ['SimHei']\n",
    "plt.rcParams['axes.unicode_minus']=False\n"
   ],
   "metadata": {
    "collapsed": false,
    "pycharm": {
     "name": "#%%\n"
    }
   }
  },
  {
   "cell_type": "code",
   "execution_count": 11,
   "outputs": [],
   "source": [
    "n = len(data2.index)\n",
    "mean = data2['违约率'].mean()"
   ],
   "metadata": {
    "collapsed": false,
    "pycharm": {
     "name": "#%%\n"
    }
   }
  },
  {
   "cell_type": "code",
   "execution_count": 12,
   "outputs": [
    {
     "data": {
      "text/plain": "<Figure size 1600x1000 with 1 Axes>",
      "image/png": "[encoded data removed]"
     },
     "metadata": {},
     "output_type": "display_data"
    }
   ],
   "source": [
    "sns.set(font=\"SimHei\")\n",
    "plt.figure(figsize=(16,10))\n",
    "plt.bar(data2.index, data2['成功率'], color='#539CAF', label='成功率')\n",
    "plt.plot(data2.index, data2['违约率'], color='#7663B0', label='违约率', marker='*')\n",
    "plt.axhline(y=mean, color='r', linestyle='--', label='平均违约率')\n",
    "plt.legend(loc='best',fontsize=13)\n",
    "plt.xticks(rotation=35,fontsize=12)\n",
    "plt.show()"
   ],
   "metadata": {
    "collapsed": false,
    "pycharm": {
     "name": "#%%\n"
    }
   }
  },
  {
   "cell_type": "code",
   "execution_count": 24,
   "outputs": [
    {
     "data": {
      "text/plain": "<Axes: xlabel='AGE', ylabel='Density'>"
     },
     "execution_count": 24,
     "metadata": {},
     "output_type": "execute_result"
    },
    {
     "data": {
      "text/plain": "<Figure size 1000x800 with 1 Axes>",
      "image/png": "[encoded data removed]"
     },
     "metadata": {},
     "output_type": "display_data"
    }
   ],
   "source": [
    "sns.set()\n",
    "plt.figure(figsize=(10,8))\n",
    "sns.histplot(data.AGE,kde=True,stat='density',kde_kws=dict(cut=0))"
   ],
   "metadata": {
    "collapsed": false,
    "pycharm": {
     "name": "#%%\n"
    }
   }
  },
  {
   "cell_type": "markdown",
   "source": [
    "### 拟合"
   ],
   "metadata": {
    "collapsed": false,
    "pycharm": {
     "name": "#%% md\n"
    }
   }
  },
  {
   "cell_type": "markdown",
   "source": [
    "#### 多项式拟合"
   ],
   "metadata": {
    "collapsed": false,
    "pycharm": {
     "name": "#%% md\n"
    }
   }
  },
  {
   "cell_type": "code",
   "execution_count": 56,
   "outputs": [
    {
     "name": "stdout",
     "output_type": "stream",
     "text": [
      "[-7.16028404e-22 -3.53244996e-21 -1.73643682e-20 -8.49616988e-20\n",
      " -4.13196126e-19 -1.99351629e-18 -9.51562313e-18 -4.47612634e-17\n",
      " -2.06266909e-16 -9.22264291e-16 -3.93423954e-15 -1.54779639e-14\n",
      " -5.15043682e-14 -9.84336459e-14  4.79579339e-13  8.28266124e-12\n",
      "  7.66157327e-11  5.89919299e-10  4.13252699e-09  2.71435971e-08\n",
      "  1.68688753e-07  9.87879705e-07  5.34617723e-06  2.53921341e-05\n",
      "  8.97230082e-05  2.24930460e-05 -3.51987939e-03 -3.95749282e-02\n",
      " -2.12411048e-01  1.05536171e+00  1.31441529e-15]\n",
      "-0.800000000000002\n"
     ]
    }
   ],
   "source": [
    "#最小二乘多项式曲线拟合\n",
    "import numpy as np\n",
    "x = np.array([0.0, 1.0, 2.0, 3.0,  4.0,  5.0])\n",
    "y = np.array([0.0, 0.8, 0.9, 0.1, -0.8, -1.0])\n",
    "z = np.polyfit(x, y, 30)#得到一条最高次幂为30的拟合曲线，如结果所示，第一个数值-7.16028404e-22为30次幂的系数，以此类推。\n",
    "print(z)\n",
    "#给31个数加上次数\n",
    "p30=np.poly1d(np.polyfit(x,y,30))\n",
    "print(p30(4))#当x=4时，此时y的值"
   ],
   "metadata": {
    "collapsed": false,
    "pycharm": {
     "name": "#%%\n"
    }
   }
  },
  {
   "cell_type": "code",
   "execution_count": 57,
   "outputs": [
    {
     "data": {
      "text/plain": "<Figure size 640x480 with 1 Axes>",
      "image/png": "[encoded data removed]"
     },
     "metadata": {},
     "output_type": "display_data"
    }
   ],
   "source": [
    "#多项式拟合包括3次和30次\n",
    "%matplotlib inline\n",
    "import matplotlib.pyplot as plt\n",
    "from matplotlib.pylab import mpl\n",
    "mpl.rcParams['font.sans-serif'] = ['SimHei']\n",
    "mpl.rcParams['axes.unicode_minus'] = False\n",
    "#生成基本数据x，y\n",
    "x = np.array([0.0, 1.0, 2.0, 3.0,  4.0,  5.0])\n",
    "y = np.array([0.0, 0.8, 0.9, 0.1, -0.8, -1.0])\n",
    "xp=np.linspace(-2,6,10)\n",
    "p=np.poly1d(np.polyfit(x,y,3))#最高次幂为3次\n",
    "p30=np.poly1d(np.polyfit(x,y,30))#最高次幂为30次\n",
    "plt.ylim(-2,2)\n",
    "plt.title(\"多项式线性拟合\")\n",
    "plt.plot(x,y,'.',xp,p(xp),'-',xp,p30(xp),'k-')\n",
    "plt.legend(loc=\"best\",labels=[\"基本数据\",\"三次曲线拟合\",\"30次曲线拟合\"])#分别对应的加上了legend\n",
    "plt.show()"
   ],
   "metadata": {
    "collapsed": false,
    "pycharm": {
     "name": "#%%\n"
    }
   }
  },
  {
   "cell_type": "markdown",
   "source": [
    "#### 插值拟合"
   ],
   "metadata": {
    "collapsed": false,
    "pycharm": {
     "name": "#%% md\n"
    }
   }
  },
  {
   "cell_type": "markdown",
   "source": [
    "##### 拉格朗日"
   ],
   "metadata": {
    "collapsed": false,
    "pycharm": {
     "name": "#%% md\n"
    }
   }
  },
  {
   "cell_type": "code",
   "execution_count": 58,
   "outputs": [
    {
     "data": {
      "text/plain": "<Figure size 640x480 with 1 Axes>",
      "image/png": "[encoded data removed]"
     },
     "metadata": {},
     "output_type": "display_data"
    }
   ],
   "source": [
    "import matplotlib.pyplot as plt\n",
    "%matplotlib inline\n",
    "from scipy.interpolate import lagrange\n",
    "sr_x = [i for i in range(-50, 50, 10)]\n",
    "sr_fx = [i**2 for i in sr_x]\n",
    "\n",
    "Lx = lagrange(sr_x, sr_fx)            # 获得插值函数\n",
    "tmp_x = [i for i in range(-50, 50)]     # 测试用例\n",
    "tmp_y = [Lx(i) for i in tmp_x]          # 根据插值函数获得测试用例的纵坐标\n",
    "\n",
    "''' 画图 '''\n",
    "plt.figure(\"play\")\n",
    "ax1 = plt.subplot(111)\n",
    "plt.sca(ax1)\n",
    "plt.plot(sr_x, sr_fx, linestyle = ' ', marker='o', color='b')\n",
    "plt.plot(tmp_x, tmp_y, linestyle = '--', color='r')\n",
    "plt.show()\n",
    "#tmp_y"
   ],
   "metadata": {
    "collapsed": false,
    "pycharm": {
     "name": "#%%\n"
    }
   }
  },
  {
   "cell_type": "markdown",
   "source": [
    "###### 填充数据"
   ],
   "metadata": {
    "collapsed": false,
    "pycharm": {
     "name": "#%% md\n"
    }
   }
  },
  {
   "cell_type": "code",
   "execution_count": 54,
   "outputs": [
    {
     "ename": "FileNotFoundError",
     "evalue": "[Errno 2] No such file or directory: './数学建模/源数据/data.xls'",
     "output_type": "error",
     "traceback": [
      "\u001B[1;31m---------------------------------------------------------------------------\u001B[0m",
      "\u001B[1;31mFileNotFoundError\u001B[0m                         Traceback (most recent call last)",
      "Cell \u001B[1;32mIn[54], line 7\u001B[0m\n\u001B[0;32m      5\u001B[0m \u001B[38;5;28;01mimport\u001B[39;00m \u001B[38;5;21;01mpandas\u001B[39;00m \u001B[38;5;28;01mas\u001B[39;00m \u001B[38;5;21;01mpd\u001B[39;00m\n\u001B[0;32m      6\u001B[0m \u001B[38;5;28;01mfrom\u001B[39;00m \u001B[38;5;21;01mscipy\u001B[39;00m\u001B[38;5;21;01m.\u001B[39;00m\u001B[38;5;21;01minterpolate\u001B[39;00m \u001B[38;5;28;01mimport\u001B[39;00m lagrange\u001B[38;5;66;03m#拉格朗日函数\u001B[39;00m\n\u001B[1;32m----> 7\u001B[0m data\u001B[38;5;241m=\u001B[39m\u001B[43mpd\u001B[49m\u001B[38;5;241;43m.\u001B[39;49m\u001B[43mread_excel\u001B[49m\u001B[43m(\u001B[49m\u001B[38;5;124;43m'\u001B[39;49m\u001B[38;5;124;43m./数学建模/源数据/data.xls\u001B[39;49m\u001B[38;5;124;43m'\u001B[39;49m\u001B[43m)\u001B[49m\n\u001B[0;32m      8\u001B[0m \u001B[38;5;66;03m# data=data.reset_index(drop=True)\u001B[39;00m\n\u001B[0;32m      9\u001B[0m \u001B[38;5;28mprint\u001B[39m(data)\n",
      "File \u001B[1;32mD:\\Anaconda3\\lib\\site-packages\\pandas\\util\\_decorators.py:311\u001B[0m, in \u001B[0;36mdeprecate_nonkeyword_arguments.<locals>.decorate.<locals>.wrapper\u001B[1;34m(*args, **kwargs)\u001B[0m\n\u001B[0;32m    305\u001B[0m \u001B[38;5;28;01mif\u001B[39;00m \u001B[38;5;28mlen\u001B[39m(args) \u001B[38;5;241m>\u001B[39m num_allow_args:\n\u001B[0;32m    306\u001B[0m     warnings\u001B[38;5;241m.\u001B[39mwarn(\n\u001B[0;32m    307\u001B[0m         msg\u001B[38;5;241m.\u001B[39mformat(arguments\u001B[38;5;241m=\u001B[39marguments),\n\u001B[0;32m    308\u001B[0m         \u001B[38;5;167;01mFutureWarning\u001B[39;00m,\n\u001B[0;32m    309\u001B[0m         stacklevel\u001B[38;5;241m=\u001B[39mstacklevel,\n\u001B[0;32m    310\u001B[0m     )\n\u001B[1;32m--> 311\u001B[0m \u001B[38;5;28;01mreturn\u001B[39;00m func(\u001B[38;5;241m*\u001B[39margs, \u001B[38;5;241m*\u001B[39m\u001B[38;5;241m*\u001B[39mkwargs)\n",
      "File \u001B[1;32mD:\\Anaconda3\\lib\\site-packages\\pandas\\io\\excel\\_base.py:457\u001B[0m, in \u001B[0;36mread_excel\u001B[1;34m(io, sheet_name, header, names, index_col, usecols, squeeze, dtype, engine, converters, true_values, false_values, skiprows, nrows, na_values, keep_default_na, na_filter, verbose, parse_dates, date_parser, thousands, decimal, comment, skipfooter, convert_float, mangle_dupe_cols, storage_options)\u001B[0m\n\u001B[0;32m    455\u001B[0m \u001B[38;5;28;01mif\u001B[39;00m \u001B[38;5;129;01mnot\u001B[39;00m \u001B[38;5;28misinstance\u001B[39m(io, ExcelFile):\n\u001B[0;32m    456\u001B[0m     should_close \u001B[38;5;241m=\u001B[39m \u001B[38;5;28;01mTrue\u001B[39;00m\n\u001B[1;32m--> 457\u001B[0m     io \u001B[38;5;241m=\u001B[39m \u001B[43mExcelFile\u001B[49m\u001B[43m(\u001B[49m\u001B[43mio\u001B[49m\u001B[43m,\u001B[49m\u001B[43m \u001B[49m\u001B[43mstorage_options\u001B[49m\u001B[38;5;241;43m=\u001B[39;49m\u001B[43mstorage_options\u001B[49m\u001B[43m,\u001B[49m\u001B[43m \u001B[49m\u001B[43mengine\u001B[49m\u001B[38;5;241;43m=\u001B[39;49m\u001B[43mengine\u001B[49m\u001B[43m)\u001B[49m\n\u001B[0;32m    458\u001B[0m \u001B[38;5;28;01melif\u001B[39;00m engine \u001B[38;5;129;01mand\u001B[39;00m engine \u001B[38;5;241m!=\u001B[39m io\u001B[38;5;241m.\u001B[39mengine:\n\u001B[0;32m    459\u001B[0m     \u001B[38;5;28;01mraise\u001B[39;00m \u001B[38;5;167;01mValueError\u001B[39;00m(\n\u001B[0;32m    460\u001B[0m         \u001B[38;5;124m\"\u001B[39m\u001B[38;5;124mEngine should not be specified when passing \u001B[39m\u001B[38;5;124m\"\u001B[39m\n\u001B[0;32m    461\u001B[0m         \u001B[38;5;124m\"\u001B[39m\u001B[38;5;124man ExcelFile - ExcelFile already has the engine set\u001B[39m\u001B[38;5;124m\"\u001B[39m\n\u001B[0;32m    462\u001B[0m     )\n",
      "File \u001B[1;32mD:\\Anaconda3\\lib\\site-packages\\pandas\\io\\excel\\_base.py:1376\u001B[0m, in \u001B[0;36mExcelFile.__init__\u001B[1;34m(self, path_or_buffer, engine, storage_options)\u001B[0m\n\u001B[0;32m   1374\u001B[0m     ext \u001B[38;5;241m=\u001B[39m \u001B[38;5;124m\"\u001B[39m\u001B[38;5;124mxls\u001B[39m\u001B[38;5;124m\"\u001B[39m\n\u001B[0;32m   1375\u001B[0m \u001B[38;5;28;01melse\u001B[39;00m:\n\u001B[1;32m-> 1376\u001B[0m     ext \u001B[38;5;241m=\u001B[39m \u001B[43minspect_excel_format\u001B[49m\u001B[43m(\u001B[49m\n\u001B[0;32m   1377\u001B[0m \u001B[43m        \u001B[49m\u001B[43mcontent_or_path\u001B[49m\u001B[38;5;241;43m=\u001B[39;49m\u001B[43mpath_or_buffer\u001B[49m\u001B[43m,\u001B[49m\u001B[43m \u001B[49m\u001B[43mstorage_options\u001B[49m\u001B[38;5;241;43m=\u001B[39;49m\u001B[43mstorage_options\u001B[49m\n\u001B[0;32m   1378\u001B[0m \u001B[43m    \u001B[49m\u001B[43m)\u001B[49m\n\u001B[0;32m   1379\u001B[0m     \u001B[38;5;28;01mif\u001B[39;00m ext \u001B[38;5;129;01mis\u001B[39;00m \u001B[38;5;28;01mNone\u001B[39;00m:\n\u001B[0;32m   1380\u001B[0m         \u001B[38;5;28;01mraise\u001B[39;00m \u001B[38;5;167;01mValueError\u001B[39;00m(\n\u001B[0;32m   1381\u001B[0m             \u001B[38;5;124m\"\u001B[39m\u001B[38;5;124mExcel file format cannot be determined, you must specify \u001B[39m\u001B[38;5;124m\"\u001B[39m\n\u001B[0;32m   1382\u001B[0m             \u001B[38;5;124m\"\u001B[39m\u001B[38;5;124man engine manually.\u001B[39m\u001B[38;5;124m\"\u001B[39m\n\u001B[0;32m   1383\u001B[0m         )\n",
      "File \u001B[1;32mD:\\Anaconda3\\lib\\site-packages\\pandas\\io\\excel\\_base.py:1250\u001B[0m, in \u001B[0;36minspect_excel_format\u001B[1;34m(content_or_path, storage_options)\u001B[0m\n\u001B[0;32m   1247\u001B[0m \u001B[38;5;28;01mif\u001B[39;00m \u001B[38;5;28misinstance\u001B[39m(content_or_path, \u001B[38;5;28mbytes\u001B[39m):\n\u001B[0;32m   1248\u001B[0m     content_or_path \u001B[38;5;241m=\u001B[39m BytesIO(content_or_path)\n\u001B[1;32m-> 1250\u001B[0m \u001B[38;5;28;01mwith\u001B[39;00m \u001B[43mget_handle\u001B[49m\u001B[43m(\u001B[49m\n\u001B[0;32m   1251\u001B[0m \u001B[43m    \u001B[49m\u001B[43mcontent_or_path\u001B[49m\u001B[43m,\u001B[49m\u001B[43m \u001B[49m\u001B[38;5;124;43m\"\u001B[39;49m\u001B[38;5;124;43mrb\u001B[39;49m\u001B[38;5;124;43m\"\u001B[39;49m\u001B[43m,\u001B[49m\u001B[43m \u001B[49m\u001B[43mstorage_options\u001B[49m\u001B[38;5;241;43m=\u001B[39;49m\u001B[43mstorage_options\u001B[49m\u001B[43m,\u001B[49m\u001B[43m \u001B[49m\u001B[43mis_text\u001B[49m\u001B[38;5;241;43m=\u001B[39;49m\u001B[38;5;28;43;01mFalse\u001B[39;49;00m\n\u001B[0;32m   1252\u001B[0m \u001B[43m\u001B[49m\u001B[43m)\u001B[49m \u001B[38;5;28;01mas\u001B[39;00m handle:\n\u001B[0;32m   1253\u001B[0m     stream \u001B[38;5;241m=\u001B[39m handle\u001B[38;5;241m.\u001B[39mhandle\n\u001B[0;32m   1254\u001B[0m     stream\u001B[38;5;241m.\u001B[39mseek(\u001B[38;5;241m0\u001B[39m)\n",
      "File \u001B[1;32mD:\\Anaconda3\\lib\\site-packages\\pandas\\io\\common.py:795\u001B[0m, in \u001B[0;36mget_handle\u001B[1;34m(path_or_buf, mode, encoding, compression, memory_map, is_text, errors, storage_options)\u001B[0m\n\u001B[0;32m    786\u001B[0m         handle \u001B[38;5;241m=\u001B[39m \u001B[38;5;28mopen\u001B[39m(\n\u001B[0;32m    787\u001B[0m             handle,\n\u001B[0;32m    788\u001B[0m             ioargs\u001B[38;5;241m.\u001B[39mmode,\n\u001B[1;32m   (...)\u001B[0m\n\u001B[0;32m    791\u001B[0m             newline\u001B[38;5;241m=\u001B[39m\u001B[38;5;124m\"\u001B[39m\u001B[38;5;124m\"\u001B[39m,\n\u001B[0;32m    792\u001B[0m         )\n\u001B[0;32m    793\u001B[0m     \u001B[38;5;28;01melse\u001B[39;00m:\n\u001B[0;32m    794\u001B[0m         \u001B[38;5;66;03m# Binary mode\u001B[39;00m\n\u001B[1;32m--> 795\u001B[0m         handle \u001B[38;5;241m=\u001B[39m \u001B[38;5;28;43mopen\u001B[39;49m\u001B[43m(\u001B[49m\u001B[43mhandle\u001B[49m\u001B[43m,\u001B[49m\u001B[43m \u001B[49m\u001B[43mioargs\u001B[49m\u001B[38;5;241;43m.\u001B[39;49m\u001B[43mmode\u001B[49m\u001B[43m)\u001B[49m\n\u001B[0;32m    796\u001B[0m     handles\u001B[38;5;241m.\u001B[39mappend(handle)\n\u001B[0;32m    798\u001B[0m \u001B[38;5;66;03m# Convert BytesIO or file objects passed with an encoding\u001B[39;00m\n",
      "\u001B[1;31mFileNotFoundError\u001B[0m: [Errno 2] No such file or directory: './数学建模/源数据/data.xls'"
     ]
    }
   ],
   "source": [
    "# 缺少数据\n",
    "#coding=utf-8\n",
    "import warnings\n",
    "warnings.filterwarnings(\"ignore\")\n",
    "import pandas as pd\n",
    "from scipy.interpolate import lagrange#拉格朗日函数\n",
    "data=pd.read_excel('./数学建模/源数据/data.xls')\n",
    "# data=data.reset_index(drop=True)\n",
    "print(data)\n",
    "#自定义列向量插值函数\n",
    "def ploy(s,n,k=6):\n",
    "    y=s[list(range(n-k,n))+list(range(n+1,n+1+k))]#取数\n",
    "    y=y[y.notnull()]\n",
    "    return lagrange(y.index,list(y))(n)\n",
    "for i in data.columns:\n",
    "    for j in range(len(data)):\n",
    "        if(data[i].isnull())[j]:\n",
    "            data[i][j]=ploy(data[i],j)\n",
    "print(data)"
   ],
   "metadata": {
    "collapsed": false,
    "pycharm": {
     "name": "#%%\n"
    }
   }
  },
  {
   "cell_type": "markdown",
   "source": [
    "##### 二维插值（三维展示）"
   ],
   "metadata": {
    "collapsed": false,
    "pycharm": {
     "name": "#%% md\n"
    }
   }
  },
  {
   "cell_type": "code",
   "execution_count": null,
   "outputs": [],
   "source": [
    "import numpy as np\n",
    "from mpl_toolkits.mplot3d import Axes3D\n",
    "import matplotlib as mpl\n",
    "%matplotlib inline\n",
    "from scipy import interpolate\n",
    "import matplotlib.cm as cm\n",
    "import matplotlib.pyplot as plt\n",
    "\n",
    "def func(x, y):\n",
    "    return (x+y)*np.exp(-5.0*(x**2 + y**2))\n",
    "\n",
    "# X-Y轴分为20*20的网格\n",
    "x = np.linspace(-1, 1, 20)\n",
    "y = np.linspace(-1,1,20)\n",
    "x, y = np.meshgrid(x, y)#20*20的网格数据\n",
    "\n",
    "fvals = func(x,y) # 计算每个网格点上的函数值  15*15的值\n",
    "\n",
    "fig = plt.figure(figsize=(9, 6))\n",
    "#Draw sub-graph1\n",
    "ax=plt.subplot(1, 2, 1,projection = '3d')\n",
    "surf = ax.plot_surface(x, y, fvals, rstride=2, cstride=2, cmap='coolwarm',linewidth=0.5, antialiased=True)\n",
    "ax.set_xlabel('x')\n",
    "ax.set_ylabel('y')\n",
    "ax.set_zlabel('f(x, y)')\n",
    "plt.colorbar(surf, shrink=0.5, aspect=5)#标注\n",
    "\n",
    "#二维插值\n",
    "newfunc = interpolate.interp2d(x, y, fvals, kind='cubic')#newfunc为一个函数\n",
    "\n",
    "\n",
    "\n",
    "\n",
    "# 计算100*100的网格上的插值\n",
    "xnew = np.linspace(-1,1,100)#x\n",
    "ynew = np.linspace(-1,1,100)#y\n",
    "fnew = newfunc(xnew, ynew)#仅仅是y值   100*100的值  np.shape(fnew) is 100*100\n",
    "xnew, ynew = np.meshgrid(xnew, ynew)\n",
    "ax2=plt.subplot(1, 2, 2,projection = '3d')\n",
    "surf2 = ax2.plot_surface(xnew, ynew, fnew, rstride=2, cstride=2, cmap=plt.colormaps['coolwarm'],linewidth=0.5, antialiased=True)\n",
    "ax2.set_xlabel('xnew')\n",
    "ax2.set_ylabel('ynew')\n",
    "ax2.set_zlabel('fnew(x, y)')\n",
    "plt.colorbar(surf2, shrink=0.5, aspect=5)#标注\n",
    "\n",
    "plt.show()"
   ],
   "metadata": {
    "collapsed": false,
    "pycharm": {
     "name": "#%%\n"
    }
   }
  },
  {
   "cell_type": "markdown",
   "source": [
    "### 回归预测"
   ],
   "metadata": {
    "collapsed": false,
    "pycharm": {
     "name": "#%% md\n"
    }
   }
  },
  {
   "cell_type": "code",
   "execution_count": null,
   "outputs": [],
   "source": [
    "# 缺少数据\n",
    "import warnings\n",
    "warnings.filterwarnings(\"ignore\")\n",
    "from sklearn import neural_network\n",
    "from sklearn.svm import SVR\n",
    "from sklearn.tree import ExtraTreeRegressor\n",
    "from sklearn.linear_model import LinearRegression\n",
    "from sklearn.preprocessing import PolynomialFeatures,scale\n",
    "from sklearn.cross_decomposition import PLSRegression\n",
    "from sklearn.ensemble import BaggingRegressor,GradientBoostingRegressor,RandomForestRegressor,AdaBoostRegressor\n",
    "from scipy.interpolate import make_interp_spline\n",
    "from sklearn.metrics import mean_squared_error,r2_score,explained_variance_score\n",
    "import numpy as np\n",
    "import pandas as pd\n",
    "import matplotlib.pyplot as plt\n",
    "from matplotlib.pylab import mpl\n",
    "mpl.rcParams['font.sans-serif'] = ['SimHei']\n",
    "mpl.rcParams['axes.unicode_minus'] = False\n",
    "%matplotlib inline\n",
    "fig = plt.gcf()\n",
    "fig.set_size_inches(8,7)#设置图例大小\n",
    "data=pd.read_excel(\"./数学建模/源数据/data.xls\",index_col=0)\n",
    "data=pd.DataFrame(scale(data))#标准化\n",
    "i=5#前五项训练\n",
    "X_train=data.iloc[:i,:-1]\n",
    "Y_train=data.iloc[:i,-1]\n",
    "X_test=data.iloc[i:,:-1]\n",
    "Y_test=data.iloc[i:,-1]\n",
    "MLP=neural_network.MLPRegressor()\n",
    "svm=SVR(kernel='linear')\n",
    "tree=ExtraTreeRegressor()\n",
    "bagging=BaggingRegressor()\n",
    "GDBT=GradientBoostingRegressor()\n",
    "RF=RandomForestRegressor()\n",
    "AdaBoost=AdaBoostRegressor()\n",
    "LR=LinearRegression()\n",
    "PLS=PLSRegression(scale=True)#最小偏二乘回归，保留2个主成分\n",
    "T = np.array([6, 7, 8, 9, 10])\n",
    "xnew = np.linspace(T.min(),T.max(),300)\n",
    "\n",
    "ax = plt.gca()\n",
    "ax.spines['right'].set_color('none')#消去右边和顶部的实线\n",
    "ax.spines['top'].set_color('none')\n",
    "\n",
    "MLP.fit(X_train,Y_train)\n",
    "y_pred=MLP.predict(X_test)\n",
    "power_smooth = make_interp_spline(T,y_pred,xnew)\n",
    "plt.plot(xnew,power_smooth,'r-',label=\"BP神经网络\")\n",
    "plt.plot(T,y_pred,\"rp\")\n",
    "\n",
    "svm.fit(X_train,Y_train)\n",
    "y_pred1=svm.predict(X_test)\n",
    "power_smooth = make_interp_spline(T,y_pred1,xnew)\n",
    "plt.plot(xnew,power_smooth,'y-',label=\"高斯核支持向量机\")\n",
    "plt.plot(T,y_pred1,\"yD\")\n",
    "\n",
    "tree.fit(X_train,Y_train)\n",
    "y_pred2=tree.predict(X_test)\n",
    "power_smooth = make_interp_spline(T,y_pred2,xnew)\n",
    "plt.plot(xnew,power_smooth,'b-',label=\"决策树\")\n",
    "plt.plot(T,y_pred2,\"b+\")\n",
    "\n",
    "bagging.fit(X_train,Y_train)\n",
    "y_pred3=bagging.predict(X_test)\n",
    "power_smooth = make_interp_spline(T,y_pred3,xnew)\n",
    "plt.plot(xnew,power_smooth,'c-',label=\"bagging\")\n",
    "plt.plot(T,y_pred3,\"cH\")\n",
    "\n",
    "GDBT.fit(X_train,Y_train)\n",
    "y_pred4=GDBT.predict(X_test)\n",
    "power_smooth = make_interp_spline(T,y_pred4,xnew)\n",
    "plt.plot(xnew,power_smooth,'m-',label=\"GDBT\")\n",
    "plt.plot(T,y_pred4,\"mH\")\n",
    "\n",
    "# RF.fit(X_train,Y_train)\n",
    "# y_pred5=RF.predict(X_test)\n",
    "# power_smooth = spline(T,y_pred5,xnew)\n",
    "# plt.plot(xnew,power_smooth,'c-',label=\"随机森林\")\n",
    "# plt.plot(T,y_pred5,\"cH\")\n",
    "\n",
    "# AdaBoost.fit(X_train,Y_train)\n",
    "# y_pred6=AdaBoost.predict(X_test)\n",
    "# power_smooth = spline(T,y_pred6,xnew)\n",
    "# plt.plot(xnew,power_smooth,'c-',label=\"AdaBoost\")\n",
    "# plt.plot(T,y_pred6,\"cH\")\n",
    "\n",
    "PLS.fit(X_train,Y_train)\n",
    "y_pred_n=PLS.predict(X_test)\n",
    "power_smooth = make_interp_spline(T,y_pred_n,xnew)\n",
    "plt.plot(xnew,power_smooth/100,'m-',label=\"最小偏二乘回归\")\n",
    "plt.plot(T,y_pred_n/100,\"mH\")\n",
    "\n",
    "LR.fit(X_train,Y_train)\n",
    "y_pred7=LR.predict(X_test)\n",
    "power_smooth = make_interp_spline(T,y_pred7,xnew)\n",
    "plt.plot(xnew,power_smooth,'b-',label=\"线性回归\")\n",
    "plt.plot(T,y_pred7,\"b*\")\n",
    "\n",
    "quadratic_featurizer = PolynomialFeatures(degree=2)\n",
    "X_train_quadratic1 = quadratic_featurizer.fit_transform(X_train)\n",
    "X_test_quadratic1 = quadratic_featurizer.transform(X_test)\n",
    "regressor_quadratic = LinearRegression()\n",
    "regressor_quadratic.fit(X_train_quadratic1, Y_train)\n",
    "y_pred8=regressor_quadratic.predict(X_test_quadratic1)\n",
    "power_smooth = make_interp_spline(T,y_pred8,xnew)\n",
    "plt.plot(xnew,power_smooth,'g-',label=\"2次曲线拟合回归\")\n",
    "plt.plot(T,y_pred8,\"gh\")\n",
    "\n",
    "quadratic_featurizer = PolynomialFeatures(degree=3)\n",
    "X_train_quadratic = quadratic_featurizer.fit_transform(X_train)\n",
    "X_test_quadratic = quadratic_featurizer.transform(X_test)\n",
    "regressor_quadratic = LinearRegression()\n",
    "regressor_quadratic.fit(X_train_quadratic, Y_train)\n",
    "y_pred9=regressor_quadratic.predict(X_test_quadratic)\n",
    "power_smooth = make_interp_spline(T,y_pred9,xnew)\n",
    "plt.plot(xnew,power_smooth,'g-',label=\"3次曲线拟合回归\")\n",
    "plt.plot(T,y_pred9,\"gh\")\n",
    "\n",
    "power_smooth = make_interp_spline(T,(y_pred+y_pred1+y_pred2+y_pred3+y_pred4+y_pred7+y_pred8+y_pred9)/9,xnew)\n",
    "plt.plot(xnew,power_smooth,'k--',label=\"平均值\")\n",
    "plt.plot(T,(y_pred+y_pred1+y_pred2+y_pred3+y_pred4+y_pred7+y_pred8+y_pred9)/9,\"gh\")\n",
    "\n",
    "plt.title(\"预测\")\n",
    "plt.plot(T,Y_test,'k.',label=\"真实值\")\n",
    "# plt.legend(loc=\"best\",bbox_to_anchor=(1,1),fancybox=True,shadow=True)\n",
    "plt.legend(loc=\"best\",fancybox=True,shadow=True)\n",
    "plt.savefig(\"f:/desktop/预测.jpeg\",dpi=1000)#一定要放在plt.show()的前面，不然会一面空白\n",
    "plt.show()\n",
    "print('R2' ,r2_score(Y_test,y_pred1))\n",
    "print('均方误差（MSE） ' ,mean_squared_error(Y_test,y_pred1))\n",
    "print('可解释性方差 ' ,explained_variance_score(Y_test,y_pred1))"
   ],
   "metadata": {
    "collapsed": false,
    "pycharm": {
     "name": "#%%\n"
    }
   }
  },
  {
   "cell_type": "markdown",
   "source": [
    "## 图论"
   ],
   "metadata": {
    "collapsed": false,
    "pycharm": {
     "name": "#%% md\n"
    }
   }
  },
  {
   "cell_type": "code",
   "execution_count": null,
   "outputs": [],
   "source": [
    "%matplotlib inline\n",
    "import networkx as nx\n",
    "import matplotlib.pyplot as plt\n",
    "# creat a graph\n",
    "G=nx.Graph()#Right now G is empty"
   ],
   "metadata": {
    "collapsed": false,
    "pycharm": {
     "name": "#%%\n"
    }
   }
  },
  {
   "cell_type": "code",
   "execution_count": null,
   "outputs": [],
   "source": [
    "# Add a node\n",
    "\n",
    "G.add_node(1)\n",
    "\n",
    "G.add_nodes_from([2,3])# You can also add a list of nodes by passing a list argument"
   ],
   "metadata": {
    "collapsed": false,
    "pycharm": {
     "name": "#%%\n"
    }
   }
  },
  {
   "cell_type": "code",
   "execution_count": null,
   "outputs": [],
   "source": [
    "# Add edges\n",
    "G.add_edge(1,2)\n",
    "nx.draw_networkx(G)"
   ],
   "metadata": {
    "collapsed": false,
    "pycharm": {
     "name": "#%%\n"
    }
   }
  },
  {
   "cell_type": "code",
   "execution_count": null,
   "outputs": [],
   "source": [
    "e=(2,3)\n",
    "\n",
    "G.add_edge(*e)# *unpacks the tuple\n",
    "\n",
    "G.add_edges_from([(1,2),(1,3)]) # Just like nodes we can add edges from a list\n"
   ],
   "metadata": {
    "collapsed": false,
    "pycharm": {
     "name": "#%%\n"
    }
   }
  },
  {
   "cell_type": "markdown",
   "source": [],
   "metadata": {
    "collapsed": false,
    "pycharm": {
     "name": "#%% md\n"
    }
   }
  },
  {
   "cell_type": "code",
   "execution_count": null,
   "outputs": [],
   "source": [
    "# 生成图\n",
    "import matplotlib.pyplot as plt\n",
    "import networkx as nx\n",
    "H = nx.path_graph(10)\n",
    "G=nx.Graph()\n",
    "G.add_nodes_from(H)\n",
    "nx.draw_networkx(G, with_labels=True)\n",
    "plt.show()\n",
    "\n",
    "#添加边\n",
    "G=nx.Graph()\n",
    "\n",
    "G.add_edges_from([(1,2),(1,3),(2,4),(2,5),(3,6),(4,8),(5,8),(3,7)])\n",
    "nx.draw_networkx(G,with_labels=True,edge_color='b',node_color='g',node_size=1000)\n",
    "plt.show()\n",
    "\n",
    "# 加入权重\n",
    "import random\n",
    "G = nx.gnp_random_graph(10,0.3)\n",
    "for u,v,d in G.edges(data=True):\n",
    "    d['weight'] = random.random()\n",
    "\n",
    "edges,weights = zip(*nx.get_edge_attributes(G,'weight').items())\n",
    "\n",
    "pos = nx.spring_layout(G)\n",
    "nx.draw_networkx(G, pos, node_color='b', edgelist=edges, edge_color=weights, width=10.0, edge_cmap=plt.colormaps['Blues'])\n",
    "# plt.savefig('edges.png')\n",
    "plt.show()\n"
   ],
   "metadata": {
    "collapsed": false,
    "pycharm": {
     "name": "#%%\n"
    }
   }
  },
  {
   "cell_type": "markdown",
   "source": [
    "#### 无向图"
   ],
   "metadata": {
    "collapsed": false,
    "pycharm": {
     "name": "#%% md\n"
    }
   }
  },
  {
   "cell_type": "code",
   "execution_count": null,
   "outputs": [],
   "source": [
    "# 节点名称\n",
    "# nodes = [0,1,2,3,4,5,6,7,8]\n",
    "# 边列表，格式为：（节点，节点，权重）\n",
    "edgess = [(0,1,3), (0,7,8), (1,7,3), (1,2,8), (7,8,1), (7,6,6), (8,2,2),\n",
    "         (8,6,6), (2,5,4), (6,5,2), (2,3,7), (3,5,14), (3,4,9), (5,4,10)]\n",
    "# 创建Graph对象\n",
    "G = nx.Graph()\n",
    "# 添加节点\n",
    "# G.add_nodes_from(nodes)\n",
    "# 添加带权重的边\n",
    "G.add_weighted_edges_from(edgess)\n",
    "# 绘图并设置各种参数\n",
    "nx.draw_networkx(G, node_color='b', font_color='w', font_weight='bold')\n",
    "plt.show()"
   ],
   "metadata": {
    "collapsed": false,
    "pycharm": {
     "name": "#%%\n"
    }
   }
  },
  {
   "cell_type": "markdown",
   "source": [
    "#### 有向图"
   ],
   "metadata": {
    "collapsed": false,
    "pycharm": {
     "name": "#%% md\n"
    }
   }
  },
  {
   "cell_type": "code",
   "execution_count": null,
   "outputs": [],
   "source": [
    "# 节点名称\n",
    "# nodes = [0,1,2,3,4,5,6,7,8]\n",
    "# 边列表，格式为：（节点，节点，权重）\n",
    "edgess = [(0,1,3), (0,7,8), (1,7,3), (1,2,8), (7,8,1), (7,6,6), (8,2,2),\n",
    "         (8,6,6), (2,5,4), (6,5,2), (2,3,7), (3,5,14), (3,4,9), (5,4,10),(4,5,6)]\n",
    "# 创建Graph对象\n",
    "G = nx.DiGraph()\n",
    "# 添加节点\n",
    "# G.add_nodes_from(nodes)\n",
    "# 添加带权重的边\n",
    "G.add_weighted_edges_from(edgess)\n",
    "# 绘图并设置各种参数\n",
    "nx.draw_networkx(G, node_color='b', font_color='w', font_weight='bold')\n",
    "plt.show()"
   ],
   "metadata": {
    "collapsed": false,
    "pycharm": {
     "name": "#%%\n"
    }
   }
  },
  {
   "cell_type": "markdown",
   "source": [
    "#### 带权图"
   ],
   "metadata": {
    "collapsed": false,
    "pycharm": {
     "name": "#%% md\n"
    }
   }
  },
  {
   "cell_type": "code",
   "execution_count": null,
   "outputs": [],
   "source": [
    "# sns.set(style='white')\n",
    "\n",
    "# 节点名称\n",
    "nodes = [0,1,2,3,4,5,6,7,8]\n",
    "# 边列表，格式为：（节点，节点，权重）\n",
    "edgess = [(0,1,3), (0,7,8), (1,7,3), (1,2,8), (7,8,1), (7,6,6), (8,2,2),\n",
    "         (8,6,6), (2,5,4), (6,5,2), (2,3,7), (3,5,14), (3,4,9), (5,4,10)]\n",
    "# 创建Graph对象\n",
    "G = nx.Graph()\n",
    "# 添加节点\n",
    "G.add_nodes_from(nodes)\n",
    "# 添加带权重的边\n",
    "G.add_weighted_edges_from(edgess)\n",
    "# 获取节点位置信息\n",
    "pos=nx.spring_layout(G)\n",
    "print(pos)\n",
    "# 获取标签信息\n",
    "labels = nx.get_edge_attributes(G,'weight')\n",
    "\n",
    "# 绘图并设置各种参数\n",
    "# 添加节点\n",
    "nx.draw_networkx_nodes(G, pos,node_color='b')\n",
    "# 添加边\n",
    "nx.draw_networkx_edges(G, pos, width=3)\n",
    "# 添加节点标号\n",
    "nx.draw_networkx_labels(G, pos, font_size=12, font_color='w')\n",
    "# 绘制带权边\n",
    "nx.draw_networkx_edge_labels(G, pos=pos, edge_labels=labels, font_size=15)\n",
    "plt.show()"
   ],
   "metadata": {
    "collapsed": false,
    "pycharm": {
     "name": "#%%\n"
    }
   }
  },
  {
   "cell_type": "markdown",
   "source": [
    "#### 画五角星"
   ],
   "metadata": {
    "collapsed": false,
    "pycharm": {
     "name": "#%% md\n"
    }
   }
  },
  {
   "cell_type": "code",
   "execution_count": null,
   "outputs": [],
   "source": [
    "import networkx as nx\n",
    "import matplotlib.pyplot as plt\n",
    "\n",
    "G=nx.Graph()\n",
    "G.add_node(1)\n",
    "G.add_nodes_from([2,3,4,5])\n",
    "for i in range(5):\n",
    "    for j in range(i):\n",
    "        if(abs(i-j) not in (1,4)):\n",
    "            G.add_edge(i+1,j+1)\n",
    "nx.draw_networkx(G,\n",
    "                 with_labels=True,\n",
    "                 edge_color='b',\n",
    "                 pos=nx.circular_layout(G),\n",
    "                  # 这个是选项选择点的排列方式，具体可以用 help(nx.drawing.layout) 查看\n",
    "     # 主要有spring_layout  (default), random_layout, circle_layout, shell_layout\n",
    "     # 这里是环形排布，还有随机排列等其他方式\n",
    "                 node_color='r',\n",
    "                 node_size=1000,\n",
    "                 width=3#边的宽度\n",
    "                 )\n",
    "plt.show()"
   ],
   "metadata": {
    "collapsed": false,
    "pycharm": {
     "name": "#%%\n"
    }
   }
  },
  {
   "cell_type": "markdown",
   "source": [
    "#### 多层感知机"
   ],
   "metadata": {
    "collapsed": false,
    "pycharm": {
     "name": "#%% md\n"
    }
   }
  },
  {
   "cell_type": "code",
   "execution_count": null,
   "outputs": [],
   "source": [
    "import matplotlib.pyplot as plt\n",
    "import networkx as nx\n",
    "left, right, bottom, top, layer_sizes = .1, .9, .1, .9, [4, 7, 7, 2]\n",
    "# 网络离上下左右的距离\n",
    "# layter_sizes可以自己调整\n",
    "import random\n",
    "G = nx.Graph()\n",
    "v_spacing = (top - bottom)/float(max(layer_sizes))\n",
    "h_spacing = (right - left)/float(len(layer_sizes) - 1)\n",
    "node_count = 0\n",
    "for i, v in enumerate(layer_sizes):\n",
    "    layer_top = v_spacing*(v-1)/2. + (top + bottom)/2.\n",
    "    for j in range(v):\n",
    "        G.add_node(node_count, pos=(left + i*h_spacing, layer_top - j*v_spacing))\n",
    "        node_count += 1\n",
    "# 这上面的数字调整我想了好半天，汗\n",
    "for x, (left_nodes, right_nodes) in enumerate(zip(layer_sizes[:-1], layer_sizes[1:])):\n",
    "    for i in range(left_nodes):\n",
    "        for j in range(right_nodes):\n",
    "            G.add_edge(i+sum(layer_sizes[:x]), j+sum(layer_sizes[:x+1]))\n",
    "# 慢慢研究吧\n",
    "pos=nx.get_node_attributes(G,'pos')\n",
    "# 把每个节点中的位置pos信息导出来\n",
    "nx.draw_networkx(G, pos,\n",
    "        node_color=range(node_count),\n",
    "        with_labels=True,\n",
    "        node_size=200,\n",
    "        edge_color=[random.random() for i in range(len(G.edges))],\n",
    "        width=3,\n",
    "        cmap=plt.colormaps['Dark2'], # matplotlib的调色板，可以搜搜，很多颜色呢\n",
    "        edge_cmap=plt.colormaps['Blues']\n",
    "       )\n",
    "plt.show()"
   ],
   "metadata": {
    "collapsed": false,
    "pycharm": {
     "name": "#%%\n"
    }
   }
  },
  {
   "cell_type": "markdown",
   "source": [
    "#### 最短路径"
   ],
   "metadata": {
    "collapsed": false,
    "pycharm": {
     "name": "#%% md\n"
    }
   }
  },
  {
   "cell_type": "markdown",
   "source": [
    "##### 生成无向图"
   ],
   "metadata": {
    "collapsed": false,
    "pycharm": {
     "name": "#%% md\n"
    }
   }
  },
  {
   "cell_type": "code",
   "execution_count": null,
   "outputs": [],
   "source": [
    "# 节点名称\n",
    "# nodes = [0,1,2,3,4,5,6,7,8]\n",
    "# 边列表，格式为：（节点，节点，权重）\n",
    "edgess = [(0,1,3), (0,7,8), (1,7,3), (1,2,8), (7,8,1), (7,6,6), (8,2,2),\n",
    "         (8,6,6), (2,5,4), (6,5,2), (2,3,7), (3,5,14), (3,4,9), (5,4,10)]\n",
    "# 创建Graph对象\n",
    "G = nx.Graph()\n",
    "# 添加节点\n",
    "# G.add_nodes_from(nodes)\n",
    "# 添加带权重的边\n",
    "G.add_weighted_edges_from(edgess)\n",
    "# 绘图并设置各种参数\n",
    "nx.draw_networkx(G, node_color='b', font_color='w', font_weight='bold')\n",
    "plt.show()"
   ],
   "metadata": {
    "collapsed": false,
    "pycharm": {
     "name": "#%%\n"
    }
   }
  },
  {
   "cell_type": "markdown",
   "source": [
    "##### 0-4间最短路径"
   ],
   "metadata": {
    "collapsed": false,
    "pycharm": {
     "name": "#%% md\n"
    }
   }
  },
  {
   "cell_type": "code",
   "execution_count": null,
   "outputs": [],
   "source": [
    "# method参数默认为'dijkstra'，当边有向时，可以选择'bellman-ford'\n",
    "# 不指定source时返回任意两点间最短路\n",
    "p = nx.shortest_path(G, source=0, weight='weight', method='dijkstra')\n",
    "print('0到4的最短路径为:',p[4])\n",
    "d = nx.shortest_path_length(G, source=0, target=4, weight='weight')\n",
    "print('0到4的最短距离为:',d)"
   ],
   "metadata": {
    "collapsed": false,
    "pycharm": {
     "name": "#%%\n"
    }
   }
  },
  {
   "cell_type": "markdown",
   "source": [
    "###### 方法二"
   ],
   "metadata": {
    "collapsed": false,
    "pycharm": {
     "name": "#%% md\n"
    }
   }
  },
  {
   "cell_type": "code",
   "execution_count": null,
   "outputs": [],
   "source": [
    "# 第二个参数为'4'时，返回各个节点到'4'的最短路径\n",
    "path=nx.single_source_dijkstra_path(G, 4, weight='weight')\n",
    "\n",
    "# 第二个参数为'4'时，返回各个节点到'4'的最短路径的距离\n",
    "length=nx.single_source_dijkstra_path_length(G, 4, weight='weight')\n",
    "\n",
    "\n",
    "print(path)\n",
    "print('----------------------------------------------------')\n",
    "print(length)"
   ],
   "metadata": {
    "collapsed": false,
    "pycharm": {
     "name": "#%%\n"
    }
   }
  },
  {
   "cell_type": "markdown",
   "source": [
    "##### 高亮最短距离"
   ],
   "metadata": {
    "collapsed": false,
    "pycharm": {
     "name": "#%% md\n"
    }
   }
  },
  {
   "cell_type": "code",
   "execution_count": null,
   "outputs": [],
   "source": [
    "Y = nx.Graph()\n",
    "edgess = [(0,1,3), (0,7,8), (1,7,3), (1,2,8), (7,8,1), (7,6,6), (8,2,2),\n",
    "         (8,6,6), (2,5,4), (6,5,2), (2,3,7), (3,5,14), (3,4,9), (5,4,10)]\n",
    "# 添加带权边\n",
    "for i in edgess:\n",
    "    Y.add_edge(i[0], i[1], weight=i[2])"
   ],
   "metadata": {
    "collapsed": false,
    "pycharm": {
     "name": "#%%\n"
    }
   }
  },
  {
   "cell_type": "code",
   "execution_count": null,
   "outputs": [],
   "source": [
    "edgelists = []\n",
    "\n",
    "# p[4]为0->4最短路径所经过的节点\n",
    "point = p[4]\n",
    "for i in range(len(point) - 1):\n",
    "    edgelists.append((point[i], point[i+1]))\n",
    "# print(edgelists)\n",
    "\n",
    "# 设置节点\n",
    "pos=nx.spring_layout(Y)\n",
    "nx.draw_networkx_nodes(Y,pos,node_size=600)\n",
    "\n",
    "# 绘画所有边\n",
    "nx.draw_networkx_edges(Y, pos)\n",
    "# 绘画需要高亮的边\n",
    "nx.draw_networkx_edges(Y, pos, edgelist=edgelists, edge_color='y', width=3)\n",
    "# 显示并设置标号\n",
    "nx.draw_networkx_labels(Y,pos,font_size=15,font_family='sans-serif', font_color='w')\n",
    "\n",
    "# 显示坐标轴\n",
    "plt.axis('on')\n",
    "plt.show()"
   ],
   "metadata": {
    "collapsed": false,
    "pycharm": {
     "name": "#%%\n"
    }
   }
  },
  {
   "cell_type": "code",
   "execution_count": null,
   "outputs": [],
   "source": [
    "predecessors, _ = nx.floyd_warshall_predecessor_and_distance(G)\n",
    "pred = nx.reconstruct_path(0,4,predecessors)\n",
    "print('0到4的最短路径为：', pred)\n"
   ],
   "metadata": {
    "collapsed": false,
    "pycharm": {
     "name": "#%%\n"
    }
   }
  },
  {
   "cell_type": "code",
   "execution_count": null,
   "outputs": [],
   "source": [
    "# method参数默认为'dijkstra'，当边有向时，可以选择'bellman-ford'\n",
    "# 不指定source时返回任意两点间最短路\n",
    "p = nx.shortest_path(G, source=0, weight='weight', method='dijkstra')\n",
    "print('0到4的最短路径为:',p[4])\n",
    "d = nx.shortest_path_length(G, source=0, target=4, weight='weight')\n",
    "print('0到4的最短距离为:',d)"
   ],
   "metadata": {
    "collapsed": false,
    "pycharm": {
     "name": "#%%\n"
    }
   }
  },
  {
   "cell_type": "code",
   "execution_count": null,
   "outputs": [],
   "source": [
    "distance = nx.floyd_warshall_numpy(G)\n",
    "dist = distance[4,0]\n",
    "print('0到4的最短距离为：', dist)"
   ],
   "metadata": {
    "collapsed": false,
    "pycharm": {
     "name": "#%%\n"
    }
   }
  },
  {
   "cell_type": "markdown",
   "source": [
    "##### 任意两点间的最短距离"
   ],
   "metadata": {
    "collapsed": false,
    "pycharm": {
     "name": "#%% md\n"
    }
   }
  },
  {
   "cell_type": "code",
   "execution_count": null,
   "outputs": [],
   "source": [
    "p = nx.shortest_path(G,  weight='weight', method='dijkstra')\n",
    "for i in range(9):\n",
    "    print('节点%d到其他节点的最短距离：' % i, p[i])"
   ],
   "metadata": {
    "collapsed": false,
    "pycharm": {
     "name": "#%%\n"
    }
   }
  },
  {
   "cell_type": "code",
   "execution_count": null,
   "outputs": [],
   "source": [
    "d = nx.shortest_path_length(G, weight='weight')\n",
    "d = dict(d)\n",
    "for i in range(9):\n",
    "    print('节点%d到其他节点的最短距离：' % i, d[i])"
   ],
   "metadata": {
    "collapsed": false,
    "pycharm": {
     "name": "#%%\n"
    }
   }
  },
  {
   "cell_type": "markdown",
   "source": [
    "### 示例"
   ],
   "metadata": {
    "collapsed": false,
    "pycharm": {
     "name": "#%% md\n"
    }
   }
  },
  {
   "cell_type": "markdown",
   "source": [
    "#### 创建图"
   ],
   "metadata": {
    "collapsed": false,
    "pycharm": {
     "name": "#%% md\n"
    }
   }
  },
  {
   "cell_type": "code",
   "execution_count": null,
   "outputs": [],
   "source": [
    "import matplotlib as mpl\n",
    "import matplotlib.pyplot as plt\n",
    "import networkx as nx\n",
    "\n",
    "G = nx.generators.directed.random_k_out_graph(10, 3, 0.5)\n",
    "pos = nx.layout.spring_layout(G)\n",
    "\n",
    "node_sizes = [3 + 10 * i for i in range(len(G))]\n",
    "M = G.number_of_edges()\n",
    "edge_colors = range(2, M + 2)\n",
    "edge_alphas = [(5 + i) / (M + 4) for i in range(M)]\n",
    "\n",
    "\n",
    "fig, ax = plt.subplots(figsize=(12, 12))\n",
    "nodes = nx.draw_networkx_nodes(G, pos, node_size=node_sizes, node_color='blue', ax=ax)\n",
    "edges = nx.draw_networkx_edges(G, pos, node_size=node_sizes, arrowstyle='->',\n",
    "                               arrowsize=10, edge_color=edge_colors,\n",
    "                               edge_cmap=plt.cm.Blues, width=2,\n",
    "                               connectionstyle='arc3, rad=0.1', ax=ax)\n",
    "# set alpha value for each edge\n",
    "for i in range(M):\n",
    "    edges[i].set_alpha(edge_alphas[i])\n",
    "\n",
    "ax.set_axis_off()"
   ],
   "metadata": {
    "collapsed": false,
    "pycharm": {
     "name": "#%%\n"
    }
   }
  },
  {
   "cell_type": "markdown",
   "source": [
    "#### 带权图并计算最短路径"
   ],
   "metadata": {
    "collapsed": false,
    "pycharm": {
     "name": "#%% md\n"
    }
   }
  },
  {
   "cell_type": "code",
   "execution_count": null,
   "outputs": [],
   "source": [
    "import networkx as nx\n",
    "import matplotlib.pyplot as plt\n",
    "import numpy as np\n",
    "\n",
    "plt.figure(figsize=(10,10))\n",
    "nodes = np.arange(1,10)\n",
    "edges = [(1,2,6),(1,3,3),(1,4,1),(3,2,2),(3,4,2),(2,5,1),(5,4,6),\n",
    "         (4,6,10),(5,6,4),(6,5,10),(6,7,2),(5,7,3),(5,8,6),(7,8,4),\n",
    "         (9,2,5),(9,8,3)]\n",
    "\n",
    "G = nx.DiGraph()\n",
    "\n",
    "G.add_nodes_from(nodes)\n",
    "# 添加带权重的边\n",
    "G.add_weighted_edges_from(edges)\n",
    "# 获取节点位置信息\n",
    "pos=nx.spring_layout(G)\n",
    "# 获取标签信息\n",
    "labels = nx.get_edge_attributes(G,'weight')\n",
    "\n",
    "# 绘图并设置各种参数\n",
    "# 添加节点\n",
    "nx.draw_networkx_nodes(G, pos,node_color='b')\n",
    "# 添加边\n",
    "nx.draw_networkx_edges(G, pos, width=3,connectionstyle='arc3, rad=0.1')\n",
    "# 添加节点标号\n",
    "nx.draw_networkx_labels(G, pos, font_size=12, font_color='w')\n",
    "# 绘制带权边\n",
    "nx.draw_networkx_edge_labels(G, pos=pos, edge_labels=labels, font_size=15)\n",
    "plt.show()\n",
    "# method参数默认为'dijkstra'，当边有向时，可以选择'bellman-ford'\n",
    "# 不指定source时返回任意两点间最短路\n",
    "p = nx.shortest_path(G, source=1,target=8, weight='weight', method='dijkstra')\n",
    "print('0到4的最短路径为:',p)\n",
    "d = nx.shortest_path_length(G, source=1, target=8, weight='weight')\n",
    "print('0到4的最短距离为:',d)"
   ],
   "metadata": {
    "collapsed": false,
    "pycharm": {
     "name": "#%%\n"
    }
   }
  },
  {
   "cell_type": "code",
   "execution_count": null,
   "outputs": [],
   "source": [],
   "metadata": {
    "collapsed": false,
    "pycharm": {
     "name": "#%%\n"
    }
   }
  }
 ],
 "metadata": {
  "kernelspec": {
   "display_name": "Python 3",
   "language": "python",
   "name": "python3"
  },
  "language_info": {
   "codemirror_mode": {
    "name": "ipython",
    "version": 2
   },
   "file_extension": ".py",
   "mimetype": "text/x-python",
   "name": "python",
   "nbconvert_exporter": "python",
   "pygments_lexer": "ipython2",
   "version": "2.7.6"
  }
 },
 "nbformat": 4,
 "nbformat_minor": 0
}