{
 "cells": [
  {
   "cell_type": "markdown",
   "metadata": {
    "pycharm": {
     "name": "#%% md\n"
    }
   },
   "source": []
  },
  {
   "cell_type": "markdown",
   "metadata": {
    "pycharm": {
     "name": "#%% md\n"
    }
   },
   "source": [
    "## 规划类"
   ]
  },
  {
   "cell_type": "markdown",
   "metadata": {
    "pycharm": {
     "name": "#%% md\n"
    }
   },
   "source": [
    "### 线性规划"
   ]
  },
  {
   "cell_type": "markdown",
   "metadata": {
    "pycharm": {
     "name": "#%% md\n"
    }
   },
   "source": [
    "#### PULP"
   ]
  },
  {
   "cell_type": "markdown",
   "metadata": {
    "pycharm": {
     "name": "#%% md\n"
    }
   },
   "source": [
    "![](picture/img.png)"
   ]
  },
  {
   "cell_type": "code",
   "execution_count": 2,
   "metadata": {
    "pycharm": {
     "name": "#%%\n"
    }
   },
   "outputs": [],
   "source": [
    "import pulp"
   ]
  },
  {
   "cell_type": "code",
   "execution_count": 3,
   "metadata": {
    "collapsed": true,
    "pycharm": {
     "name": "#%%\n"
    }
   },
   "outputs": [
    {
     "name": "stdout",
     "output_type": "stream",
     "text": [
      "Status: Optimal\n",
      "x1 = 6.4285714\n",
      "x2 = 0.57142857\n",
      "x3 = 0.0\n",
      "F(x) =  14.57142851\n"
     ]
    }
   ],
   "source": [
    "# 定义规划问题\n",
    "MyProbLP = pulp.LpProblem(\"LPProbDemo1\", sense=pulp.LpMaximize)\n",
    "\n",
    "# 定义决策变量\n",
    "x1 = pulp.LpVariable('x1', lowBound=0, upBound=7, cat='Continuous')\n",
    "x2 = pulp.LpVariable('x2', lowBound=0, upBound=7, cat='Continuous')\n",
    "x3 = pulp.LpVariable('x3', lowBound=0, upBound=7, cat='Continuous')\n",
    "\n",
    "# 设置目标函数\n",
    "MyProbLP += 2*x1 + 3*x2 - 5*x3\n",
    "\n",
    "# 添加约束条件\n",
    "MyProbLP += (2*x1 - 5*x2 + x3 >= 10)  # 不等式约束\n",
    "MyProbLP += (x1 + 3*x2 + x3 <= 12)  # 不等式约束\n",
    "MyProbLP += (x1 + x2 + x3 == 7)  # 等式约束\n",
    "\n",
    "# 求解\n",
    "MyProbLP.solve()\n",
    "print(\"Status:\", pulp.LpStatus[MyProbLP.status]) # 输出求解状态\n",
    "for v in MyProbLP.variables():\n",
    "    print(v.name, \"=\", v.varValue)  # 输出每个变量的最优值\n",
    "print(\"F(x) = \", pulp.value(MyProbLP.objective))  #输出最优解的目标函数值\n",
    "\n"
   ]
  },
  {
   "cell_type": "markdown",
   "metadata": {
    "pycharm": {
     "name": "#%% md\n"
    }
   },
   "source": [
    "##### 运输问题"
   ]
  },
  {
   "cell_type": "markdown",
   "metadata": {
    "pycharm": {
     "name": "#%% md\n"
    }
   },
   "source": [
    "![](picture/img_1.png)"
   ]
  },
  {
   "cell_type": "code",
   "execution_count": 5,
   "metadata": {
    "pycharm": {
     "name": "#%%\n"
    }
   },
   "outputs": [
    {
     "name": "stdout",
     "output_type": "stream",
     "text": [
      "最大值为(res[\"objective\"])\n",
      "各变量的值为：\n",
      "[[0.0, 0.0, 0.0, 76.0, 0.0, 0.0],\n",
      " [0.0, 0.0, 0.0, 88.0, 0.0, 0.0],\n",
      " [2.0, 94.0, 0.0, 0.0, 0.0, 0.0],\n",
      " [40.0, 0.0, 0.0, 0.0, 0.0, 0.0]]\n"
     ]
    },
    {
     "name": "stderr",
     "output_type": "stream",
     "text": [
      "D:\\Anaconda3\\lib\\site-packages\\pulp\\pulp.py:1199: UserWarning: Spaces are not permitted in the name. Converted to '_'\n",
      "  warnings.warn(\"Spaces are not permitted in the name. Converted to '_'\")\n"
     ]
    }
   ],
   "source": [
    "import pulp\n",
    "import numpy as np\n",
    "from pprint import pprint\n",
    "\n",
    "def transportation_problem(costs,x_max,y_max):\n",
    "    row = len(costs)\n",
    "    col = len(costs[0])\n",
    "    prob = pulp.LpProblem('Transportation Problem',sense=pulp.LpMaximize)\n",
    "    var = [[pulp.LpVariable(f'x{i}{j}',lowBound=0,cat=pulp.LpInteger) for j in range(col)] for i in range(row)]\n",
    "    flatten = lambda x: [y for l in x for y in flatten(l)] if type(x) is list else [x]\n",
    "    # LpDot 向量点乘\n",
    "    prob += pulp.lpDot(flatten(var),costs.flatten())\n",
    "    for i in range(row):\n",
    "        prob += (pulp.lpSum(var[i])<=x_max[i])\n",
    "    for j in range(col):\n",
    "        prob += (pulp.lpSum(([var[i][j]] for i in range(row))) <=y_max[j])\n",
    "        prob.solve()\n",
    "        return {'objective':pulp.value(prob.objective),'var':[[pulp.value(var[i][j])for j in range(col)]for i in range(row)]}\n",
    "\n",
    "if __name__ == '__main__':\n",
    "    costs = np.array([[500,550,630,1000,800,700],\n",
    "                      [800,700,600,950,900,930],\n",
    "                      [1000,960,840,650,600,700],\n",
    "                      [1200,1040,980,960,880,780]])\n",
    "    max_plant = [76,88,96,40]\n",
    "    max_cultivation = [42,56,44,39,60,59]\n",
    "    res = transportation_problem(costs,max_plant,max_cultivation)\n",
    "    print(f'最大值为(res[\"objective\"])')\n",
    "    print('各变量的值为：')\n",
    "    pprint(res['var'])"
   ]
  },
  {
   "cell_type": "markdown",
   "metadata": {
    "pycharm": {
     "name": "#%% md\n"
    }
   },
   "source": [
    "### 整数规划\n",
    "\n",
    "* 先去除整数约束\n",
    "* 分支定界"
   ]
  },
  {
   "cell_type": "markdown",
   "metadata": {
    "pycharm": {
     "name": "#%% md\n"
    }
   },
   "source": []
  },
  {
   "cell_type": "code",
   "execution_count": 25,
   "metadata": {
    "pycharm": {
     "name": "#%%\n"
    }
   },
   "outputs": [
    {
     "ename": "TypeError",
     "evalue": "'NoneType' object is not iterable",
     "output_type": "error",
     "traceback": [
      "\u001b[1;31m---------------------------------------------------------------------------\u001b[0m",
      "\u001b[1;31mTypeError\u001b[0m                                 Traceback (most recent call last)",
      "Cell \u001b[1;32mIn[25], line 39\u001b[0m\n\u001b[0;32m     37\u001b[0m Aeq\u001b[38;5;241m=\u001b[39m[[\u001b[38;5;241m0\u001b[39m,\u001b[38;5;241m0\u001b[39m,\u001b[38;5;241m0\u001b[39m]]\n\u001b[0;32m     38\u001b[0m beq \u001b[38;5;241m=\u001b[39m [\u001b[38;5;241m0\u001b[39m]\n\u001b[1;32m---> 39\u001b[0m \u001b[38;5;28mprint\u001b[39m(\u001b[43mintegerPro\u001b[49m\u001b[43m(\u001b[49m\u001b[43mc\u001b[49m\u001b[43m,\u001b[49m\u001b[43m \u001b[49m\u001b[43mA\u001b[49m\u001b[43m,\u001b[49m\u001b[43m \u001b[49m\u001b[43mb\u001b[49m\u001b[43m,\u001b[49m\u001b[43m \u001b[49m\u001b[43mAeq\u001b[49m\u001b[43m,\u001b[49m\u001b[43m \u001b[49m\u001b[43mbeq\u001b[49m\u001b[43m)\u001b[49m)\n",
      "Cell \u001b[1;32mIn[25], line 29\u001b[0m, in \u001b[0;36mintegerPro\u001b[1;34m(c, A, b, Aeq, beq, t)\u001b[0m\n\u001b[0;32m     27\u001b[0m newB2\u001b[38;5;241m.\u001b[39mappend(math\u001b[38;5;241m.\u001b[39mfloor(bestX[ind]))\n\u001b[0;32m     28\u001b[0m r1 \u001b[38;5;241m=\u001b[39m integerPro(c,newA1,newB1,Aeq,beq)\n\u001b[1;32m---> 29\u001b[0m r2 \u001b[38;5;241m=\u001b[39m \u001b[43mintegerPro\u001b[49m\u001b[43m(\u001b[49m\u001b[43mc\u001b[49m\u001b[43m,\u001b[49m\u001b[43mnewA2\u001b[49m\u001b[43m,\u001b[49m\u001b[43mnewB2\u001b[49m\u001b[43m,\u001b[49m\u001b[43mAeq\u001b[49m\u001b[43m,\u001b[49m\u001b[43mbeq\u001b[49m\u001b[43m)\u001b[49m\n\u001b[0;32m     30\u001b[0m \u001b[38;5;28;01mif\u001b[39;00m r1[\u001b[38;5;241m0\u001b[39m]\u001b[38;5;241m<\u001b[39mr2[\u001b[38;5;241m0\u001b[39m]:\n\u001b[0;32m     31\u001b[0m     \u001b[38;5;28;01mreturn\u001b[39;00m r1\n",
      "Cell \u001b[1;32mIn[25], line 11\u001b[0m, in \u001b[0;36mintegerPro\u001b[1;34m(c, A, b, Aeq, beq, t)\u001b[0m\n\u001b[0;32m      9\u001b[0m \u001b[38;5;28;01melse\u001b[39;00m:\n\u001b[0;32m     10\u001b[0m     bestX \u001b[38;5;241m=\u001b[39m res\u001b[38;5;241m.\u001b[39mx\n\u001b[1;32m---> 11\u001b[0m bestVal \u001b[38;5;241m=\u001b[39m \u001b[38;5;28msum\u001b[39m([x\u001b[38;5;241m*\u001b[39my \u001b[38;5;28;01mfor\u001b[39;00m x,y \u001b[38;5;129;01min\u001b[39;00m \u001b[38;5;28;43mzip\u001b[39;49m\u001b[43m(\u001b[49m\u001b[43mc\u001b[49m\u001b[43m,\u001b[49m\u001b[43mbestX\u001b[49m\u001b[43m)\u001b[49m])\n\u001b[0;32m     12\u001b[0m \u001b[38;5;28;01mif\u001b[39;00m \u001b[38;5;28mall\u001b[39m(((x\u001b[38;5;241m-\u001b[39mmath\u001b[38;5;241m.\u001b[39mfloor(x))\u001b[38;5;241m<\u001b[39mt \u001b[38;5;129;01mor\u001b[39;00m (math\u001b[38;5;241m.\u001b[39mceil(x)\u001b[38;5;241m-\u001b[39mx)\u001b[38;5;241m<\u001b[39mt) \u001b[38;5;28;01mfor\u001b[39;00m x \u001b[38;5;129;01min\u001b[39;00m bestX):\n\u001b[0;32m     13\u001b[0m     \u001b[38;5;28;01mreturn\u001b[39;00m bestVal,bestX\n",
      "\u001b[1;31mTypeError\u001b[0m: 'NoneType' object is not iterable"
     ]
    }
   ],
   "source": [
    "# 分支定界代码\n",
    "import math\n",
    "from scipy.optimize import linprog\n",
    "import sys\n",
    "def integerPro(c,A,b,Aeq,beq,t=1.0E-12):\n",
    "    res = linprog(c,A_ub=A,b_ub=b,A_eq=Aeq,b_eq=beq)\n",
    "    if(type(res.x)is float):\n",
    "        bestX = [sys.maxsize]*len(c)\n",
    "    else:\n",
    "        bestX = res.x\n",
    "    bestVal = sum([x*y for x,y in zip(c,bestX)])\n",
    "    if all(((x-math.floor(x))<t or (math.ceil(x)-x)<t) for x in bestX):\n",
    "        return bestVal,bestX\n",
    "    else:\n",
    "        ind = [i for i,x in enumerate(bestX)if (x-math.floor(x))>t and (math.ceil(x)-x)>t] [0]\n",
    "        newCon1 = [0]*len(A[0])\n",
    "        newCon2 = [0]*len(A[0])\n",
    "        newCon1[ind] = -1\n",
    "        newCon2[ind] = 1\n",
    "        newA1 = A.copy()\n",
    "        newA2 = A.copy()\n",
    "        newA1.append(newCon1)\n",
    "        newA2.append(newCon2)\n",
    "        newB1 = b.copy()\n",
    "        newB2 = b.copy()\n",
    "        newB1.append(-math.ceil(bestX[ind]))\n",
    "        newB2.append(math.floor(bestX[ind]))\n",
    "        r1 = integerPro(c,newA1,newB1,Aeq,beq)\n",
    "        r2 = integerPro(c,newA2,newB2,Aeq,beq)\n",
    "        if r1[0]<r2[0]:\n",
    "            return r1\n",
    "        else:\n",
    "            return r2\n",
    "c = [3,4,1]\n",
    "A=[[-1,-6,-2],[-2,0,0]]\n",
    "b=[-5,-3]\n",
    "Aeq=[[0,0,0]]\n",
    "beq = [0]\n",
    "print(integerPro(c, A, b, Aeq, beq))"
   ]
  },
  {
   "cell_type": "markdown",
   "metadata": {
    "pycharm": {
     "name": "#%% md\n"
    }
   },
   "source": [
    "#### cvxpy"
   ]
  },
  {
   "cell_type": "code",
   "execution_count": 37,
   "metadata": {
    "pycharm": {
     "name": "#%%\n"
    }
   },
   "outputs": [
    {
     "ename": "ImportError",
     "evalue": "DLL load failed while importing base: 找不到指定的模块。",
     "output_type": "error",
     "traceback": [
      "\u001b[1;31m---------------------------------------------------------------------------\u001b[0m",
      "\u001b[1;31mImportError\u001b[0m                               Traceback (most recent call last)",
      "Cell \u001b[1;32mIn[37], line 2\u001b[0m\n\u001b[0;32m      1\u001b[0m \u001b[38;5;28;01mimport\u001b[39;00m \u001b[38;5;21;01mnumpy\u001b[39;00m\n\u001b[1;32m----> 2\u001b[0m \u001b[38;5;28;01mimport\u001b[39;00m \u001b[38;5;21;01mcvxopt\u001b[39;00m \u001b[38;5;66;03m#必须要引用\u001b[39;00m\n\u001b[0;32m      3\u001b[0m \u001b[38;5;28;01mimport\u001b[39;00m \u001b[38;5;21;01mcvxpy\u001b[39;00m \u001b[38;5;28;01mas\u001b[39;00m \u001b[38;5;21;01mcp\u001b[39;00m\n\u001b[0;32m      4\u001b[0m \u001b[38;5;28;01mfrom\u001b[39;00m \u001b[38;5;21;01mnumpy\u001b[39;00m \u001b[38;5;28;01mimport\u001b[39;00m array\n",
      "File \u001b[1;32mD:\\Anaconda3\\lib\\site-packages\\cvxopt\\__init__.py:52\u001b[0m\n\u001b[0;32m     50\u001b[0m \u001b[38;5;28;01mimport\u001b[39;00m \u001b[38;5;21;01msys\u001b[39;00m\n\u001b[0;32m     51\u001b[0m \u001b[38;5;28;01mif\u001b[39;00m sys\u001b[38;5;241m.\u001b[39mplatform \u001b[38;5;241m==\u001b[39m \u001b[38;5;124m'\u001b[39m\u001b[38;5;124mwin32\u001b[39m\u001b[38;5;124m'\u001b[39m:\n\u001b[1;32m---> 52\u001b[0m     \u001b[38;5;28;01mimport\u001b[39;00m \u001b[38;5;21;01mos\u001b[39;00m\n\u001b[0;32m     53\u001b[0m     extra_dll_dir \u001b[38;5;241m=\u001b[39m os\u001b[38;5;241m.\u001b[39mpath\u001b[38;5;241m.\u001b[39mjoin(os\u001b[38;5;241m.\u001b[39mpath\u001b[38;5;241m.\u001b[39mdirname(os\u001b[38;5;241m.\u001b[39mpath\u001b[38;5;241m.\u001b[39mabspath(\u001b[38;5;18m__file__\u001b[39m)), \u001b[38;5;124m'\u001b[39m\u001b[38;5;124m.libs\u001b[39m\u001b[38;5;124m'\u001b[39m)  \n\u001b[0;32m     54\u001b[0m     \u001b[38;5;28;01mif\u001b[39;00m os\u001b[38;5;241m.\u001b[39mpath\u001b[38;5;241m.\u001b[39misdir(extra_dll_dir):  \n",
      "\u001b[1;31mImportError\u001b[0m: DLL load failed while importing base: 找不到指定的模块。"
     ]
    }
   ],
   "source": [
    "import numpy\n",
    "import cvxopt #必须要引用\n",
    "import cvxpy as cp\n",
    "from numpy import array\n",
    "c=array([40,90]) #定义目标向量\n",
    "a=array([[9,7],[-7,-20]]) #定义约束矩阵\n",
    "b=array([56,-70]) #定义约束条件的右边向量\n",
    "x=cp.Variable(2,integer=True) #定义两个整数决策变量\n",
    "obj=cp.Minimize(c*x) #构造目标函数\n",
    "cons=[a*x<=b, x>=0] #构造约束条件\n",
    "prob=cp.Problem(obj, cons) #构建问题模型\n",
    "prob.solve(solver='GLPK_MI',verbose =True) #求解问题\n",
    "print(\"最优值为:\",prob.value)\n",
    "print(\"最优解为：\\n\",x.value)"
   ]
  },
  {
   "cell_type": "code",
   "execution_count": 35,
   "metadata": {
    "pycharm": {
     "name": "#%%\n"
    }
   },
   "outputs": [
    {
     "ename": "ImportError",
     "evalue": "DLL load failed while importing base: 找不到指定的模块。",
     "output_type": "error",
     "traceback": [
      "\u001b[1;31m---------------------------------------------------------------------------\u001b[0m",
      "\u001b[1;31mImportError\u001b[0m                               Traceback (most recent call last)",
      "Cell \u001b[1;32mIn[35], line 2\u001b[0m\n\u001b[0;32m      1\u001b[0m \u001b[38;5;28;01mimport\u001b[39;00m \u001b[38;5;21;01mnumpy\u001b[39;00m\n\u001b[1;32m----> 2\u001b[0m \u001b[38;5;28;01mimport\u001b[39;00m \u001b[38;5;21;01mcvxopt\u001b[39;00m\n",
      "File \u001b[1;32mD:\\Anaconda3\\lib\\site-packages\\cvxopt\\__init__.py:52\u001b[0m\n\u001b[0;32m     50\u001b[0m \u001b[38;5;28;01mimport\u001b[39;00m \u001b[38;5;21;01msys\u001b[39;00m\n\u001b[0;32m     51\u001b[0m \u001b[38;5;28;01mif\u001b[39;00m sys\u001b[38;5;241m.\u001b[39mplatform \u001b[38;5;241m==\u001b[39m \u001b[38;5;124m'\u001b[39m\u001b[38;5;124mwin32\u001b[39m\u001b[38;5;124m'\u001b[39m:\n\u001b[1;32m---> 52\u001b[0m     \u001b[38;5;28;01mimport\u001b[39;00m \u001b[38;5;21;01mos\u001b[39;00m\n\u001b[0;32m     53\u001b[0m     extra_dll_dir \u001b[38;5;241m=\u001b[39m os\u001b[38;5;241m.\u001b[39mpath\u001b[38;5;241m.\u001b[39mjoin(os\u001b[38;5;241m.\u001b[39mpath\u001b[38;5;241m.\u001b[39mdirname(os\u001b[38;5;241m.\u001b[39mpath\u001b[38;5;241m.\u001b[39mabspath(\u001b[38;5;18m__file__\u001b[39m)), \u001b[38;5;124m'\u001b[39m\u001b[38;5;124m.libs\u001b[39m\u001b[38;5;124m'\u001b[39m)  \n\u001b[0;32m     54\u001b[0m     \u001b[38;5;28;01mif\u001b[39;00m os\u001b[38;5;241m.\u001b[39mpath\u001b[38;5;241m.\u001b[39misdir(extra_dll_dir):  \n",
      "\u001b[1;31mImportError\u001b[0m: DLL load failed while importing base: 找不到指定的模块。"
     ]
    }
   ],
   "source": [
    "import numpy\n",
    "import cvxopt"
   ]
  },
  {
   "cell_type": "code",
   "execution_count": null,
   "metadata": {
    "pycharm": {
     "name": "#%%\n"
    }
   },
   "outputs": [],
   "source": []
  }
 ],
 "metadata": {
  "kernelspec": {
   "display_name": "Python 3 (ipykernel)",
   "language": "python",
   "name": "python3"
  },
  "language_info": {
   "codemirror_mode": {
    "name": "ipython",
    "version": 3
   },
   "file_extension": ".py",
   "mimetype": "text/x-python",
   "name": "python",
   "nbconvert_exporter": "python",
   "pygments_lexer": "ipython3",
   "version": "3.9.13"
  }
 },
 "nbformat": 4,
 "nbformat_minor": 1
}
