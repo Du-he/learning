{
 "cells": [
  {
   "cell_type": "markdown",
   "metadata": {
    "pycharm": {
     "name": "#%% md\n"
    }
   },
   "source": []
  },
  {
   "cell_type": "code",
   "execution_count": 37,
   "metadata": {
    "pycharm": {
     "name": "#%%\n"
    }
   },
   "outputs": [],
   "source": [
    "import numpy as np\n",
    "import matlab.engine"
   ]
  },
  {
   "cell_type": "markdown",
   "metadata": {
    "pycharm": {
     "name": "#%% md\n"
    }
   },
   "source": [
    "\n",
    "![](例5_1.png)\n",
    "![](例5_2.png)\n"
   ]
  },
  {
   "cell_type": "code",
   "execution_count": 57,
   "metadata": {
    "pycharm": {
     "name": "#%%\n"
    }
   },
   "outputs": [],
   "source": [
    "a=np.loadtxt('1_1.csv',delimiter=',',encoding=\"UTF-8-sig\")#https://blog.csdn.net/ ACID_lv_ing/article/details/87092714\n",
    "\n",
    "a_1=a.flatten().astype('int64')#数组降维\n",
    "mat = np.zeros((4,4))\n",
    "for i in range(39):\n",
    "    mat[a_1[i]-1,a_1[i+1]-1]+=1\n",
    "\n",
    "count=np.zeros((4))\n",
    "for i in range(4):\n",
    "    count[i]=mat[i,:].sum()\n",
    "    for j in range(4):\n",
    "        mat[i,j]/=count[i]\n"
   ]
  },
  {
   "cell_type": "code",
   "execution_count": 33,
   "metadata": {
    "pycharm": {
     "name": "#%%\n"
    }
   },
   "outputs": [],
   "source": []
  }
 ],
 "metadata": {
  "kernelspec": {
   "display_name": "Python 3 (ipykernel)",
   "language": "python",
   "name": "python3"
  },
  "language_info": {
   "codemirror_mode": {
    "name": "ipython",
    "version": 3
   },
   "file_extension": ".py",
   "mimetype": "text/x-python",
   "name": "python",
   "nbconvert_exporter": "python",
   "pygments_lexer": "ipython3",
   "version": "3.9.13"
  }
 },
 "nbformat": 4,
 "nbformat_minor": 1
}
