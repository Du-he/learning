{
 "cells": [
  {
   "cell_type": "markdown",
   "metadata": {
    "pycharm": {
     "name": "#%% md\n"
    }
   },
   "source": [
    "#### 知识点"
   ]
  },
  {
   "cell_type": "markdown",
   "metadata": {
    "pycharm": {
     "name": "#%% md\n"
    }
   },
   "source": [
    "- 创建时间对象\n",
    "- 时间索引对象\n",
    "- 时间算术方法"
   ]
  },
  {
   "cell_type": "markdown",
   "metadata": {
    "pycharm": {
     "name": "#%% md\n"
    }
   },
   "source": [
    "### 创建时间对象"
   ]
  },
  {
   "cell_type": "markdown",
   "metadata": {
    "pycharm": {
     "name": "#%% md\n"
    }
   },
   "source": [
    "在 Pandas 中关于时间序列的常见对象有 6 种，分别是 Timestamp（时间戳）、DatetimeIndex（时间戳索引）、Period（时间段）、PeriodIndex（时间段索引）、以时间为元素的 Series 和以及以时间索引的 DataFrame。本小节学习如何创建以上对象。"
   ]
  },
  {
   "cell_type": "markdown",
   "metadata": {
    "pycharm": {
     "name": "#%% md\n"
    }
   },
   "source": [
    "##### 创建时间戳"
   ]
  },
  {
   "cell_type": "markdown",
   "metadata": {
    "pycharm": {
     "name": "#%% md\n"
    }
   },
   "source": [
    "[<i class=\"fa fa-external-link-square\" aria-hidden=\"true\"> Timestamp</i>](https://pandas.pydata.org/pandas-docs/stable/reference/api/pandas.Timestamp.html) 时间戳表示时间轴上的某一点，以下不同代码都可以生成相同时间戳。"
   ]
  },
  {
   "cell_type": "code",
   "execution_count": 1,
   "metadata": {
    "collapsed": true,
    "pycharm": {
     "name": "#%%\n"
    }
   },
   "outputs": [
    {
     "data": {
      "text/plain": "Timestamp('2018-10-01 00:00:00')"
     },
     "execution_count": 1,
     "metadata": {},
     "output_type": "execute_result"
    }
   ],
   "source": [
    "import pandas as pd\n",
    "\n",
    "pd.Timestamp(2018,10,1)"
   ]
  },
  {
   "cell_type": "code",
   "execution_count": 2,
   "metadata": {
    "pycharm": {
     "name": "#%%\n"
    }
   },
   "outputs": [
    {
     "data": {
      "text/plain": "Timestamp('2018-01-01 10:00:01')"
     },
     "execution_count": 2,
     "metadata": {},
     "output_type": "execute_result"
    }
   ],
   "source": [
    "pd.Timestamp(\"2018,10,1 10:00:1\")"
   ]
  },
  {
   "cell_type": "code",
   "execution_count": 3,
   "metadata": {
    "pycharm": {
     "name": "#%%\n"
    }
   },
   "outputs": [
    {
     "data": {
      "text/plain": "Timestamp('2018-10-01 00:00:00')"
     },
     "execution_count": 3,
     "metadata": {},
     "output_type": "execute_result"
    }
   ],
   "source": [
    "from datetime import datetime\n",
    "\n",
    "pd.Timestamp(datetime(2018,10,1))"
   ]
  },
  {
   "cell_type": "markdown",
   "metadata": {
    "pycharm": {
     "name": "#%% md\n"
    }
   },
   "source": [
    "#### 创建时间段"
   ]
  },
  {
   "cell_type": "markdown",
   "metadata": {
    "pycharm": {
     "name": "#%% md\n"
    }
   },
   "source": [
    "[<i class=\"fa fa-external-link-square\" aria-hidden=\"true\"> Period</i>](https://pandas.pydata.org/pandas-docs/stable/reference/api/pandas.Period.html) 时间段表示时间轴上的某一区间，以下代码都可以生成相同时间段。"
   ]
  },
  {
   "cell_type": "code",
   "execution_count": 4,
   "metadata": {
    "pycharm": {
     "name": "#%%\n"
    }
   },
   "outputs": [
    {
     "data": {
      "text/plain": "Period('2018-10', 'M')"
     },
     "execution_count": 4,
     "metadata": {},
     "output_type": "execute_result"
    }
   ],
   "source": [
    "pd.Period('2018-10')"
   ]
  },
  {
   "cell_type": "markdown",
   "metadata": {
    "pycharm": {
     "name": "#%% md\n"
    }
   },
   "source": [
    "`Period()` 函数后面通常有两个参数，第二个 `freq` 参数决定时间段的分割长度。"
   ]
  },
  {
   "cell_type": "code",
   "execution_count": 5,
   "metadata": {
    "pycharm": {
     "name": "#%%\n"
    }
   },
   "outputs": [
    {
     "data": {
      "text/plain": "Period('2018-10-01', 'D')"
     },
     "execution_count": 5,
     "metadata": {},
     "output_type": "execute_result"
    }
   ],
   "source": [
    "pd.Period('2018-10',freq='D')"
   ]
  },
  {
   "cell_type": "markdown",
   "metadata": {
    "pycharm": {
     "name": "#%% md\n"
    }
   },
   "source": [
    "#### 创建时间元素的 Series"
   ]
  },
  {
   "cell_type": "markdown",
   "metadata": {
    "pycharm": {
     "name": "#%% md\n"
    }
   },
   "source": [
    "Pandas 中常用 [`to_datetime()`](https://pandas.pydata.org/pandas-docs/stable/reference/api/pandas.to_datetime.html) 函数可以创建以时间为元素的 Series。"
   ]
  },
  {
   "cell_type": "markdown",
   "metadata": {
    "pycharm": {
     "name": "#%% md\n"
    }
   },
   "source": [
    "创建一个 Series，以三个时间的字符串作为元素。"
   ]
  },
  {
   "cell_type": "code",
   "execution_count": 6,
   "metadata": {
    "pycharm": {
     "name": "#%%\n"
    }
   },
   "outputs": [
    {
     "data": {
      "text/plain": "DatetimeIndex(['2018-08-01', '2018-09-01', '2018-10-01'], dtype='datetime64[ns]', freq=None)"
     },
     "execution_count": 6,
     "metadata": {},
     "output_type": "execute_result"
    }
   ],
   "source": [
    "df =['2018-08-01','2018-09-01','2018-10-01']\n",
    "pd.to_datetime(df)"
   ]
  },
  {
   "cell_type": "code",
   "execution_count": 7,
   "metadata": {
    "pycharm": {
     "name": "#%%\n"
    }
   },
   "outputs": [
    {
     "data": {
      "text/plain": "0   2018-09-30\n1   2018-10-01\n2          NaT\ndtype: datetime64[ns]"
     },
     "execution_count": 7,
     "metadata": {},
     "output_type": "execute_result"
    }
   ],
   "source": [
    "df=pd.Series(['Sep 30, 2018','2018-10-1',None])\n",
    "pd.to_datetime(df)"
   ]
  },
  {
   "cell_type": "code",
   "execution_count": 8,
   "metadata": {
    "pycharm": {
     "name": "#%%\n"
    }
   },
   "outputs": [
    {
     "data": {
      "text/plain": "0   2017-09-30 23:00:00\n1   2018-10-01 00:00:00\ndtype: datetime64[ns]"
     },
     "execution_count": 8,
     "metadata": {},
     "output_type": "execute_result"
    }
   ],
   "source": [
    "df = pd.DataFrame({'year': [2017,2018],\n",
    "                   'month': [9,10],\n",
    "                   'day': [30,1],\n",
    "                   'hour':[23,0]})\n",
    "pd.to_datetime(df)"
   ]
  },
  {
   "cell_type": "markdown",
   "metadata": {
    "pycharm": {
     "name": "#%% md\n"
    }
   },
   "source": [
    "#### 创建时间索引"
   ]
  },
  {
   "cell_type": "markdown",
   "metadata": {
    "pycharm": {
     "name": "#%% md\n"
    }
   },
   "source": [
    "要生成带有时间戳的索引，可以使用 [`DatetimeIndex()`](https://pandas.pydata.org/pandas-docs/stable/reference/api/pandas.DatetimeIndex.html) 构造函数，并传入列表或 Series 对象："
   ]
  },
  {
   "cell_type": "code",
   "execution_count": 9,
   "metadata": {
    "pycharm": {
     "name": "#%%\n"
    }
   },
   "outputs": [
    {
     "data": {
      "text/plain": "DatetimeIndex(['2018-08-01', '2018-09-01', '2018-10-01'], dtype='datetime64[ns]', freq=None)"
     },
     "execution_count": 9,
     "metadata": {},
     "output_type": "execute_result"
    }
   ],
   "source": [
    "dates = ['2018-08-01', '2018-09-01', '2018-10-01']\n",
    "index = pd.DatetimeIndex(dates)\n",
    "index"
   ]
  },
  {
   "cell_type": "markdown",
   "metadata": {
    "pycharm": {
     "name": "#%% md\n"
    }
   },
   "source": [
    "实际运用中我们经常需要大量的的时间戳的索引。可以使用 [`date_range()`](https://pandas.pydata.org/pandas-docs/stable/reference/api/pandas.date_range.html) 和 [`bdate_range()`](https://pandas.pydata.org/pandas-docs/stable/reference/api/pandas.bdate_range.html) 来批量创建相同时间间隔的时间戳索引。"
   ]
  },
  {
   "cell_type": "markdown",
   "metadata": {
    "pycharm": {
     "name": "#%% md\n"
    }
   },
   "source": [
    "创建以 2018 年 9 月 30 日为开始的 250 条时间索引，相邻索引间隔时间长度为一个月。"
   ]
  },
  {
   "cell_type": "code",
   "execution_count": 10,
   "metadata": {
    "pycharm": {
     "name": "#%%\n"
    }
   },
   "outputs": [
    {
     "data": {
      "text/plain": "DatetimeIndex(['2018-09-30', '2018-10-31', '2018-11-30', '2018-12-31',\n               '2019-01-31', '2019-02-28', '2019-03-31', '2019-04-30',\n               '2019-05-31', '2019-06-30',\n               ...\n               '2038-09-30', '2038-10-31', '2038-11-30', '2038-12-31',\n               '2039-01-31', '2039-02-28', '2039-03-31', '2039-04-30',\n               '2039-05-31', '2039-06-30'],\n              dtype='datetime64[ns]', length=250, freq='M')"
     },
     "execution_count": 10,
     "metadata": {},
     "output_type": "execute_result"
    }
   ],
   "source": [
    "index = pd.date_range('2018-9-30', periods=250, freq='M')\n",
    "index"
   ]
  },
  {
   "cell_type": "markdown",
   "metadata": {
    "pycharm": {
     "name": "#%% md\n"
    }
   },
   "source": [
    "创建以 2018 年 10 月 1 日为开始的 111 条时间索引，相邻索引间隔时间长度为一个工作日。"
   ]
  },
  {
   "cell_type": "code",
   "execution_count": 11,
   "metadata": {
    "pycharm": {
     "name": "#%%\n"
    }
   },
   "outputs": [
    {
     "data": {
      "text/plain": "DatetimeIndex(['2018-10-01', '2018-10-02', '2018-10-03', '2018-10-04',\n               '2018-10-05', '2018-10-08', '2018-10-09', '2018-10-10',\n               '2018-10-11', '2018-10-12',\n               ...\n               '2019-02-19', '2019-02-20', '2019-02-21', '2019-02-22',\n               '2019-02-25', '2019-02-26', '2019-02-27', '2019-02-28',\n               '2019-03-01', '2019-03-04'],\n              dtype='datetime64[ns]', length=111, freq='B')"
     },
     "execution_count": 11,
     "metadata": {},
     "output_type": "execute_result"
    }
   ],
   "source": [
    "index = pd.bdate_range('2018-10-1', periods=111)    #默认为B，跳过周六日\n",
    "index"
   ]
  },
  {
   "cell_type": "markdown",
   "metadata": {
    "pycharm": {
     "name": "#%% md\n"
    }
   },
   "source": [
    "在 `date_range()` 和 `bdate_range()` 中可以巧妙使用 start，end， periods，freq 等参数的各种组合轻松批量创建时间索引。"
   ]
  },
  {
   "cell_type": "markdown",
   "metadata": {
    "pycharm": {
     "name": "#%% md\n"
    }
   },
   "source": [
    "在 2017 年 10 月 1 日到 2018 年 10 月 1 日间，每隔一周创建一条索引。"
   ]
  },
  {
   "cell_type": "code",
   "execution_count": 12,
   "metadata": {
    "pycharm": {
     "name": "#%%\n"
    }
   },
   "outputs": [
    {
     "data": {
      "text/plain": "DatetimeIndex(['2017-10-01', '2017-10-08', '2017-10-15', '2017-10-22',\n               '2017-10-29', '2017-11-05', '2017-11-12', '2017-11-19',\n               '2017-11-26', '2017-12-03', '2017-12-10', '2017-12-17',\n               '2017-12-24', '2017-12-31', '2018-01-07', '2018-01-14',\n               '2018-01-21', '2018-01-28', '2018-02-04', '2018-02-11',\n               '2018-02-18', '2018-02-25', '2018-03-04', '2018-03-11',\n               '2018-03-18', '2018-03-25', '2018-04-01', '2018-04-08',\n               '2018-04-15', '2018-04-22', '2018-04-29', '2018-05-06',\n               '2018-05-13', '2018-05-20', '2018-05-27', '2018-06-03',\n               '2018-06-10', '2018-06-17', '2018-06-24', '2018-07-01',\n               '2018-07-08', '2018-07-15', '2018-07-22', '2018-07-29',\n               '2018-08-05', '2018-08-12', '2018-08-19', '2018-08-26',\n               '2018-09-02', '2018-09-09', '2018-09-16', '2018-09-23',\n               '2018-09-30'],\n              dtype='datetime64[ns]', freq='W-SUN')"
     },
     "execution_count": 12,
     "metadata": {},
     "output_type": "execute_result"
    }
   ],
   "source": [
    "rng = pd.date_range(start=datetime(2017, 10, 1),end=datetime(2018, 10, 1), freq=\"W\")\n",
    "rng"
   ]
  },
  {
   "cell_type": "code",
   "execution_count": 13,
   "metadata": {
    "pycharm": {
     "name": "#%%\n"
    }
   },
   "outputs": [
    {
     "data": {
      "text/plain": "DatetimeIndex(['2017-10-17', '2017-10-18', '2017-10-19', '2017-10-20',\n               '2017-10-23', '2017-10-24', '2017-10-25', '2017-10-26',\n               '2017-10-27', '2017-10-30',\n               ...\n               '2018-09-18', '2018-09-19', '2018-09-20', '2018-09-21',\n               '2018-09-24', '2018-09-25', '2018-09-26', '2018-09-27',\n               '2018-09-28', '2018-10-01'],\n              dtype='datetime64[ns]', length=250, freq='B')"
     },
     "execution_count": 13,
     "metadata": {},
     "output_type": "execute_result"
    }
   ],
   "source": [
    "pd.bdate_range(end=datetime(2018,10,1), periods=250)"
   ]
  },
  {
   "cell_type": "markdown",
   "metadata": {
    "pycharm": {
     "name": "#%% md\n"
    }
   },
   "source": [
    "同理，时间段也能作为索引使用，需要用到 [`period_range()`](https://pandas.pydata.org/pandas-docs/stable/reference/api/pandas.period_range.html)。"
   ]
  },
  {
   "cell_type": "code",
   "metadata": {
    "pycharm": {
     "name": "#%%\n"
    }
   },
   "source": [
    "pi = pd.period_range('2018-9-30', periods=666)\n",
    "pi"
   ],
   "execution_count": 14,
   "outputs": [
    {
     "data": {
      "text/plain": "PeriodIndex(['2018-09-30', '2018-10-01', '2018-10-02', '2018-10-03',\n             '2018-10-04', '2018-10-05', '2018-10-06', '2018-10-07',\n             '2018-10-08', '2018-10-09',\n             ...\n             '2020-07-17', '2020-07-18', '2020-07-19', '2020-07-20',\n             '2020-07-21', '2020-07-22', '2020-07-23', '2020-07-24',\n             '2020-07-25', '2020-07-26'],\n            dtype='period[D]', length=666)"
     },
     "execution_count": 14,
     "metadata": {},
     "output_type": "execute_result"
    }
   ]
  },
  {
   "cell_type": "markdown",
   "source": [
    "#### 创建以时间为索引的 Series 对象"
   ],
   "metadata": {
    "collapsed": false,
    "pycharm": {
     "name": "#%% md\n"
    }
   }
  },
  {
   "cell_type": "markdown",
   "source": [
    "以时间为索引的 Series 对象指的是在该 Series 中，元素的索引不再是 1、2、3、4、5……这样的序号，而是有序的日期和时间。"
   ],
   "metadata": {
    "collapsed": false,
    "pycharm": {
     "name": "#%% md\n"
    }
   }
  },
  {
   "cell_type": "code",
   "execution_count": 15,
   "outputs": [
    {
     "data": {
      "text/plain": "2018-08-01   -0.444425\n2018-09-01   -0.252629\n2018-10-01    2.398723\ndtype: float64"
     },
     "execution_count": 15,
     "metadata": {},
     "output_type": "execute_result"
    }
   ],
   "source": [
    "import numpy as np\n",
    "\n",
    "dates = [pd.Timestamp('2018-08-01'), pd.Timestamp('2018-09-01'), pd.Timestamp('2018-10-01')]\n",
    "ts = pd.Series(np.random.randn(3),dates)\n",
    "ts"
   ],
   "metadata": {
    "collapsed": false,
    "pycharm": {
     "name": "#%%\n"
    }
   }
  },
  {
   "cell_type": "markdown",
   "source": [
    "同样，时间段也能作为索引。"
   ],
   "metadata": {
    "collapsed": false,
    "pycharm": {
     "name": "#%% md\n"
    }
   }
  },
  {
   "cell_type": "code",
   "execution_count": 16,
   "outputs": [
    {
     "data": {
      "text/plain": "2018-08   -2.312206\n2018-09   -0.375983\n2018-10   -0.391211\nFreq: M, dtype: float64"
     },
     "execution_count": 16,
     "metadata": {},
     "output_type": "execute_result"
    }
   ],
   "source": [
    "periods = [pd.Period('2018-08'), pd.Period('2018-09'), pd.Period('2018-10')]\n",
    "ts = pd.Series(np.random.randn(3), periods)\n",
    "ts"
   ],
   "metadata": {
    "collapsed": false,
    "pycharm": {
     "name": "#%%\n"
    }
   }
  },
  {
   "cell_type": "markdown",
   "source": [
    "我们可以批量创建索引后再创建以时间为索引的 Series 对象。创建索引值为随机数的 Series 对象，长度与 rng 长度相同。"
   ],
   "metadata": {
    "collapsed": false,
    "pycharm": {
     "name": "#%% md\n"
    }
   }
  },
  {
   "cell_type": "code",
   "execution_count": 17,
   "outputs": [
    {
     "data": {
      "text/plain": "2017-10-01   -0.112753\n2017-10-08    0.840722\n2017-10-15    0.033204\n2017-10-22    0.409570\n2017-10-29   -0.137307\n2017-11-05   -0.862479\n2017-11-12   -0.459035\n2017-11-19    1.101343\n2017-11-26    1.463947\n2017-12-03   -0.106921\n2017-12-10    0.894036\n2017-12-17    0.077436\n2017-12-24    2.684540\n2017-12-31   -0.137389\n2018-01-07   -1.414378\n2018-01-14    0.203976\n2018-01-21    0.961351\n2018-01-28   -0.083425\n2018-02-04   -0.432876\n2018-02-11   -1.112534\n2018-02-18    0.863137\n2018-02-25    1.246662\n2018-03-04    1.896482\n2018-03-11    1.718412\n2018-03-18    0.779541\n2018-03-25    0.651563\n2018-04-01   -0.631567\n2018-04-08   -2.496292\n2018-04-15    0.740071\n2018-04-22    1.380879\n2018-04-29    0.501583\n2018-05-06    0.454455\n2018-05-13   -1.100004\n2018-05-20    0.064636\n2018-05-27   -0.831745\n2018-06-03   -0.325154\n2018-06-10    0.177142\n2018-06-17    0.830650\n2018-06-24    0.082828\n2018-07-01   -0.875643\n2018-07-08    1.044619\n2018-07-15    0.877020\n2018-07-22   -0.847822\n2018-07-29    0.260022\n2018-08-05   -0.541974\n2018-08-12    0.640644\n2018-08-19    0.167699\n2018-08-26    0.015078\n2018-09-02    0.936731\n2018-09-09   -0.974333\n2018-09-16   -0.161267\n2018-09-23    0.135550\n2018-09-30    0.340094\nFreq: W-SUN, dtype: float64"
     },
     "execution_count": 17,
     "metadata": {},
     "output_type": "execute_result"
    }
   ],
   "source": [
    "ts = pd.Series(np.random.randn(len(rng)), index=rng)\n",
    "ts"
   ],
   "metadata": {
    "collapsed": false,
    "pycharm": {
     "name": "#%%\n"
    }
   }
  },
  {
   "cell_type": "markdown",
   "source": [
    "时间段也能作为索引创建 DataFrame 对象。在 2017 年第一季度和 2018 年第四季度之间每隔一个季度创建一条索引。"
   ],
   "metadata": {
    "collapsed": false,
    "pycharm": {
     "name": "#%% md\n"
    }
   }
  },
  {
   "cell_type": "code",
   "execution_count": 18,
   "outputs": [
    {
     "data": {
      "text/plain": "               A\n2017Q1 -0.215224\n2017Q2 -0.411443\n2017Q3  0.338805\n2017Q4  0.361292\n2018Q1  0.966196\n2018Q2  0.419224\n2018Q3 -0.050141\n2018Q4 -0.981779",
      "text/html": "<div>\n<style scoped>\n    .dataframe tbody tr th:only-of-type {\n        vertical-align: middle;\n    }\n\n    .dataframe tbody tr th {\n        vertical-align: top;\n    }\n\n    .dataframe thead th {\n        text-align: right;\n    }\n</style>\n<table border=\"1\" class=\"dataframe\">\n  <thead>\n    <tr style=\"text-align: right;\">\n      <th></th>\n      <th>A</th>\n    </tr>\n  </thead>\n  <tbody>\n    <tr>\n      <th>2017Q1</th>\n      <td>-0.215224</td>\n    </tr>\n    <tr>\n      <th>2017Q2</th>\n      <td>-0.411443</td>\n    </tr>\n    <tr>\n      <th>2017Q3</th>\n      <td>0.338805</td>\n    </tr>\n    <tr>\n      <th>2017Q4</th>\n      <td>0.361292</td>\n    </tr>\n    <tr>\n      <th>2018Q1</th>\n      <td>0.966196</td>\n    </tr>\n    <tr>\n      <th>2018Q2</th>\n      <td>0.419224</td>\n    </tr>\n    <tr>\n      <th>2018Q3</th>\n      <td>-0.050141</td>\n    </tr>\n    <tr>\n      <th>2018Q4</th>\n      <td>-0.981779</td>\n    </tr>\n  </tbody>\n</table>\n</div>"
     },
     "execution_count": 18,
     "metadata": {},
     "output_type": "execute_result"
    }
   ],
   "source": [
    "prng = pd.period_range('2017Q1', '2018Q4', freq='Q-NOV')\n",
    "# 行索引为时间索引，列索引为A\n",
    "ps = pd.DataFrame(np.random.randn(len(prng)), columns=['A'], index=prng)\n",
    "ps"
   ],
   "metadata": {
    "collapsed": false,
    "pycharm": {
     "name": "#%%\n"
    }
   }
  },
  {
   "cell_type": "markdown",
   "source": [
    "### 时间索引对象处理"
   ],
   "metadata": {
    "collapsed": false,
    "pycharm": {
     "name": "#%% md\n"
    }
   }
  },
  {
   "cell_type": "markdown",
   "source": [
    "以时间戳为索引的 Series、DataFrame 对象具有与普通列表近乎相同的操作，且更具智能化。"
   ],
   "metadata": {
    "collapsed": false,
    "pycharm": {
     "name": "#%% md\n"
    }
   }
  },
  {
   "cell_type": "markdown",
   "source": [
    "#### 查找"
   ],
   "metadata": {
    "collapsed": false,
    "pycharm": {
     "name": "#%% md\n"
    }
   }
  },
  {
   "cell_type": "markdown",
   "source": [
    "简单查找。"
   ],
   "metadata": {
    "collapsed": false,
    "pycharm": {
     "name": "#%% md\n"
    }
   }
  },
  {
   "cell_type": "code",
   "execution_count": 19,
   "outputs": [
    {
     "data": {
      "text/plain": "2017-10-01   -0.112753\n2017-10-08    0.840722\n2017-10-15    0.033204\n2017-10-22    0.409570\n2017-10-29   -0.137307\n2017-11-05   -0.862479\n2017-11-12   -0.459035\n2017-11-19    1.101343\n2017-11-26    1.463947\n2017-12-03   -0.106921\n2017-12-10    0.894036\n2017-12-17    0.077436\n2017-12-24    2.684540\n2017-12-31   -0.137389\n2018-01-07   -1.414378\n2018-01-14    0.203976\n2018-01-21    0.961351\n2018-01-28   -0.083425\n2018-02-04   -0.432876\n2018-02-11   -1.112534\n2018-02-18    0.863137\n2018-02-25    1.246662\n2018-03-04    1.896482\n2018-03-11    1.718412\n2018-03-18    0.779541\n2018-03-25    0.651563\n2018-04-01   -0.631567\n2018-04-08   -2.496292\n2018-04-15    0.740071\n2018-04-22    1.380879\n2018-04-29    0.501583\n2018-05-06    0.454455\n2018-05-13   -1.100004\n2018-05-20    0.064636\n2018-05-27   -0.831745\n2018-06-03   -0.325154\n2018-06-10    0.177142\n2018-06-17    0.830650\n2018-06-24    0.082828\n2018-07-01   -0.875643\n2018-07-08    1.044619\n2018-07-15    0.877020\n2018-07-22   -0.847822\n2018-07-29    0.260022\n2018-08-05   -0.541974\n2018-08-12    0.640644\n2018-08-19    0.167699\n2018-08-26    0.015078\n2018-09-02    0.936731\n2018-09-09   -0.974333\n2018-09-16   -0.161267\n2018-09-23    0.135550\n2018-09-30    0.340094\nFreq: W-SUN, dtype: float64"
     },
     "execution_count": 19,
     "metadata": {},
     "output_type": "execute_result"
    }
   ],
   "source": [
    "ts"
   ],
   "metadata": {
    "collapsed": false,
    "pycharm": {
     "name": "#%%\n"
    }
   }
  },
  {
   "cell_type": "markdown",
   "source": [
    "查找前 10 条索引记录。"
   ],
   "metadata": {
    "collapsed": false,
    "pycharm": {
     "name": "#%% md\n"
    }
   }
  },
  {
   "cell_type": "code",
   "execution_count": 20,
   "outputs": [
    {
     "data": {
      "text/plain": "2017-10-01   -0.112753\n2017-10-08    0.840722\n2017-10-15    0.033204\n2017-10-22    0.409570\n2017-10-29   -0.137307\n2017-11-05   -0.862479\n2017-11-12   -0.459035\n2017-11-19    1.101343\n2017-11-26    1.463947\n2017-12-03   -0.106921\nFreq: W-SUN, dtype: float64"
     },
     "execution_count": 20,
     "metadata": {},
     "output_type": "execute_result"
    }
   ],
   "source": [
    "ts[:10]"
   ],
   "metadata": {
    "collapsed": false,
    "pycharm": {
     "name": "#%%\n"
    }
   }
  },
  {
   "cell_type": "markdown",
   "source": [
    "每隔 1 条记录查找 1 条索引记录。"
   ],
   "metadata": {
    "collapsed": false,
    "pycharm": {
     "name": "#%% md\n"
    }
   }
  },
  {
   "cell_type": "code",
   "execution_count": 21,
   "outputs": [
    {
     "data": {
      "text/plain": "2017-10-01   -0.112753\n2017-10-15    0.033204\n2017-10-29   -0.137307\n2017-11-12   -0.459035\n2017-11-26    1.463947\n2017-12-10    0.894036\n2017-12-24    2.684540\n2018-01-07   -1.414378\n2018-01-21    0.961351\n2018-02-04   -0.432876\n2018-02-18    0.863137\n2018-03-04    1.896482\n2018-03-18    0.779541\n2018-04-01   -0.631567\n2018-04-15    0.740071\n2018-04-29    0.501583\n2018-05-13   -1.100004\n2018-05-27   -0.831745\n2018-06-10    0.177142\n2018-06-24    0.082828\n2018-07-08    1.044619\n2018-07-22   -0.847822\n2018-08-05   -0.541974\n2018-08-19    0.167699\n2018-09-02    0.936731\n2018-09-16   -0.161267\n2018-09-30    0.340094\nFreq: 2W-SUN, dtype: float64"
     },
     "execution_count": 21,
     "metadata": {},
     "output_type": "execute_result"
    }
   ],
   "source": [
    "ts[::2]"
   ],
   "metadata": {
    "collapsed": false,
    "pycharm": {
     "name": "#%%\n"
    }
   }
  },
  {
   "cell_type": "markdown",
   "source": [
    "查找第 0、2、6 条索引记录。"
   ],
   "metadata": {
    "collapsed": false,
    "pycharm": {
     "name": "#%% md\n"
    }
   }
  },
  {
   "cell_type": "code",
   "execution_count": 22,
   "outputs": [
    {
     "data": {
      "text/plain": "2017-10-01   -0.112753\n2017-10-15    0.033204\n2017-11-12   -0.459035\ndtype: float64"
     },
     "execution_count": 22,
     "metadata": {},
     "output_type": "execute_result"
    }
   ],
   "source": [
    "ts[[0,2,6]]"
   ],
   "metadata": {
    "collapsed": false,
    "pycharm": {
     "name": "#%%\n"
    }
   }
  },
  {
   "cell_type": "markdown",
   "source": [
    "基于时间索引的精确查找。查找索引为 2018 年 9 月 30 日的值。"
   ],
   "metadata": {
    "collapsed": false,
    "pycharm": {
     "name": "#%% md\n"
    }
   }
  },
  {
   "cell_type": "code",
   "execution_count": 23,
   "outputs": [
    {
     "data": {
      "text/plain": "0.3400943175352451"
     },
     "execution_count": 23,
     "metadata": {},
     "output_type": "execute_result"
    }
   ],
   "source": [
    "ts[\"9/30/2018\"]"
   ],
   "metadata": {
    "collapsed": false,
    "pycharm": {
     "name": "#%%\n"
    }
   }
  },
  {
   "cell_type": "code",
   "execution_count": 24,
   "outputs": [
    {
     "data": {
      "text/plain": "0.3400943175352451"
     },
     "execution_count": 24,
     "metadata": {},
     "output_type": "execute_result"
    }
   ],
   "source": [
    "ts[datetime(2018, 9, 30)]"
   ],
   "metadata": {
    "collapsed": false,
    "pycharm": {
     "name": "#%%\n"
    }
   }
  },
  {
   "cell_type": "markdown",
   "source": [
    "基于索引的范围查找。查找索引时间在 2017 年内的所有记录。"
   ],
   "metadata": {
    "collapsed": false,
    "pycharm": {
     "name": "#%% md\n"
    }
   }
  },
  {
   "cell_type": "code",
   "execution_count": 25,
   "outputs": [
    {
     "data": {
      "text/plain": "2017-10-01   -0.112753\n2017-10-08    0.840722\n2017-10-15    0.033204\n2017-10-22    0.409570\n2017-10-29   -0.137307\n2017-11-05   -0.862479\n2017-11-12   -0.459035\n2017-11-19    1.101343\n2017-11-26    1.463947\n2017-12-03   -0.106921\n2017-12-10    0.894036\n2017-12-17    0.077436\n2017-12-24    2.684540\n2017-12-31   -0.137389\nFreq: W-SUN, dtype: float64"
     },
     "execution_count": 25,
     "metadata": {},
     "output_type": "execute_result"
    }
   ],
   "source": [
    "ts[\"2017\"]"
   ],
   "metadata": {
    "collapsed": false,
    "pycharm": {
     "name": "#%%\n"
    }
   }
  },
  {
   "cell_type": "markdown",
   "source": [
    "以时间段为索引的 DataFrame 对象的查找规则与以时间戳的相同。"
   ],
   "metadata": {
    "collapsed": false,
    "pycharm": {
     "name": "#%% md\n"
    }
   }
  },
  {
   "cell_type": "code",
   "execution_count": 26,
   "outputs": [
    {
     "data": {
      "text/plain": "               A\n2017Q1 -0.215224\n2017Q2 -0.411443\n2017Q3  0.338805\n2017Q4  0.361292\n2018Q1  0.966196\n2018Q2  0.419224\n2018Q3 -0.050141\n2018Q4 -0.981779",
      "text/html": "<div>\n<style scoped>\n    .dataframe tbody tr th:only-of-type {\n        vertical-align: middle;\n    }\n\n    .dataframe tbody tr th {\n        vertical-align: top;\n    }\n\n    .dataframe thead th {\n        text-align: right;\n    }\n</style>\n<table border=\"1\" class=\"dataframe\">\n  <thead>\n    <tr style=\"text-align: right;\">\n      <th></th>\n      <th>A</th>\n    </tr>\n  </thead>\n  <tbody>\n    <tr>\n      <th>2017Q1</th>\n      <td>-0.215224</td>\n    </tr>\n    <tr>\n      <th>2017Q2</th>\n      <td>-0.411443</td>\n    </tr>\n    <tr>\n      <th>2017Q3</th>\n      <td>0.338805</td>\n    </tr>\n    <tr>\n      <th>2017Q4</th>\n      <td>0.361292</td>\n    </tr>\n    <tr>\n      <th>2018Q1</th>\n      <td>0.966196</td>\n    </tr>\n    <tr>\n      <th>2018Q2</th>\n      <td>0.419224</td>\n    </tr>\n    <tr>\n      <th>2018Q3</th>\n      <td>-0.050141</td>\n    </tr>\n    <tr>\n      <th>2018Q4</th>\n      <td>-0.981779</td>\n    </tr>\n  </tbody>\n</table>\n</div>"
     },
     "execution_count": 26,
     "metadata": {},
     "output_type": "execute_result"
    }
   ],
   "source": [
    "ps"
   ],
   "metadata": {
    "collapsed": false,
    "pycharm": {
     "name": "#%%\n"
    }
   }
  },
  {
   "cell_type": "markdown",
   "source": [
    "2018 年的第一个季度规定为 2017 年的 12 月初到 2018 年的 2 月末。\n",
    "查找 2017 年内的所有季度的记录。"
   ],
   "metadata": {
    "collapsed": false,
    "pycharm": {
     "name": "#%% md\n"
    }
   }
  },
  {
   "cell_type": "code",
   "execution_count": 27,
   "outputs": [
    {
     "name": "stderr",
     "output_type": "stream",
     "text": [
      "C:\\Users\\15032\\AppData\\Local\\Temp\\ipykernel_3680\\1864040442.py:1: FutureWarning: Indexing a DataFrame with a datetimelike index using a single string to slice the rows, like `frame[string]`, is deprecated and will be removed in a future version. Use `frame.loc[string]` instead.\n",
      "  ps[\"2017\"]\n"
     ]
    },
    {
     "data": {
      "text/plain": "               A\n2017Q1 -0.215224\n2017Q2 -0.411443\n2017Q3  0.338805\n2017Q4  0.361292\n2018Q1  0.966196",
      "text/html": "<div>\n<style scoped>\n    .dataframe tbody tr th:only-of-type {\n        vertical-align: middle;\n    }\n\n    .dataframe tbody tr th {\n        vertical-align: top;\n    }\n\n    .dataframe thead th {\n        text-align: right;\n    }\n</style>\n<table border=\"1\" class=\"dataframe\">\n  <thead>\n    <tr style=\"text-align: right;\">\n      <th></th>\n      <th>A</th>\n    </tr>\n  </thead>\n  <tbody>\n    <tr>\n      <th>2017Q1</th>\n      <td>-0.215224</td>\n    </tr>\n    <tr>\n      <th>2017Q2</th>\n      <td>-0.411443</td>\n    </tr>\n    <tr>\n      <th>2017Q3</th>\n      <td>0.338805</td>\n    </tr>\n    <tr>\n      <th>2017Q4</th>\n      <td>0.361292</td>\n    </tr>\n    <tr>\n      <th>2018Q1</th>\n      <td>0.966196</td>\n    </tr>\n  </tbody>\n</table>\n</div>"
     },
     "execution_count": 27,
     "metadata": {},
     "output_type": "execute_result"
    }
   ],
   "source": [
    "ps[\"2017\"]"
   ],
   "metadata": {
    "collapsed": false,
    "pycharm": {
     "name": "#%%\n"
    }
   }
  },
  {
   "cell_type": "markdown",
   "source": [
    "查找 2017 年 12 月 31 日前的所有季度的记录。"
   ],
   "metadata": {
    "collapsed": false,
    "pycharm": {
     "name": "#%% md\n"
    }
   }
  },
  {
   "cell_type": "code",
   "execution_count": 28,
   "outputs": [
    {
     "data": {
      "text/plain": "               A\n2017Q1 -0.215224\n2017Q2 -0.411443\n2017Q3  0.338805\n2017Q4  0.361292\n2018Q1  0.966196",
      "text/html": "<div>\n<style scoped>\n    .dataframe tbody tr th:only-of-type {\n        vertical-align: middle;\n    }\n\n    .dataframe tbody tr th {\n        vertical-align: top;\n    }\n\n    .dataframe thead th {\n        text-align: right;\n    }\n</style>\n<table border=\"1\" class=\"dataframe\">\n  <thead>\n    <tr style=\"text-align: right;\">\n      <th></th>\n      <th>A</th>\n    </tr>\n  </thead>\n  <tbody>\n    <tr>\n      <th>2017Q1</th>\n      <td>-0.215224</td>\n    </tr>\n    <tr>\n      <th>2017Q2</th>\n      <td>-0.411443</td>\n    </tr>\n    <tr>\n      <th>2017Q3</th>\n      <td>0.338805</td>\n    </tr>\n    <tr>\n      <th>2017Q4</th>\n      <td>0.361292</td>\n    </tr>\n    <tr>\n      <th>2018Q1</th>\n      <td>0.966196</td>\n    </tr>\n  </tbody>\n</table>\n</div>"
     },
     "execution_count": 28,
     "metadata": {},
     "output_type": "execute_result"
    }
   ],
   "source": [
    "ps[:datetime(2017, 12, 31)]"
   ],
   "metadata": {
    "collapsed": false,
    "pycharm": {
     "name": "#%%\n"
    }
   }
  },
  {
   "cell_type": "markdown",
   "source": [],
   "metadata": {
    "collapsed": false,
    "pycharm": {
     "name": "#%% md\n"
    }
   }
  },
  {
   "cell_type": "markdown",
   "source": [
    "#### 切片"
   ],
   "metadata": {
    "collapsed": false,
    "pycharm": {
     "name": "#%% md\n"
    }
   }
  },
  {
   "cell_type": "markdown",
   "source": [
    "使用 [`truncate()`](https://pandas.pydata.org/pandas-docs/stable/reference/api/pandas.DataFrame.truncate.html) 切下 2017 年 11 月 26 日与 2018 年 4 月 29 日间的记录。"
   ],
   "metadata": {
    "collapsed": false,
    "pycharm": {
     "name": "#%% md\n"
    }
   }
  },
  {
   "cell_type": "code",
   "execution_count": 29,
   "outputs": [
    {
     "data": {
      "text/plain": "2017-11-12   -0.459035\n2017-11-19    1.101343\n2017-11-26    1.463947\n2017-12-03   -0.106921\n2017-12-10    0.894036\n2017-12-17    0.077436\n2017-12-24    2.684540\n2017-12-31   -0.137389\n2018-01-07   -1.414378\n2018-01-14    0.203976\n2018-01-21    0.961351\n2018-01-28   -0.083425\n2018-02-04   -0.432876\n2018-02-11   -1.112534\n2018-02-18    0.863137\n2018-02-25    1.246662\n2018-03-04    1.896482\n2018-03-11    1.718412\n2018-03-18    0.779541\n2018-03-25    0.651563\n2018-04-01   -0.631567\n2018-04-08   -2.496292\n2018-04-15    0.740071\n2018-04-22    1.380879\n2018-04-29    0.501583\nFreq: W-SUN, dtype: float64"
     },
     "execution_count": 29,
     "metadata": {},
     "output_type": "execute_result"
    }
   ],
   "source": [
    "ts.truncate(before='11/06/2017', after='4/29/2018')"
   ],
   "metadata": {
    "collapsed": false,
    "pycharm": {
     "name": "#%%\n"
    }
   }
  },
  {
   "cell_type": "markdown",
   "source": [
    "#### 移动"
   ],
   "metadata": {
    "collapsed": false,
    "pycharm": {
     "name": "#%% md\n"
    }
   }
  },
  {
   "cell_type": "markdown",
   "source": [
    "将时间索引 Series 中的值向后和向前移动。其方法是 [`shift()`](https://pandas.pydata.org/pandas-docs/stable/reference/api/pandas.DataFrame.shift.html)。"
   ],
   "metadata": {
    "collapsed": false,
    "pycharm": {
     "name": "#%% md\n"
    }
   }
  },
  {
   "cell_type": "code",
   "execution_count": 30,
   "outputs": [
    {
     "data": {
      "text/plain": "2017-10-01   -0.112753\n2017-10-08    0.840722\n2017-10-15    0.033204\n2017-10-22    0.409570\n2017-10-29   -0.137307\nFreq: W-SUN, dtype: float64"
     },
     "execution_count": 30,
     "metadata": {},
     "output_type": "execute_result"
    }
   ],
   "source": [
    "ts = ts[:5]\n",
    "ts"
   ],
   "metadata": {
    "collapsed": false,
    "pycharm": {
     "name": "#%%\n"
    }
   }
  },
  {
   "cell_type": "markdown",
   "source": [
    "将元素列向下移动一条。"
   ],
   "metadata": {
    "collapsed": false,
    "pycharm": {
     "name": "#%% md\n"
    }
   }
  },
  {
   "cell_type": "code",
   "execution_count": 31,
   "outputs": [
    {
     "data": {
      "text/plain": "2017-10-01         NaN\n2017-10-08   -0.112753\n2017-10-15    0.840722\n2017-10-22    0.033204\n2017-10-29    0.409570\nFreq: W-SUN, dtype: float64"
     },
     "execution_count": 31,
     "metadata": {},
     "output_type": "execute_result"
    }
   ],
   "source": [
    "ts.shift(1)"
   ],
   "metadata": {
    "collapsed": false,
    "pycharm": {
     "name": "#%%\n"
    }
   }
  },
  {
   "cell_type": "markdown",
   "source": [
    "除了元素可以被移动，索引本身也能被移动，需要加上 `freq` 参数。将索引列向上移动一条："
   ],
   "metadata": {
    "collapsed": false,
    "pycharm": {
     "name": "#%% md\n"
    }
   }
  },
  {
   "cell_type": "code",
   "execution_count": 32,
   "outputs": [
    {
     "data": {
      "text/plain": "2017-10-08   -0.112753\n2017-10-15    0.840722\n2017-10-22    0.033204\n2017-10-29    0.409570\n2017-11-05   -0.137307\nFreq: W-SUN, dtype: float64"
     },
     "execution_count": 32,
     "metadata": {},
     "output_type": "execute_result"
    }
   ],
   "source": [
    "ts.shift(1, freq='W')"
   ],
   "metadata": {
    "collapsed": false,
    "pycharm": {
     "name": "#%%\n"
    }
   }
  },
  {
   "cell_type": "markdown",
   "source": [
    "#### 重采样"
   ],
   "metadata": {
    "collapsed": false,
    "pycharm": {
     "name": "#%% md\n"
    }
   }
  },
  {
   "cell_type": "markdown",
   "source": [
    "重采样可以通俗得理解为改变时间索引的个数，通过增大或减小相邻索引的时间间隔以达到减小或增加索引数量的效果，在 Pandas 中使用 [`resample()`](https://pandas.pydata.org/pandas-docs/stable/reference/api/pandas.DataFrame.resample.html) 函数。"
   ],
   "metadata": {
    "collapsed": false,
    "pycharm": {
     "name": "#%% md\n"
    }
   }
  },
  {
   "cell_type": "markdown",
   "source": [
    "下采样：增大时间间隔，减少记录的数量。创建从 2018 年 10 月 1 日开始的日间隔索引的 Series 。"
   ],
   "metadata": {
    "collapsed": false,
    "pycharm": {
     "name": "#%% md\n"
    }
   }
  },
  {
   "cell_type": "code",
   "execution_count": 33,
   "outputs": [
    {
     "data": {
      "text/plain": "2018-10-01    49\n2018-10-02     7\n2018-10-03    39\n2018-10-04    41\n2018-10-05    14\n2018-10-06     6\n2018-10-07     1\n2018-10-08    44\n2018-10-09    25\n2018-10-10     4\nFreq: D, dtype: int32"
     },
     "execution_count": 33,
     "metadata": {},
     "output_type": "execute_result"
    }
   ],
   "source": [
    "rng = pd.date_range('10/01/2018', periods=10, freq='D')\n",
    "ts = pd.Series(np.random.randint(0, 50, len(rng)), index=rng)\n",
    "ts"
   ],
   "metadata": {
    "collapsed": false,
    "pycharm": {
     "name": "#%%\n"
    }
   }
  },
  {
   "cell_type": "markdown",
   "source": [
    "原先索引的日间隔被扩大为周间隔，并以周末为索引采样点，采样点的索引值为所有未被索引值的和。"
   ],
   "metadata": {
    "collapsed": false,
    "pycharm": {
     "name": "#%% md\n"
    }
   }
  },
  {
   "cell_type": "code",
   "execution_count": 34,
   "outputs": [
    {
     "data": {
      "text/plain": "2018-10-07    157\n2018-10-14     73\nFreq: W-SUN, dtype: int32"
     },
     "execution_count": 34,
     "metadata": {},
     "output_type": "execute_result"
    }
   ],
   "source": [
    "ts.resample('W').sum()"
   ],
   "metadata": {
    "collapsed": false,
    "pycharm": {
     "name": "#%%\n"
    }
   }
  },
  {
   "cell_type": "markdown",
   "source": [
    "同样也能使采样点的索引值为所有未被索引值的平均值。"
   ],
   "metadata": {
    "collapsed": false,
    "pycharm": {
     "name": "#%% md\n"
    }
   }
  },
  {
   "cell_type": "code",
   "execution_count": 35,
   "outputs": [
    {
     "data": {
      "text/plain": "2018-10-07    22.428571\n2018-10-14    24.333333\nFreq: W-SUN, dtype: float64"
     },
     "execution_count": 35,
     "metadata": {},
     "output_type": "execute_result"
    }
   ],
   "source": [
    "ts.resample(\"W\").mean()"
   ],
   "metadata": {
    "collapsed": false,
    "pycharm": {
     "name": "#%%\n"
    }
   }
  },
  {
   "cell_type": "markdown",
   "source": [
    "使用 [`ohlc()`](https://pandas.pydata.org/pandas-docs/stable/reference/api/pandas.core.resample.Resampler.ohlc.html) 函数对所用未被采样值进行统计。"
   ],
   "metadata": {
    "collapsed": false,
    "pycharm": {
     "name": "#%% md\n"
    }
   }
  },
  {
   "cell_type": "code",
   "execution_count": 36,
   "outputs": [
    {
     "data": {
      "text/plain": "            open  high  low  close\n2018-10-07    49    49    1      1\n2018-10-14    44    44    4      4",
      "text/html": "<div>\n<style scoped>\n    .dataframe tbody tr th:only-of-type {\n        vertical-align: middle;\n    }\n\n    .dataframe tbody tr th {\n        vertical-align: top;\n    }\n\n    .dataframe thead th {\n        text-align: right;\n    }\n</style>\n<table border=\"1\" class=\"dataframe\">\n  <thead>\n    <tr style=\"text-align: right;\">\n      <th></th>\n      <th>open</th>\n      <th>high</th>\n      <th>low</th>\n      <th>close</th>\n    </tr>\n  </thead>\n  <tbody>\n    <tr>\n      <th>2018-10-07</th>\n      <td>49</td>\n      <td>49</td>\n      <td>1</td>\n      <td>1</td>\n    </tr>\n    <tr>\n      <th>2018-10-14</th>\n      <td>44</td>\n      <td>44</td>\n      <td>4</td>\n      <td>4</td>\n    </tr>\n  </tbody>\n</table>\n</div>"
     },
     "execution_count": 36,
     "metadata": {},
     "output_type": "execute_result"
    }
   ],
   "source": [
    "ts.resample('W').ohlc()"
   ],
   "metadata": {
    "collapsed": false,
    "pycharm": {
     "name": "#%%\n"
    }
   }
  },
  {
   "cell_type": "markdown",
   "source": [
    "上采样：减小时间间隔频率，增加记录的数量。"
   ],
   "metadata": {
    "collapsed": false,
    "pycharm": {
     "name": "#%% md\n"
    }
   }
  },
  {
   "cell_type": "markdown",
   "source": [
    "原来间隔为日的索引列，间隔被缩小成 12 小时，增加采样点的值为空值。"
   ],
   "metadata": {
    "collapsed": false,
    "pycharm": {
     "name": "#%% md\n"
    }
   }
  },
  {
   "cell_type": "code",
   "execution_count": 37,
   "outputs": [
    {
     "data": {
      "text/plain": "2018-10-01 00:00:00    49.0\n2018-10-01 12:00:00     NaN\n2018-10-02 00:00:00     7.0\n2018-10-02 12:00:00     NaN\n2018-10-03 00:00:00    39.0\n2018-10-03 12:00:00     NaN\n2018-10-04 00:00:00    41.0\n2018-10-04 12:00:00     NaN\n2018-10-05 00:00:00    14.0\n2018-10-05 12:00:00     NaN\n2018-10-06 00:00:00     6.0\n2018-10-06 12:00:00     NaN\n2018-10-07 00:00:00     1.0\n2018-10-07 12:00:00     NaN\n2018-10-08 00:00:00    44.0\n2018-10-08 12:00:00     NaN\n2018-10-09 00:00:00    25.0\n2018-10-09 12:00:00     NaN\n2018-10-10 00:00:00     4.0\nFreq: 12H, dtype: float64"
     },
     "execution_count": 37,
     "metadata": {},
     "output_type": "execute_result"
    }
   ],
   "source": [
    "ts.resample('12H').asfreq()"
   ],
   "metadata": {
    "collapsed": false,
    "pycharm": {
     "name": "#%%\n"
    }
   }
  },
  {
   "cell_type": "markdown",
   "source": [
    "[`ffill()`](https://pandas.pydata.org/pandas-docs/stable/reference/api/pandas.DataFrame.ffill.html) 函数可以将新增的索引值以相邻的前一条索引值进行填充。"
   ],
   "metadata": {
    "collapsed": false,
    "pycharm": {
     "name": "#%% md\n"
    }
   }
  },
  {
   "cell_type": "code",
   "execution_count": 38,
   "outputs": [
    {
     "data": {
      "text/plain": "2018-10-01 00:00:00    49\n2018-10-01 12:00:00    49\n2018-10-02 00:00:00     7\n2018-10-02 12:00:00     7\n2018-10-03 00:00:00    39\n2018-10-03 12:00:00    39\n2018-10-04 00:00:00    41\n2018-10-04 12:00:00    41\n2018-10-05 00:00:00    14\n2018-10-05 12:00:00    14\n2018-10-06 00:00:00     6\n2018-10-06 12:00:00     6\n2018-10-07 00:00:00     1\n2018-10-07 12:00:00     1\n2018-10-08 00:00:00    44\n2018-10-08 12:00:00    44\n2018-10-09 00:00:00    25\n2018-10-09 12:00:00    25\n2018-10-10 00:00:00     4\nFreq: 12H, dtype: int32"
     },
     "execution_count": 38,
     "metadata": {},
     "output_type": "execute_result"
    }
   ],
   "source": [
    "ts.resample('12H').ffill()"
   ],
   "metadata": {
    "collapsed": false,
    "pycharm": {
     "name": "#%%\n"
    }
   }
  },
  {
   "cell_type": "markdown",
   "source": [
    "### 时间的算术方法"
   ],
   "metadata": {
    "collapsed": false,
    "pycharm": {
     "name": "#%% md\n"
    }
   }
  },
  {
   "cell_type": "markdown",
   "source": [
    "#### 常用时间的算术规则"
   ],
   "metadata": {
    "collapsed": false,
    "pycharm": {
     "name": "#%% md\n"
    }
   }
  },
  {
   "cell_type": "markdown",
   "source": [
    "下表是 Pandas 内建的一些时间类，常用于时间索引的位移。"
   ],
   "metadata": {
    "collapsed": false,
    "pycharm": {
     "name": "#%% md\n"
    }
   }
  },
  {
   "cell_type": "markdown",
   "source": [
    "<img width=\"450\" src=\"https://doc.shiyanlou.com/document-uid214893labid7506timestamp1543469398079.png\">"
   ],
   "metadata": {
    "collapsed": false,
    "pycharm": {
     "name": "#%% md\n"
    }
   }
  },
  {
   "cell_type": "markdown",
   "source": [
    "首先要导入 `pandas.tseries.offsets` 模块，Pandas 所有常用时间类都在该模块中。"
   ],
   "metadata": {
    "collapsed": false,
    "pycharm": {
     "name": "#%% md\n"
    }
   }
  },
  {
   "cell_type": "code",
   "execution_count": 44,
   "outputs": [
    {
     "data": {
      "text/plain": "Timestamp('2018-10-01 10:01:01')"
     },
     "execution_count": 44,
     "metadata": {},
     "output_type": "execute_result"
    }
   ],
   "source": [
    "d = pd.Timestamp(2018, 10, 1, 10, 1, 1)\n",
    "d"
   ],
   "metadata": {
    "collapsed": false,
    "pycharm": {
     "name": "#%%\n"
    }
   }
  },
  {
   "cell_type": "markdown",
   "source": [
    "使用 [`DateOffset()`](https://pandas.pydata.org/pandas-docs/stable/reference/api/pandas.tseries.offsets.DateOffset.html) 实现时间戳位移。"
   ],
   "metadata": {
    "collapsed": false,
    "pycharm": {
     "name": "#%% md\n"
    }
   }
  },
  {
   "cell_type": "code",
   "execution_count": 46,
   "outputs": [
    {
     "data": {
      "text/plain": "Timestamp('2018-11-04 10:01:01')"
     },
     "execution_count": 46,
     "metadata": {},
     "output_type": "execute_result"
    }
   ],
   "source": [
    "from pandas.tseries.offsets import DateOffset\n",
    "\n",
    "d + DateOffset(months=1, days=3)"
   ],
   "metadata": {
    "collapsed": false,
    "pycharm": {
     "name": "#%%\n"
    }
   }
  },
  {
   "cell_type": "markdown",
   "source": [
    "也可以用时间戳加减常用时间类以实现时间戳位移。向前移动 10 个工作日。"
   ],
   "metadata": {
    "collapsed": false,
    "pycharm": {
     "name": "#%% md\n"
    }
   }
  },
  {
   "cell_type": "code",
   "execution_count": 49,
   "outputs": [
    {
     "data": {
      "text/plain": "Timestamp('2018-09-17 10:01:01')"
     },
     "execution_count": 49,
     "metadata": {},
     "output_type": "execute_result"
    }
   ],
   "source": [
    "from pandas.tseries.offsets import BDay\n",
    "\n",
    "d - 10*BDay()"
   ],
   "metadata": {
    "collapsed": false,
    "pycharm": {
     "name": "#%%\n"
    }
   }
  },
  {
   "cell_type": "code",
   "execution_count": 50,
   "outputs": [
    {
     "data": {
      "text/plain": "Timestamp('2018-10-31 10:01:01')"
     },
     "execution_count": 50,
     "metadata": {},
     "output_type": "execute_result"
    }
   ],
   "source": [
    "from pandas.tseries.offsets import BMonthEnd\n",
    "\n",
    "d + BMonthEnd()"
   ],
   "metadata": {
    "collapsed": false,
    "pycharm": {
     "name": "#%%\n"
    }
   }
  },
  {
   "cell_type": "markdown",
   "source": [
    "个性化定制日期。虽然日历规定年末是 12 月，加入参数后相当于人为规定 2 月是年末。"
   ],
   "metadata": {
    "collapsed": false,
    "pycharm": {
     "name": "#%% md\n"
    }
   }
  },
  {
   "cell_type": "markdown",
   "source": [
    "向后移动到上两个年末。"
   ],
   "metadata": {
    "collapsed": false,
    "pycharm": {
     "name": "#%% md\n"
    }
   }
  },
  {
   "cell_type": "code",
   "execution_count": 51,
   "outputs": [
    {
     "data": {
      "text/plain": "Timestamp('2019-02-28 10:01:01')"
     },
     "execution_count": 51,
     "metadata": {},
     "output_type": "execute_result"
    }
   ],
   "source": [
    "from pandas.tseries.offsets import YearEnd\n",
    "\n",
    "d + YearEnd(month=2)"
   ],
   "metadata": {
    "collapsed": false,
    "pycharm": {
     "name": "#%%\n"
    }
   }
  },
  {
   "cell_type": "markdown",
   "source": [
    "向前移动到上一个周四。"
   ],
   "metadata": {
    "collapsed": false,
    "pycharm": {
     "name": "#%% md\n"
    }
   }
  },
  {
   "cell_type": "code",
   "execution_count": 52,
   "outputs": [
    {
     "data": {
      "text/plain": "Timestamp('2018-09-28 10:01:01')"
     },
     "execution_count": 52,
     "metadata": {},
     "output_type": "execute_result"
    }
   ],
   "source": [
    "from pandas.tseries.offsets import Week\n",
    "\n",
    "d - Week(weekday=4)"
   ],
   "metadata": {
    "collapsed": false,
    "pycharm": {
     "name": "#%%\n"
    }
   }
  },
  {
   "cell_type": "markdown",
   "source": [
    "可以使用 [`rollforward()`](https://pandas.pydata.org/pandas-docs/stable/reference/api/pandas.tseries.offsets.DateOffset.rollforward.html) 将指定时间向前或向后移动到一个制定常用时间类的时间戳上。将时间移动到下一个月末："
   ],
   "metadata": {
    "collapsed": false,
    "pycharm": {
     "name": "#%% md\n"
    }
   }
  },
  {
   "cell_type": "code",
   "execution_count": 53,
   "outputs": [
    {
     "data": {
      "text/plain": "Timestamp('2018-10-31 10:01:01')"
     },
     "execution_count": 53,
     "metadata": {},
     "output_type": "execute_result"
    }
   ],
   "source": [
    "offset = BMonthEnd()\n",
    "offset.rollforward(d)"
   ],
   "metadata": {
    "collapsed": false,
    "pycharm": {
     "name": "#%%\n"
    }
   }
  },
  {
   "cell_type": "code",
   "execution_count": 54,
   "outputs": [
    {
     "data": {
      "text/plain": "Timestamp('2018-09-28 10:01:01')"
     },
     "execution_count": 54,
     "metadata": {},
     "output_type": "execute_result"
    }
   ],
   "source": [
    "offset.rollback(d)"
   ],
   "metadata": {
    "collapsed": false,
    "pycharm": {
     "name": "#%%\n"
    }
   }
  },
  {
   "cell_type": "code",
   "execution_count": 55,
   "outputs": [
    {
     "data": {
      "text/plain": "Timestamp('2018-10-01 10:01:01')"
     },
     "execution_count": 55,
     "metadata": {},
     "output_type": "execute_result"
    }
   ],
   "source": [
    "d"
   ],
   "metadata": {
    "collapsed": false,
    "pycharm": {
     "name": "#%%\n"
    }
   }
  },
  {
   "cell_type": "markdown",
   "source": [
    "偏移也同样适用于时间索引"
   ],
   "metadata": {
    "collapsed": false,
    "pycharm": {
     "name": "#%% md\n"
    }
   }
  },
  {
   "cell_type": "code",
   "execution_count": 56,
   "outputs": [
    {
     "data": {
      "text/plain": "DatetimeIndex(['2018-10-01', '2018-10-02', '2018-10-03', '2018-10-04',\n               '2018-10-05', '2018-10-06', '2018-10-07', '2018-10-08',\n               '2018-10-09', '2018-10-10'],\n              dtype='datetime64[ns]', freq='D')"
     },
     "execution_count": 56,
     "metadata": {},
     "output_type": "execute_result"
    }
   ],
   "source": [
    "rng"
   ],
   "metadata": {
    "collapsed": false,
    "pycharm": {
     "name": "#%%\n"
    }
   }
  },
  {
   "cell_type": "markdown",
   "source": [
    "所有的时间索引向后移动两日。"
   ],
   "metadata": {
    "collapsed": false,
    "pycharm": {
     "name": "#%% md\n"
    }
   }
  },
  {
   "cell_type": "code",
   "execution_count": 57,
   "outputs": [
    {
     "data": {
      "text/plain": "DatetimeIndex(['2018-10-03', '2018-10-04', '2018-10-05', '2018-10-06',\n               '2018-10-07', '2018-10-08', '2018-10-09', '2018-10-10',\n               '2018-10-11', '2018-10-12'],\n              dtype='datetime64[ns]', freq=None)"
     },
     "execution_count": 57,
     "metadata": {},
     "output_type": "execute_result"
    }
   ],
   "source": [
    "rng + DateOffset(days=2)"
   ],
   "metadata": {
    "collapsed": false,
    "pycharm": {
     "name": "#%%\n"
    }
   }
  },
  {
   "cell_type": "markdown",
   "source": [
    "所有的时间索引向后移动两个工作日。"
   ],
   "metadata": {
    "collapsed": false,
    "pycharm": {
     "name": "#%% md\n"
    }
   }
  },
  {
   "cell_type": "code",
   "execution_count": 58,
   "outputs": [
    {
     "data": {
      "text/plain": "DatetimeIndex(['2018-10-03', '2018-10-04', '2018-10-05', '2018-10-08',\n               '2018-10-09', '2018-10-09', '2018-10-09', '2018-10-10',\n               '2018-10-11', '2018-10-12'],\n              dtype='datetime64[ns]', freq=None)"
     },
     "execution_count": 58,
     "metadata": {},
     "output_type": "execute_result"
    }
   ],
   "source": [
    "rng + 2*BDay()"
   ],
   "metadata": {
    "collapsed": false,
    "pycharm": {
     "name": "#%%\n"
    }
   }
  },
  {
   "cell_type": "markdown",
   "source": [
    "所有的时间索引向后移动 15 分钟。"
   ],
   "metadata": {
    "collapsed": false,
    "pycharm": {
     "name": "#%% md\n"
    }
   }
  },
  {
   "cell_type": "code",
   "execution_count": 59,
   "outputs": [
    {
     "data": {
      "text/plain": "DatetimeIndex(['2018-10-01 00:15:00', '2018-10-02 00:15:00',\n               '2018-10-03 00:15:00', '2018-10-04 00:15:00',\n               '2018-10-05 00:15:00', '2018-10-06 00:15:00',\n               '2018-10-07 00:15:00', '2018-10-08 00:15:00',\n               '2018-10-09 00:15:00', '2018-10-10 00:15:00'],\n              dtype='datetime64[ns]', freq='D')"
     },
     "execution_count": 59,
     "metadata": {},
     "output_type": "execute_result"
    }
   ],
   "source": [
    "from pandas.tseries.offsets import Minute\n",
    "\n",
    "rng + Minute(15)"
   ],
   "metadata": {
    "collapsed": false,
    "pycharm": {
     "name": "#%%\n"
    }
   }
  },
  {
   "cell_type": "markdown",
   "source": [
    "下列是常用时间系列频率参数，上面小节经常出现，现在以一个表格作详细说明。"
   ],
   "metadata": {
    "collapsed": false,
    "pycharm": {
     "name": "#%% md\n"
    }
   }
  },
  {
   "cell_type": "markdown",
   "source": [],
   "metadata": {
    "collapsed": false,
    "pycharm": {
     "name": "#%% md\n"
    }
   }
  },
  {
   "cell_type": "markdown",
   "source": [
    "| 参数名 | 说明 |\n",
    "|:------:|:--------------------------:|\n",
    "| B | 工作日频率 |\n",
    "| C | 定制工作日频率 |\n",
    "| D | 日历日频率 |\n",
    "| W | 每周频率 |\n",
    "| M | 月结束频率 |\n",
    "| SM | 半月结束频率(15 个月和月末) |\n",
    "| BM | 业务月末频率 |\n",
    "| CBM | 定制业务月末频率 |\n",
    "| MS | 月起始频率 |\n",
    "| sMs | 半月起始频率(第 1 和 15) |\n",
    "| BMS | 业务月开始频率 |\n",
    "| CBMS | 定制商业月份开始频率 |\n",
    "| Q | 四分频结束频率 |\n",
    "| BQ | 业务四分之一频率 |\n",
    "| QS | 四分频启动频率 |\n",
    "| BQS | 业务季开始频率 |\n",
    "| A | 年结束频率 |\n",
    "| BA | 业务年结束频率 |\n",
    "| AS | 年起始频率 |\n",
    "| BAS | 业务年开始频率 |\n",
    "| BH | 工作时间频率 |\n",
    "| H | 每小时频率 |\n",
    "| T, min | 分钟频率 |\n",
    "| S | 次频 |\n",
    "| L, ms | 毫秒 |\n",
    "| U, uS | 微秒 |\n",
    "| N | 纳秒 |"
   ],
   "metadata": {
    "collapsed": false,
    "pycharm": {
     "name": "#%% md\n"
    }
   }
  },
  {
   "cell_type": "markdown",
   "source": [
    "使用常用频率参数组合创建时间索引。\n",
    "创建 10 条以 2018 年 10 月 1 日为开始，间隔为 1 天 1 小时 1 分钟 10 微秒的时间索引。"
   ],
   "metadata": {
    "collapsed": false,
    "pycharm": {
     "name": "#%% md\n"
    }
   }
  },
  {
   "cell_type": "code",
   "execution_count": 62,
   "outputs": [
    {
     "data": {
      "text/plain": "DatetimeIndex([       '2018-10-01 00:00:00', '2018-10-02 01:01:00.000010',\n               '2018-10-03 02:02:00.000020', '2018-10-04 03:03:00.000030',\n               '2018-10-05 04:04:00.000040', '2018-10-06 05:05:00.000050',\n               '2018-10-07 06:06:00.000060', '2018-10-08 07:07:00.000070',\n               '2018-10-09 08:08:00.000080', '2018-10-10 09:09:00.000090'],\n              dtype='datetime64[ns]', freq='90060000010U')"
     },
     "execution_count": 62,
     "metadata": {},
     "output_type": "execute_result"
    }
   ],
   "source": [
    "pd.date_range(\"2018-10-1\", periods=10, freq='1D1H1T10U')"
   ],
   "metadata": {
    "collapsed": false,
    "pycharm": {
     "name": "#%%\n"
    }
   }
  },
  {
   "cell_type": "markdown",
   "source": [
    "以下频率参数可以指定后缀以达到改变默认间隔点的效果。"
   ],
   "metadata": {
    "collapsed": false,
    "pycharm": {
     "name": "#%% md\n"
    }
   }
  },
  {
   "cell_type": "markdown",
   "source": [],
   "metadata": {
    "collapsed": false,
    "pycharm": {
     "name": "#%% md\n"
    }
   }
  },
  {
   "cell_type": "markdown",
   "source": [
    "<img width=\"450\" src=\"https://doc.shiyanlou.com/document-uid214893labid7506timestamp1543469470665.png\">"
   ],
   "metadata": {
    "collapsed": false,
    "pycharm": {
     "name": "#%% md\n"
    }
   }
  },
  {
   "cell_type": "markdown",
   "source": [
    "创建 10 条以 2018 年 10 月 1 日为开始，间隔为每周三的时间索引。"
   ],
   "metadata": {
    "collapsed": false,
    "pycharm": {
     "name": "#%% md\n"
    }
   }
  },
  {
   "cell_type": "code",
   "execution_count": 68,
   "outputs": [
    {
     "data": {
      "text/plain": "DatetimeIndex(['2018-10-03', '2018-10-10', '2018-10-17', '2018-10-24',\n               '2018-10-31', '2018-11-07', '2018-11-14', '2018-11-21',\n               '2018-11-28', '2018-12-05'],\n              dtype='datetime64[ns]', freq='W-WED')"
     },
     "execution_count": 68,
     "metadata": {},
     "output_type": "execute_result"
    }
   ],
   "source": [
    "pd.date_range(\"2018-10-1\", periods=10, freq='W-WED')"
   ],
   "metadata": {
    "collapsed": false,
    "pycharm": {
     "name": "#%%\n"
    }
   }
  },
  {
   "cell_type": "markdown",
   "source": [
    "在使用特定频率（MonthEnd，MonthBegin，WeekEnd 等）的参数时，如果起始时间是刚好在频率点上，使用 `n` 参数可以决定是否让该点参与计算。\n",
    "`n=1` 时参与计算。\n",
    "`n=0` 时不参与计算。"
   ],
   "metadata": {
    "collapsed": false,
    "pycharm": {
     "name": "#%% md\n"
    }
   }
  },
  {
   "cell_type": "code",
   "execution_count": 69,
   "outputs": [
    {
     "data": {
      "text/plain": "Timestamp('2018-11-01 00:00:00')"
     },
     "execution_count": 69,
     "metadata": {},
     "output_type": "execute_result"
    }
   ],
   "source": [
    "from pandas.tseries.offsets import MonthBegin\n",
    "\n",
    "pd.Timestamp('2018-10-1') + MonthBegin(n=1)"
   ],
   "metadata": {
    "collapsed": false,
    "pycharm": {
     "name": "#%%\n"
    }
   }
  },
  {
   "cell_type": "code",
   "execution_count": 70,
   "outputs": [
    {
     "data": {
      "text/plain": "Timestamp('2018-10-01 00:00:00')"
     },
     "execution_count": 70,
     "metadata": {},
     "output_type": "execute_result"
    }
   ],
   "source": [
    "pd.Timestamp('2018-10-1') + MonthBegin(n=0)"
   ],
   "metadata": {
    "collapsed": false,
    "pycharm": {
     "name": "#%%\n"
    }
   }
  },
  {
   "cell_type": "markdown",
   "source": [
    "#### 下采样聚合"
   ],
   "metadata": {
    "collapsed": false,
    "pycharm": {
     "name": "#%% md\n"
    }
   }
  },
  {
   "cell_type": "markdown",
   "source": [
    "下采样中的聚合是指下采样后，对未被采样到的点进行的一系列计算。"
   ],
   "metadata": {
    "collapsed": false,
    "pycharm": {
     "name": "#%% md\n"
    }
   }
  },
  {
   "cell_type": "markdown",
   "source": [
    "创建 100 个日历日为时间索引的 DataFrame，将其以月频率下采样。"
   ],
   "metadata": {
    "collapsed": false,
    "pycharm": {
     "name": "#%% md\n"
    }
   }
  },
  {
   "cell_type": "code",
   "execution_count": 74,
   "outputs": [
    {
     "data": {
      "text/plain": "<pandas.core.resample.DatetimeIndexResampler object at 0x00000224DC705880>"
     },
     "execution_count": 74,
     "metadata": {},
     "output_type": "execute_result"
    }
   ],
   "source": [
    "df = pd.DataFrame(np.random.rand(100,3),\n",
    "                  index=pd.date_range('10/1/2018', freq='D', periods=100),\n",
    "                  columns=['A','B','C'])\n",
    "r = df.resample('M')\n",
    "r"
   ],
   "metadata": {
    "collapsed": false,
    "pycharm": {
     "name": "#%%\n"
    }
   }
  },
  {
   "cell_type": "markdown",
   "source": [
    "对未采样点求和，结果保存在采样点的值中。"
   ],
   "metadata": {
    "collapsed": false,
    "pycharm": {
     "name": "#%% md\n"
    }
   }
  },
  {
   "cell_type": "code",
   "execution_count": 75,
   "outputs": [
    {
     "data": {
      "text/plain": "                    A          B          C\n2018-10-31  16.637912  13.506439  15.616941\n2018-11-30  13.716681  17.033749  14.346666\n2018-12-31  11.384160  16.646572  16.749703\n2019-01-31   5.373166   3.336520   3.466780",
      "text/html": "<div>\n<style scoped>\n    .dataframe tbody tr th:only-of-type {\n        vertical-align: middle;\n    }\n\n    .dataframe tbody tr th {\n        vertical-align: top;\n    }\n\n    .dataframe thead th {\n        text-align: right;\n    }\n</style>\n<table border=\"1\" class=\"dataframe\">\n  <thead>\n    <tr style=\"text-align: right;\">\n      <th></th>\n      <th>A</th>\n      <th>B</th>\n      <th>C</th>\n    </tr>\n  </thead>\n  <tbody>\n    <tr>\n      <th>2018-10-31</th>\n      <td>16.637912</td>\n      <td>13.506439</td>\n      <td>15.616941</td>\n    </tr>\n    <tr>\n      <th>2018-11-30</th>\n      <td>13.716681</td>\n      <td>17.033749</td>\n      <td>14.346666</td>\n    </tr>\n    <tr>\n      <th>2018-12-31</th>\n      <td>11.384160</td>\n      <td>16.646572</td>\n      <td>16.749703</td>\n    </tr>\n    <tr>\n      <th>2019-01-31</th>\n      <td>5.373166</td>\n      <td>3.336520</td>\n      <td>3.466780</td>\n    </tr>\n  </tbody>\n</table>\n</div>"
     },
     "execution_count": 75,
     "metadata": {},
     "output_type": "execute_result"
    }
   ],
   "source": [
    "r.sum()"
   ],
   "metadata": {
    "collapsed": false,
    "pycharm": {
     "name": "#%%\n"
    }
   }
  },
  {
   "cell_type": "markdown",
   "source": [
    "在下采样后也能进行查找操作。选择 A、C 列后取均值计算。"
   ],
   "metadata": {
    "collapsed": false,
    "pycharm": {
     "name": "#%% md\n"
    }
   }
  },
  {
   "cell_type": "code",
   "execution_count": 76,
   "outputs": [
    {
     "data": {
      "text/plain": "                   A         C\n2018-10-31  0.536707  0.503772\n2018-11-30  0.457223  0.478222\n2018-12-31  0.367231  0.540313\n2019-01-31  0.671646  0.433348",
      "text/html": "<div>\n<style scoped>\n    .dataframe tbody tr th:only-of-type {\n        vertical-align: middle;\n    }\n\n    .dataframe tbody tr th {\n        vertical-align: top;\n    }\n\n    .dataframe thead th {\n        text-align: right;\n    }\n</style>\n<table border=\"1\" class=\"dataframe\">\n  <thead>\n    <tr style=\"text-align: right;\">\n      <th></th>\n      <th>A</th>\n      <th>C</th>\n    </tr>\n  </thead>\n  <tbody>\n    <tr>\n      <th>2018-10-31</th>\n      <td>0.536707</td>\n      <td>0.503772</td>\n    </tr>\n    <tr>\n      <th>2018-11-30</th>\n      <td>0.457223</td>\n      <td>0.478222</td>\n    </tr>\n    <tr>\n      <th>2018-12-31</th>\n      <td>0.367231</td>\n      <td>0.540313</td>\n    </tr>\n    <tr>\n      <th>2019-01-31</th>\n      <td>0.671646</td>\n      <td>0.433348</td>\n    </tr>\n  </tbody>\n</table>\n</div>"
     },
     "execution_count": 76,
     "metadata": {},
     "output_type": "execute_result"
    }
   ],
   "source": [
    "r[['A','C']].mean()"
   ],
   "metadata": {
    "collapsed": false,
    "pycharm": {
     "name": "#%%\n"
    }
   }
  },
  {
   "cell_type": "markdown",
   "source": [
    "使用 [`agg()`](https://pandas.pydata.org/pandas-docs/stable/reference/api/pandas.DataFrame.agg.html) 同时进行不同的计算。对采样结果进行取和与取均值计算。"
   ],
   "metadata": {
    "collapsed": false,
    "pycharm": {
     "name": "#%% md\n"
    }
   }
  },
  {
   "cell_type": "code",
   "execution_count": null,
   "outputs": [],
   "source": [
    "r.agg([np.sum, np.mean])"
   ],
   "metadata": {
    "collapsed": false,
    "pycharm": {
     "name": "#%%\n"
    }
   }
  },
  {
   "cell_type": "markdown",
   "source": [
    "选择 A 列，同时进行取和，取均值，取标准差计算。"
   ],
   "metadata": {
    "collapsed": false,
    "pycharm": {
     "name": "#%% md\n"
    }
   }
  },
  {
   "cell_type": "code",
   "execution_count": 79,
   "outputs": [
    {
     "data": {
      "text/plain": "                  sum      mean       std\n2018-10-31  16.637912  0.536707  0.272288\n2018-11-30  13.716681  0.457223  0.306348\n2018-12-31  11.384160  0.367231  0.286637\n2019-01-31   5.373166  0.671646  0.250216",
      "text/html": "<div>\n<style scoped>\n    .dataframe tbody tr th:only-of-type {\n        vertical-align: middle;\n    }\n\n    .dataframe tbody tr th {\n        vertical-align: top;\n    }\n\n    .dataframe thead th {\n        text-align: right;\n    }\n</style>\n<table border=\"1\" class=\"dataframe\">\n  <thead>\n    <tr style=\"text-align: right;\">\n      <th></th>\n      <th>sum</th>\n      <th>mean</th>\n      <th>std</th>\n    </tr>\n  </thead>\n  <tbody>\n    <tr>\n      <th>2018-10-31</th>\n      <td>16.637912</td>\n      <td>0.536707</td>\n      <td>0.272288</td>\n    </tr>\n    <tr>\n      <th>2018-11-30</th>\n      <td>13.716681</td>\n      <td>0.457223</td>\n      <td>0.306348</td>\n    </tr>\n    <tr>\n      <th>2018-12-31</th>\n      <td>11.384160</td>\n      <td>0.367231</td>\n      <td>0.286637</td>\n    </tr>\n    <tr>\n      <th>2019-01-31</th>\n      <td>5.373166</td>\n      <td>0.671646</td>\n      <td>0.250216</td>\n    </tr>\n  </tbody>\n</table>\n</div>"
     },
     "execution_count": 79,
     "metadata": {},
     "output_type": "execute_result"
    }
   ],
   "source": [
    "r['A'].agg([np.sum, np.mean, np.std])"
   ],
   "metadata": {
    "collapsed": false,
    "pycharm": {
     "name": "#%%\n"
    }
   }
  },
  {
   "cell_type": "markdown",
   "source": [
    "对 A 列求和与标准差，对 B 列求均值与标准差。"
   ],
   "metadata": {
    "collapsed": false,
    "pycharm": {
     "name": "#%% md\n"
    }
   }
  },
  {
   "cell_type": "code",
   "execution_count": 80,
   "outputs": [
    {
     "data": {
      "text/plain": "                    A                   B          \n                  sum       std      mean       std\n2018-10-31  16.637912  0.272288  0.435692  0.299198\n2018-11-30  13.716681  0.306348  0.567792  0.279434\n2018-12-31  11.384160  0.286637  0.536986  0.275701\n2019-01-31   5.373166  0.250216  0.417065  0.276734",
      "text/html": "<div>\n<style scoped>\n    .dataframe tbody tr th:only-of-type {\n        vertical-align: middle;\n    }\n\n    .dataframe tbody tr th {\n        vertical-align: top;\n    }\n\n    .dataframe thead tr th {\n        text-align: left;\n    }\n</style>\n<table border=\"1\" class=\"dataframe\">\n  <thead>\n    <tr>\n      <th></th>\n      <th colspan=\"2\" halign=\"left\">A</th>\n      <th colspan=\"2\" halign=\"left\">B</th>\n    </tr>\n    <tr>\n      <th></th>\n      <th>sum</th>\n      <th>std</th>\n      <th>mean</th>\n      <th>std</th>\n    </tr>\n  </thead>\n  <tbody>\n    <tr>\n      <th>2018-10-31</th>\n      <td>16.637912</td>\n      <td>0.272288</td>\n      <td>0.435692</td>\n      <td>0.299198</td>\n    </tr>\n    <tr>\n      <th>2018-11-30</th>\n      <td>13.716681</td>\n      <td>0.306348</td>\n      <td>0.567792</td>\n      <td>0.279434</td>\n    </tr>\n    <tr>\n      <th>2018-12-31</th>\n      <td>11.384160</td>\n      <td>0.286637</td>\n      <td>0.536986</td>\n      <td>0.275701</td>\n    </tr>\n    <tr>\n      <th>2019-01-31</th>\n      <td>5.373166</td>\n      <td>0.250216</td>\n      <td>0.417065</td>\n      <td>0.276734</td>\n    </tr>\n  </tbody>\n</table>\n</div>"
     },
     "execution_count": 80,
     "metadata": {},
     "output_type": "execute_result"
    }
   ],
   "source": [
    "r.agg({'A': ['sum','std'],'B': ['mean', 'std']})"
   ],
   "metadata": {
    "collapsed": false,
    "pycharm": {
     "name": "#%%\n"
    }
   }
  },
  {
   "cell_type": "code",
   "execution_count": null,
   "outputs": [],
   "source": [],
   "metadata": {
    "collapsed": false,
    "pycharm": {
     "name": "#%%\n"
    }
   }
  }
 ],
 "metadata": {
  "kernelspec": {
   "display_name": "Python 3 (ipykernel)",
   "language": "python",
   "name": "python3"
  },
  "language_info": {
   "codemirror_mode": {
    "name": "ipython",
    "version": 3
   },
   "file_extension": ".py",
   "mimetype": "text/x-python",
   "name": "python",
   "nbconvert_exporter": "python",
   "pygments_lexer": "ipython3",
   "version": "3.9.13"
  }
 },
 "nbformat": 4,
 "nbformat_minor": 1
}