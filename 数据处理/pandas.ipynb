{
 "cells": [
  {
   "cell_type": "markdown",
   "metadata": {
    "pycharm": {
     "name": "#%% md\n"
    }
   },
   "source": [
    "## Pandas 数据处理基础"
   ]
  },
  {
   "cell_type": "markdown",
   "metadata": {
    "pycharm": {
     "name": "#%% md\n"
    }
   },
   "source": [
    "#### 介绍"
   ]
  },
  {
   "cell_type": "markdown",
   "metadata": {
    "pycharm": {
     "name": "#%% md\n"
    }
   },
   "source": [
    "Pandas 是非常著名的开源数据处理库，我们可以通过它完成对数据集进行快速读取、转换、过滤、分析等一系列操作。除此之外，Pandas 拥有强大的缺失数据处理与数据透视功能，可谓是数据预处理中的必备利器。"
   ]
  },
  {
   "cell_type": "markdown",
   "metadata": {
    "pycharm": {
     "name": "#%% md\n"
    }
   },
   "source": [
    "#### 知识点"
   ]
  },
  {
   "cell_type": "markdown",
   "metadata": {
    "pycharm": {
     "name": "#%% md\n"
    }
   },
   "source": [
    "- 数据类型\n",
    "- 数据读取\n",
    "- 数据选择\n",
    "- 数据删减\n",
    "- 数据填充"
   ]
  },
  {
   "cell_type": "markdown",
   "metadata": {
    "pycharm": {
     "name": "#%% md\n"
    }
   },
   "source": [
    "---"
   ]
  },
  {
   "cell_type": "markdown",
   "metadata": {
    "pycharm": {
     "name": "#%% md\n"
    }
   },
   "source": [
    "<img width='400px' src=\"https://doc.shiyanlou.com/courses/uid214893-20200506-1588754125824\">"
   ]
  },
  {
   "cell_type": "markdown",
   "metadata": {
    "pycharm": {
     "name": "#%% md\n"
    }
   },
   "source": [
    "Pandas 是非常著名的开源数据处理库，其基于 NumPy 开发，该工具是 Scipy 生态中为了解决数据分析任务而设计。Pandas 纳入了大量库和一些标准的数据模型，提供了高效地操作大型数据集所需的函数和方法。\n",
    "特有的数据结构是 Pandas 的优势和核心。简单来讲，我们可以将任意格式的数据转换为 Pandas 的数据类型，并使用 Pandas 提供的一系列方法进行转换、操作，最终得到我们期望的结果。\n",
    "所以，我们首先需要了解并熟悉 Pandas 支持的数据类型。"
   ]
  },
  {
   "cell_type": "markdown",
   "metadata": {
    "pycharm": {
     "name": "#%% md\n"
    }
   },
   "source": [
    "### 数据类型"
   ]
  },
  {
   "cell_type": "markdown",
   "metadata": {
    "pycharm": {
     "name": "#%% md\n"
    }
   },
   "source": [
    "Pandas 的数据类型主要有以下几种，它们分别是：Series（一维数组），DataFrame（二维数组），Panel（三维数组），Panel4D（四维数组），PanelND（更多维数组）。其中 Series 和 DataFrame 应用的最为广泛，几乎占据了使用频率 90% 以上。"
   ]
  },
  {
   "cell_type": "markdown",
   "metadata": {
    "pycharm": {
     "name": "#%% md\n"
    }
   },
   "source": [
    "#### Series"
   ]
  },
  {
   "cell_type": "markdown",
   "metadata": {
    "pycharm": {
     "name": "#%% md\n"
    }
   },
   "source": [
    "[<i class=\"fa fa-external-link-square\" aria-hidden=\"true\"> Series</i>](https://pandas.pydata.org/pandas-docs/stable/reference/api/pandas.Series.html) 是 Pandas 中最基本的一维数组形式。其可以储存整数、浮点数、字符串等类型的数据。Series 基本结构如下："
   ]
  },
  {
   "cell_type": "markdown",
   "metadata": {
    "pycharm": {
     "name": "#%% md\n"
    }
   },
   "source": []
  },
  {
   "cell_type": "markdown",
   "metadata": {
    "pycharm": {
     "name": "#%% md\n"
    }
   },
   "source": [
    "其中，`data` 可以是字典，或者NumPy 里的 ndarray 对象等。`index` 是数据索引，索引是 Pandas 数据结构中的一大特性，它主要的功能是帮助我们更快速地定位数据。"
   ]
  },
  {
   "cell_type": "markdown",
   "metadata": {
    "pycharm": {
     "name": "#%% md\n"
    }
   },
   "source": [
    "下面，我们基于 Python 字典新建一个示例 Series。"
   ]
  },
  {
   "cell_type": "code",
   "execution_count": 1,
   "metadata": {
    "pycharm": {
     "name": "#%%\n"
    }
   },
   "outputs": [
    {
     "data": {
      "text/plain": "a    10\nb    20\nc    30\ndtype: int64"
     },
     "execution_count": 1,
     "metadata": {},
     "output_type": "execute_result"
    }
   ],
   "source": [
    "%matplotlib inline\n",
    "import pandas as pd\n",
    "\n",
    "s = pd.Series({'a': 10, 'b': 20, 'c': 30})\n",
    "s"
   ]
  },
  {
   "cell_type": "code",
   "execution_count": 2,
   "metadata": {
    "pycharm": {
     "name": "#%%\n"
    }
   },
   "outputs": [
    {
     "data": {
      "text/plain": "pandas.core.series.Series"
     },
     "execution_count": 2,
     "metadata": {},
     "output_type": "execute_result"
    }
   ],
   "source": [
    "type(s)"
   ]
  },
  {
   "cell_type": "markdown",
   "metadata": {
    "pycharm": {
     "name": "#%% md\n"
    }
   },
   "source": [
    "由于 Pandas 基于 NumPy 开发。那么 NumPy 的数据类型 `ndarray` 多维数组自然就可以转换为 Pandas 中的数据。而 Series 则可以基于 NumPy 中的一维数据转换。"
   ]
  },
  {
   "cell_type": "code",
   "execution_count": 3,
   "metadata": {
    "pycharm": {
     "name": "#%%\n"
    }
   },
   "outputs": [
    {
     "data": {
      "text/plain": "0   -1.359503\n1    0.812914\n2    1.028101\n3   -2.097189\n4   -1.138537\ndtype: float64"
     },
     "execution_count": 3,
     "metadata": {},
     "output_type": "execute_result"
    }
   ],
   "source": [
    "import numpy as np\n",
    "\n",
    "s = pd.Series(np.random.randn(5))\n",
    "#randn函数返回一个或一组样本，具有标准正态分布。\n",
    "#标准正态分布又称为u分布，是以0为均值、以1为标准差的正态分布，记为N（0，1）。\n",
    "s"
   ]
  },
  {
   "cell_type": "markdown",
   "metadata": {
    "pycharm": {
     "name": "#%% md\n"
    }
   },
   "source": [
    "如上所示，我们给出了 NumPy 生成的一维随机数组，最终得到的 Series 索引默认从 0 开始，而数值类型为 `float64`。"
   ]
  },
  {
   "cell_type": "markdown",
   "metadata": {
    "pycharm": {
     "name": "#%% md\n"
    }
   },
   "source": [
    "#### DataFrame"
   ]
  },
  {
   "cell_type": "markdown",
   "metadata": {
    "pycharm": {
     "name": "#%% md\n"
    }
   },
   "source": [
    "DataFrame 是 Pandas 中最为常见、最重要且使用频率最高的数据结构。DataFrame 和平常的电子表格或 SQL 表结构相似。你可以把 DataFrame 看成是 Series 的扩展类型，它仿佛是由多个 Series 拼合而成。它和 Series 的直观区别在于，数据不但具有行索引，且具有列索引。"
   ]
  },
  {
   "cell_type": "markdown",
   "metadata": {
    "pycharm": {
     "name": "#%% md\n"
    }
   },
   "source": [
    "<img width='400px' src=\"https://doc.shiyanlou.com/courses/uid214893-20190531-1559284057250\">\n",
    "<div style=\"color: #888; font-size: 10px; text-align: right;\"><a href=\"https://www.learndatasci.com/tutorials/python-pandas-tutorial-complete-introduction-for-beginners/\"><i class=\"fa fa-copyright\" aria-hidden=\"true\"> 来源</i></a></div>"
   ]
  },
  {
   "cell_type": "markdown",
   "metadata": {
    "pycharm": {
     "name": "#%% md\n"
    }
   },
   "source": [
    "DataFrame 基本结构如下："
   ]
  },
  {
   "cell_type": "markdown",
   "metadata": {
    "pycharm": {
     "name": "#%% md\n"
    }
   },
   "source": [
    "```\n",
    "pandas.DataFrame(data=None, index=None, columns=None)\n",
    "```"
   ]
  },
  {
   "cell_type": "markdown",
   "metadata": {
    "pycharm": {
     "name": "#%% md\n"
    }
   },
   "source": [
    "区别于 Series，其增加了 `columns` 列索引。DataFrame 可以由以下多个类型的数据构建："
   ]
  },
  {
   "cell_type": "markdown",
   "metadata": {
    "pycharm": {
     "name": "#%% md\n"
    }
   },
   "source": [
    "- 一维数组、列表、字典或者 Series 字典。\n",
    "- 二维或者结构化的 `numpy.ndarray`。\n",
    "- 一个 Series 或者另一个 DataFrame。"
   ]
  },
  {
   "cell_type": "markdown",
   "metadata": {
    "pycharm": {
     "name": "#%% md\n"
    }
   },
   "source": [
    "例如，我们首先使用一个由 Series 组成的字典来构建 DataFrame。"
   ]
  },
  {
   "cell_type": "code",
   "execution_count": 4,
   "metadata": {
    "pycharm": {
     "name": "#%%\n"
    }
   },
   "outputs": [
    {
     "data": {
      "text/plain": "   one  two\n0    1    4\n1    2    5\n2    3    6",
      "text/html": "<div>\n<style scoped>\n    .dataframe tbody tr th:only-of-type {\n        vertical-align: middle;\n    }\n\n    .dataframe tbody tr th {\n        vertical-align: top;\n    }\n\n    .dataframe thead th {\n        text-align: right;\n    }\n</style>\n<table border=\"1\" class=\"dataframe\">\n  <thead>\n    <tr style=\"text-align: right;\">\n      <th></th>\n      <th>one</th>\n      <th>two</th>\n    </tr>\n  </thead>\n  <tbody>\n    <tr>\n      <th>0</th>\n      <td>1</td>\n      <td>4</td>\n    </tr>\n    <tr>\n      <th>1</th>\n      <td>2</td>\n      <td>5</td>\n    </tr>\n    <tr>\n      <th>2</th>\n      <td>3</td>\n      <td>6</td>\n    </tr>\n  </tbody>\n</table>\n</div>"
     },
     "execution_count": 4,
     "metadata": {},
     "output_type": "execute_result"
    }
   ],
   "source": [
    "df = pd.DataFrame({'one': pd.Series([1, 2, 3]),\n",
    "                   'two': pd.Series([4, 5, 6])})\n",
    "df"
   ]
  },
  {
   "cell_type": "markdown",
   "metadata": {
    "pycharm": {
     "name": "#%% md\n"
    }
   },
   "source": [
    "当不指定索引时，DataFrame 的索引同样是从 0 开始。我们也可以直接通过一个列表构成的字典来生成 DataFrame。"
   ]
  },
  {
   "cell_type": "code",
   "execution_count": 5,
   "metadata": {
    "pycharm": {
     "name": "#%%\n"
    }
   },
   "outputs": [
    {
     "data": {
      "text/plain": "   one  two\n0    1    4\n1    2    5\n2    3    6",
      "text/html": "<div>\n<style scoped>\n    .dataframe tbody tr th:only-of-type {\n        vertical-align: middle;\n    }\n\n    .dataframe tbody tr th {\n        vertical-align: top;\n    }\n\n    .dataframe thead th {\n        text-align: right;\n    }\n</style>\n<table border=\"1\" class=\"dataframe\">\n  <thead>\n    <tr style=\"text-align: right;\">\n      <th></th>\n      <th>one</th>\n      <th>two</th>\n    </tr>\n  </thead>\n  <tbody>\n    <tr>\n      <th>0</th>\n      <td>1</td>\n      <td>4</td>\n    </tr>\n    <tr>\n      <th>1</th>\n      <td>2</td>\n      <td>5</td>\n    </tr>\n    <tr>\n      <th>2</th>\n      <td>3</td>\n      <td>6</td>\n    </tr>\n  </tbody>\n</table>\n</div>"
     },
     "execution_count": 5,
     "metadata": {},
     "output_type": "execute_result"
    }
   ],
   "source": [
    "df = pd.DataFrame({'one': [1, 2, 3],\n",
    "                   'two': [4, 5, 6]})\n",
    "df"
   ]
  },
  {
   "cell_type": "markdown",
   "metadata": {
    "pycharm": {
     "name": "#%% md\n"
    }
   },
   "source": [
    "或者反过来，由带字典的列表生成 DataFrame。"
   ]
  },
  {
   "cell_type": "code",
   "execution_count": 6,
   "metadata": {
    "pycharm": {
     "name": "#%%\n"
    }
   },
   "outputs": [
    {
     "data": {
      "text/plain": "   one  two\n0    1    4\n1    2    5\n2    3    6",
      "text/html": "<div>\n<style scoped>\n    .dataframe tbody tr th:only-of-type {\n        vertical-align: middle;\n    }\n\n    .dataframe tbody tr th {\n        vertical-align: top;\n    }\n\n    .dataframe thead th {\n        text-align: right;\n    }\n</style>\n<table border=\"1\" class=\"dataframe\">\n  <thead>\n    <tr style=\"text-align: right;\">\n      <th></th>\n      <th>one</th>\n      <th>two</th>\n    </tr>\n  </thead>\n  <tbody>\n    <tr>\n      <th>0</th>\n      <td>1</td>\n      <td>4</td>\n    </tr>\n    <tr>\n      <th>1</th>\n      <td>2</td>\n      <td>5</td>\n    </tr>\n    <tr>\n      <th>2</th>\n      <td>3</td>\n      <td>6</td>\n    </tr>\n  </tbody>\n</table>\n</div>"
     },
     "execution_count": 6,
     "metadata": {},
     "output_type": "execute_result"
    }
   ],
   "source": [
    "df = pd.DataFrame([{'one': 1, 'two': 4},\n",
    "                   {'one': 2, 'two': 5},\n",
    "                   {'one': 3, 'two': 6}])\n",
    "df"
   ]
  },
  {
   "cell_type": "markdown",
   "metadata": {
    "pycharm": {
     "name": "#%% md\n"
    }
   },
   "source": [
    "NumPy 的多维数组非常常用，同样可以基于二维数值来构建一个 DataFrame。"
   ]
  },
  {
   "cell_type": "code",
   "execution_count": 7,
   "metadata": {
    "pycharm": {
     "name": "#%%\n"
    }
   },
   "outputs": [
    {
     "data": {
      "text/plain": "   0  1  2  3\n0  0  1  3  1\n1  0  4  4  2",
      "text/html": "<div>\n<style scoped>\n    .dataframe tbody tr th:only-of-type {\n        vertical-align: middle;\n    }\n\n    .dataframe tbody tr th {\n        vertical-align: top;\n    }\n\n    .dataframe thead th {\n        text-align: right;\n    }\n</style>\n<table border=\"1\" class=\"dataframe\">\n  <thead>\n    <tr style=\"text-align: right;\">\n      <th></th>\n      <th>0</th>\n      <th>1</th>\n      <th>2</th>\n      <th>3</th>\n    </tr>\n  </thead>\n  <tbody>\n    <tr>\n      <th>0</th>\n      <td>0</td>\n      <td>1</td>\n      <td>3</td>\n      <td>1</td>\n    </tr>\n    <tr>\n      <th>1</th>\n      <td>0</td>\n      <td>4</td>\n      <td>4</td>\n      <td>2</td>\n    </tr>\n  </tbody>\n</table>\n</div>"
     },
     "execution_count": 7,
     "metadata": {},
     "output_type": "execute_result"
    }
   ],
   "source": [
    "pd.DataFrame(np.random.randint(5, size=(2, 4)))"
   ]
  },
  {
   "cell_type": "markdown",
   "metadata": {
    "pycharm": {
     "name": "#%% md\n"
    }
   },
   "source": [
    "至此，你应该已经清楚了 Pandas 常用的 Series 和 DataFrame 数据类型。Series 实际上可以被初略看出是只有 1 列数据的 DataFrame。当然，这个说法不严谨，二者的核心区别仍然是 Series 没有列索引。你可以观察如下所示由 NumPy 一维随机数组生成的 Series 和 DataFrame。"
   ]
  },
  {
   "cell_type": "code",
   "execution_count": 8,
   "metadata": {
    "pycharm": {
     "name": "#%%\n"
    }
   },
   "outputs": [
    {
     "data": {
      "text/plain": "0    3\n1    3\n2    1\n3    3\n4    1\ndtype: int32"
     },
     "execution_count": 8,
     "metadata": {},
     "output_type": "execute_result"
    }
   ],
   "source": [
    "pd.Series(np.random.randint(5, size=(5,)))"
   ]
  },
  {
   "cell_type": "code",
   "execution_count": 9,
   "metadata": {
    "pycharm": {
     "name": "#%%\n"
    }
   },
   "outputs": [
    {
     "data": {
      "text/plain": "   0\n0  3\n1  3\n2  1\n3  0\n4  1",
      "text/html": "<div>\n<style scoped>\n    .dataframe tbody tr th:only-of-type {\n        vertical-align: middle;\n    }\n\n    .dataframe tbody tr th {\n        vertical-align: top;\n    }\n\n    .dataframe thead th {\n        text-align: right;\n    }\n</style>\n<table border=\"1\" class=\"dataframe\">\n  <thead>\n    <tr style=\"text-align: right;\">\n      <th></th>\n      <th>0</th>\n    </tr>\n  </thead>\n  <tbody>\n    <tr>\n      <th>0</th>\n      <td>3</td>\n    </tr>\n    <tr>\n      <th>1</th>\n      <td>3</td>\n    </tr>\n    <tr>\n      <th>2</th>\n      <td>1</td>\n    </tr>\n    <tr>\n      <th>3</th>\n      <td>0</td>\n    </tr>\n    <tr>\n      <th>4</th>\n      <td>1</td>\n    </tr>\n  </tbody>\n</table>\n</div>"
     },
     "execution_count": 9,
     "metadata": {},
     "output_type": "execute_result"
    }
   ],
   "source": [
    "pd.DataFrame(np.random.randint(5, size=(5,)))"
   ]
  },
  {
   "cell_type": "markdown",
   "metadata": {
    "pycharm": {
     "name": "#%% md\n"
    }
   },
   "source": [
    "关于 Pandas 中的 Panel 等数据类型我们就不再介绍。首先是这些数据类型用的很少，其次就算你用到了，也可以通过从 DataFrame 等学到的技巧进行迁移应用，万变不离其宗。"
   ]
  },
  {
   "cell_type": "markdown",
   "metadata": {
    "pycharm": {
     "name": "#%% md\n"
    }
   },
   "source": [
    "### 数据读取"
   ]
  },
  {
   "cell_type": "markdown",
   "metadata": {
    "pycharm": {
     "name": "#%% md\n"
    }
   },
   "source": [
    "我们想要使用 Pandas 来分析数据，那么首先需要读取数据。大多数情况下，数据都来源于外部的数据文件或者数据库。Pandas 提供了一系列的方法来读取外部数据，非常全面。下面，我们以最常用的 CSV 数据文件为例进行介绍。"
   ]
  },
  {
   "cell_type": "markdown",
   "metadata": {
    "pycharm": {
     "name": "#%% md\n"
    }
   },
   "source": [
    "读取数据 CSV 文件的方法是 `pandas.read_csv()`，你可以直接传入一个相对路径，或者是网络 URL。"
   ]
  },
  {
   "cell_type": "code",
   "execution_count": 10,
   "metadata": {
    "pycharm": {
     "name": "#%%\n"
    }
   },
   "outputs": [
    {
     "data": {
      "text/plain": "     Zip Code  Total Population  Median Age  Total Males  Total Females  \\\n0       91371                 1        73.5            0              1   \n1       90001             57110        26.6        28468          28642   \n2       90002             51223        25.5        24876          26347   \n3       90003             66266        26.3        32631          33635   \n4       90004             62180        34.8        31302          30878   \n..        ...               ...         ...          ...            ...   \n314     93552             38158        28.4        18711          19447   \n315     93553              2138        43.3         1121           1017   \n316     93560             18910        32.4         9491           9419   \n317     93563               388        44.5          263            125   \n318     93591              7285        30.9         3653           3632   \n\n     Total Households  Average Household Size  \n0                   1                    1.00  \n1               12971                    4.40  \n2               11731                    4.36  \n3               15642                    4.22  \n4               22547                    2.73  \n..                ...                     ...  \n314              9690                    3.93  \n315               816                    2.62  \n316              6469                    2.92  \n317               103                    2.53  \n318              1982                    3.67  \n\n[319 rows x 7 columns]",
      "text/html": "<div>\n<style scoped>\n    .dataframe tbody tr th:only-of-type {\n        vertical-align: middle;\n    }\n\n    .dataframe tbody tr th {\n        vertical-align: top;\n    }\n\n    .dataframe thead th {\n        text-align: right;\n    }\n</style>\n<table border=\"1\" class=\"dataframe\">\n  <thead>\n    <tr style=\"text-align: right;\">\n      <th></th>\n      <th>Zip Code</th>\n      <th>Total Population</th>\n      <th>Median Age</th>\n      <th>Total Males</th>\n      <th>Total Females</th>\n      <th>Total Households</th>\n      <th>Average Household Size</th>\n    </tr>\n  </thead>\n  <tbody>\n    <tr>\n      <th>0</th>\n      <td>91371</td>\n      <td>1</td>\n      <td>73.5</td>\n      <td>0</td>\n      <td>1</td>\n      <td>1</td>\n      <td>1.00</td>\n    </tr>\n    <tr>\n      <th>1</th>\n      <td>90001</td>\n      <td>57110</td>\n      <td>26.6</td>\n      <td>28468</td>\n      <td>28642</td>\n      <td>12971</td>\n      <td>4.40</td>\n    </tr>\n    <tr>\n      <th>2</th>\n      <td>90002</td>\n      <td>51223</td>\n      <td>25.5</td>\n      <td>24876</td>\n      <td>26347</td>\n      <td>11731</td>\n      <td>4.36</td>\n    </tr>\n    <tr>\n      <th>3</th>\n      <td>90003</td>\n      <td>66266</td>\n      <td>26.3</td>\n      <td>32631</td>\n      <td>33635</td>\n      <td>15642</td>\n      <td>4.22</td>\n    </tr>\n    <tr>\n      <th>4</th>\n      <td>90004</td>\n      <td>62180</td>\n      <td>34.8</td>\n      <td>31302</td>\n      <td>30878</td>\n      <td>22547</td>\n      <td>2.73</td>\n    </tr>\n    <tr>\n      <th>...</th>\n      <td>...</td>\n      <td>...</td>\n      <td>...</td>\n      <td>...</td>\n      <td>...</td>\n      <td>...</td>\n      <td>...</td>\n    </tr>\n    <tr>\n      <th>314</th>\n      <td>93552</td>\n      <td>38158</td>\n      <td>28.4</td>\n      <td>18711</td>\n      <td>19447</td>\n      <td>9690</td>\n      <td>3.93</td>\n    </tr>\n    <tr>\n      <th>315</th>\n      <td>93553</td>\n      <td>2138</td>\n      <td>43.3</td>\n      <td>1121</td>\n      <td>1017</td>\n      <td>816</td>\n      <td>2.62</td>\n    </tr>\n    <tr>\n      <th>316</th>\n      <td>93560</td>\n      <td>18910</td>\n      <td>32.4</td>\n      <td>9491</td>\n      <td>9419</td>\n      <td>6469</td>\n      <td>2.92</td>\n    </tr>\n    <tr>\n      <th>317</th>\n      <td>93563</td>\n      <td>388</td>\n      <td>44.5</td>\n      <td>263</td>\n      <td>125</td>\n      <td>103</td>\n      <td>2.53</td>\n    </tr>\n    <tr>\n      <th>318</th>\n      <td>93591</td>\n      <td>7285</td>\n      <td>30.9</td>\n      <td>3653</td>\n      <td>3632</td>\n      <td>1982</td>\n      <td>3.67</td>\n    </tr>\n  </tbody>\n</table>\n<p>319 rows × 7 columns</p>\n</div>"
     },
     "execution_count": 10,
     "metadata": {},
     "output_type": "execute_result"
    }
   ],
   "source": [
    "df = pd.read_csv(\"https://labfile.oss.aliyuncs.com/courses/906/los_census.csv\")\n",
    "df"
   ]
  },
  {
   "cell_type": "markdown",
   "metadata": {
    "pycharm": {
     "name": "#%% md\n"
    }
   },
   "source": [
    "由于 CSV 存储时是一个二维的表格，那么 Pandas 会自动将其读取为 DataFrame 类型。"
   ]
  },
  {
   "cell_type": "markdown",
   "metadata": {
    "pycharm": {
     "name": "#%% md\n"
    }
   },
   "source": [
    "现在你应该就明白了，DataFrame 是 Pandas 构成的核心。一切的数据，无论是外部读取还是自行生成，我们都需要先将其转换为 Pandas 的 DataFrame 或者 Series 数据类型。实际上，大多数情况下，这一切都是设计好的，无需执行额外的转换工作。"
   ]
  },
  {
   "cell_type": "markdown",
   "metadata": {
    "pycharm": {
     "name": "#%% md\n"
    }
   },
   "source": [
    "`pd.read_` 前缀开始的方法还可以读取各式各样的数据文件，且支持连接数据库。这里，我们不再依次赘述，你可以阅读 [<i class=\"fa fa-external-link-square\" aria-hidden=\"true\"> 官方文档相应章节</i>](https://pandas.pydata.org/pandas-docs/stable/reference/io.html) 熟悉这些方法以及搞清楚这些方法包含的参数。"
   ]
  },
  {
   "cell_type": "markdown",
   "metadata": {
    "pycharm": {
     "name": "#%% md\n"
    }
   },
   "source": [
    "你可能又一个疑问：为什么要将数据转换为 Series 或者 DataFrame 结构？"
   ]
  },
  {
   "cell_type": "markdown",
   "metadata": {
    "pycharm": {
     "name": "#%% md\n"
    }
   },
   "source": [
    "实际上，我现在就可以先回答这个问题。因为 Pandas 针对数据操作的全部方法都是基于 Pandas 支持的数据结构设计的。也就是说，只有 Series 或者 DataFrame 才能使用 Pandas 提供的方法和函数进行处理。所以，学习真正数据处理方法之前，我们需要将数据转换生成为 Series 或 DataFrame 类型。"
   ]
  },
  {
   "cell_type": "markdown",
   "metadata": {
    "pycharm": {
     "name": "#%% md\n"
    }
   },
   "source": [
    "### 基本操作"
   ]
  },
  {
   "cell_type": "markdown",
   "metadata": {
    "pycharm": {
     "name": "#%% md\n"
    }
   },
   "source": [
    "通过上面的内容，我们已经知道一个 DataFrame 结构大致由 3 部分组成，它们分别是列名称、索引和数据。"
   ]
  },
  {
   "cell_type": "markdown",
   "metadata": {
    "pycharm": {
     "name": "#%% md\n"
    }
   },
   "source": [
    "<img width='700px' src=\"https://doc.shiyanlou.com/courses/uid214893-20190531-1559286555222\">\n",
    "<div style=\"color: #888; font-size: 10px; text-align: right;\"><a href=\"https://medium.com/epfl-extension-school/selecting-data-from-a-pandas-dataframe-53917dc39953\"><i class=\"fa fa-copyright\" aria-hidden=\"true\"> 来源</i></a></div>"
   ]
  },
  {
   "cell_type": "markdown",
   "metadata": {
    "pycharm": {
     "name": "#%% md\n"
    }
   },
   "source": [
    "接下来，我们就学习针对 DataFrame 的基本操作。本次课程中，我们不会刻意强调 Series，因为你在 DataFrame 上学习的大多数方法和技巧都适用于对 Series 进行处理，二者同根同源。"
   ]
  },
  {
   "cell_type": "markdown",
   "metadata": {
    "pycharm": {
     "name": "#%% md\n"
    }
   },
   "source": [
    "上面，我们已经读取了一个外部数据，这是洛杉矶的人口普查数据。有些时候，我们读取的文件很大。如果全部输出预览这些文件，既不美观，又很耗时。还好，Pandas 提供了 `head()` 和 `tail()` 方法，它可以帮助我们只预览一小块数据。"
   ]
  },
  {
   "cell_type": "code",
   "execution_count": 11,
   "metadata": {
    "pycharm": {
     "name": "#%%\n"
    }
   },
   "outputs": [
    {
     "data": {
      "text/plain": "   Zip Code  Total Population  Median Age  Total Males  Total Females  \\\n0     91371                 1        73.5            0              1   \n1     90001             57110        26.6        28468          28642   \n2     90002             51223        25.5        24876          26347   \n3     90003             66266        26.3        32631          33635   \n4     90004             62180        34.8        31302          30878   \n\n   Total Households  Average Household Size  \n0                 1                    1.00  \n1             12971                    4.40  \n2             11731                    4.36  \n3             15642                    4.22  \n4             22547                    2.73  ",
      "text/html": "<div>\n<style scoped>\n    .dataframe tbody tr th:only-of-type {\n        vertical-align: middle;\n    }\n\n    .dataframe tbody tr th {\n        vertical-align: top;\n    }\n\n    .dataframe thead th {\n        text-align: right;\n    }\n</style>\n<table border=\"1\" class=\"dataframe\">\n  <thead>\n    <tr style=\"text-align: right;\">\n      <th></th>\n      <th>Zip Code</th>\n      <th>Total Population</th>\n      <th>Median Age</th>\n      <th>Total Males</th>\n      <th>Total Females</th>\n      <th>Total Households</th>\n      <th>Average Household Size</th>\n    </tr>\n  </thead>\n  <tbody>\n    <tr>\n      <th>0</th>\n      <td>91371</td>\n      <td>1</td>\n      <td>73.5</td>\n      <td>0</td>\n      <td>1</td>\n      <td>1</td>\n      <td>1.00</td>\n    </tr>\n    <tr>\n      <th>1</th>\n      <td>90001</td>\n      <td>57110</td>\n      <td>26.6</td>\n      <td>28468</td>\n      <td>28642</td>\n      <td>12971</td>\n      <td>4.40</td>\n    </tr>\n    <tr>\n      <th>2</th>\n      <td>90002</td>\n      <td>51223</td>\n      <td>25.5</td>\n      <td>24876</td>\n      <td>26347</td>\n      <td>11731</td>\n      <td>4.36</td>\n    </tr>\n    <tr>\n      <th>3</th>\n      <td>90003</td>\n      <td>66266</td>\n      <td>26.3</td>\n      <td>32631</td>\n      <td>33635</td>\n      <td>15642</td>\n      <td>4.22</td>\n    </tr>\n    <tr>\n      <th>4</th>\n      <td>90004</td>\n      <td>62180</td>\n      <td>34.8</td>\n      <td>31302</td>\n      <td>30878</td>\n      <td>22547</td>\n      <td>2.73</td>\n    </tr>\n  </tbody>\n</table>\n</div>"
     },
     "execution_count": 11,
     "metadata": {},
     "output_type": "execute_result"
    }
   ],
   "source": [
    "df.head()  # 默认显示前 5 条"
   ]
  },
  {
   "cell_type": "code",
   "execution_count": 12,
   "metadata": {
    "pycharm": {
     "name": "#%%\n"
    }
   },
   "outputs": [
    {
     "data": {
      "text/plain": "     Zip Code  Total Population  Median Age  Total Males  Total Females  \\\n312     93550             74929        27.5        36414          38515   \n313     93551             50798        37.0        25056          25742   \n314     93552             38158        28.4        18711          19447   \n315     93553              2138        43.3         1121           1017   \n316     93560             18910        32.4         9491           9419   \n317     93563               388        44.5          263            125   \n318     93591              7285        30.9         3653           3632   \n\n     Total Households  Average Household Size  \n312             20864                    3.58  \n313             15963                    3.18  \n314              9690                    3.93  \n315               816                    2.62  \n316              6469                    2.92  \n317               103                    2.53  \n318              1982                    3.67  ",
      "text/html": "<div>\n<style scoped>\n    .dataframe tbody tr th:only-of-type {\n        vertical-align: middle;\n    }\n\n    .dataframe tbody tr th {\n        vertical-align: top;\n    }\n\n    .dataframe thead th {\n        text-align: right;\n    }\n</style>\n<table border=\"1\" class=\"dataframe\">\n  <thead>\n    <tr style=\"text-align: right;\">\n      <th></th>\n      <th>Zip Code</th>\n      <th>Total Population</th>\n      <th>Median Age</th>\n      <th>Total Males</th>\n      <th>Total Females</th>\n      <th>Total Households</th>\n      <th>Average Household Size</th>\n    </tr>\n  </thead>\n  <tbody>\n    <tr>\n      <th>312</th>\n      <td>93550</td>\n      <td>74929</td>\n      <td>27.5</td>\n      <td>36414</td>\n      <td>38515</td>\n      <td>20864</td>\n      <td>3.58</td>\n    </tr>\n    <tr>\n      <th>313</th>\n      <td>93551</td>\n      <td>50798</td>\n      <td>37.0</td>\n      <td>25056</td>\n      <td>25742</td>\n      <td>15963</td>\n      <td>3.18</td>\n    </tr>\n    <tr>\n      <th>314</th>\n      <td>93552</td>\n      <td>38158</td>\n      <td>28.4</td>\n      <td>18711</td>\n      <td>19447</td>\n      <td>9690</td>\n      <td>3.93</td>\n    </tr>\n    <tr>\n      <th>315</th>\n      <td>93553</td>\n      <td>2138</td>\n      <td>43.3</td>\n      <td>1121</td>\n      <td>1017</td>\n      <td>816</td>\n      <td>2.62</td>\n    </tr>\n    <tr>\n      <th>316</th>\n      <td>93560</td>\n      <td>18910</td>\n      <td>32.4</td>\n      <td>9491</td>\n      <td>9419</td>\n      <td>6469</td>\n      <td>2.92</td>\n    </tr>\n    <tr>\n      <th>317</th>\n      <td>93563</td>\n      <td>388</td>\n      <td>44.5</td>\n      <td>263</td>\n      <td>125</td>\n      <td>103</td>\n      <td>2.53</td>\n    </tr>\n    <tr>\n      <th>318</th>\n      <td>93591</td>\n      <td>7285</td>\n      <td>30.9</td>\n      <td>3653</td>\n      <td>3632</td>\n      <td>1982</td>\n      <td>3.67</td>\n    </tr>\n  </tbody>\n</table>\n</div>"
     },
     "execution_count": 12,
     "metadata": {},
     "output_type": "execute_result"
    }
   ],
   "source": [
    "df.tail(7)  # 指定显示后 7 条"
   ]
  },
  {
   "cell_type": "markdown",
   "metadata": {
    "pycharm": {
     "name": "#%% md\n"
    }
   },
   "source": [
    "Pandas 还提供了统计和描述性方法，方便你从宏观的角度去了解数据集。`describe()` 相当于对数据集进行概览，会输出该数据集每一列数据的计数、最大值、最小值等。"
   ]
  },
  {
   "cell_type": "code",
   "execution_count": 13,
   "metadata": {
    "pycharm": {
     "name": "#%%\n"
    }
   },
   "outputs": [
    {
     "data": {
      "text/plain": "           Zip Code  Total Population  Median Age   Total Males  \\\ncount    319.000000        319.000000  319.000000    319.000000   \nmean   91000.673981      33241.341693   36.527586  16391.564263   \nstd      908.360203      21644.417455    8.692999  10747.495566   \nmin    90001.000000          0.000000    0.000000      0.000000   \n25%    90243.500000      19318.500000   32.400000   9763.500000   \n50%    90807.000000      31481.000000   37.100000  15283.000000   \n75%    91417.000000      44978.000000   41.000000  22219.500000   \nmax    93591.000000     105549.000000   74.000000  52794.000000   \n\n       Total Females  Total Households  Average Household Size  \ncount     319.000000        319.000000              319.000000  \nmean    16849.777429      10964.570533                2.828119  \nstd     10934.986468       6270.646400                0.835658  \nmin         0.000000          0.000000                0.000000  \n25%      9633.500000       6765.500000                2.435000  \n50%     16202.000000      10968.000000                2.830000  \n75%     22690.500000      14889.500000                3.320000  \nmax     53185.000000      31087.000000                4.670000  ",
      "text/html": "<div>\n<style scoped>\n    .dataframe tbody tr th:only-of-type {\n        vertical-align: middle;\n    }\n\n    .dataframe tbody tr th {\n        vertical-align: top;\n    }\n\n    .dataframe thead th {\n        text-align: right;\n    }\n</style>\n<table border=\"1\" class=\"dataframe\">\n  <thead>\n    <tr style=\"text-align: right;\">\n      <th></th>\n      <th>Zip Code</th>\n      <th>Total Population</th>\n      <th>Median Age</th>\n      <th>Total Males</th>\n      <th>Total Females</th>\n      <th>Total Households</th>\n      <th>Average Household Size</th>\n    </tr>\n  </thead>\n  <tbody>\n    <tr>\n      <th>count</th>\n      <td>319.000000</td>\n      <td>319.000000</td>\n      <td>319.000000</td>\n      <td>319.000000</td>\n      <td>319.000000</td>\n      <td>319.000000</td>\n      <td>319.000000</td>\n    </tr>\n    <tr>\n      <th>mean</th>\n      <td>91000.673981</td>\n      <td>33241.341693</td>\n      <td>36.527586</td>\n      <td>16391.564263</td>\n      <td>16849.777429</td>\n      <td>10964.570533</td>\n      <td>2.828119</td>\n    </tr>\n    <tr>\n      <th>std</th>\n      <td>908.360203</td>\n      <td>21644.417455</td>\n      <td>8.692999</td>\n      <td>10747.495566</td>\n      <td>10934.986468</td>\n      <td>6270.646400</td>\n      <td>0.835658</td>\n    </tr>\n    <tr>\n      <th>min</th>\n      <td>90001.000000</td>\n      <td>0.000000</td>\n      <td>0.000000</td>\n      <td>0.000000</td>\n      <td>0.000000</td>\n      <td>0.000000</td>\n      <td>0.000000</td>\n    </tr>\n    <tr>\n      <th>25%</th>\n      <td>90243.500000</td>\n      <td>19318.500000</td>\n      <td>32.400000</td>\n      <td>9763.500000</td>\n      <td>9633.500000</td>\n      <td>6765.500000</td>\n      <td>2.435000</td>\n    </tr>\n    <tr>\n      <th>50%</th>\n      <td>90807.000000</td>\n      <td>31481.000000</td>\n      <td>37.100000</td>\n      <td>15283.000000</td>\n      <td>16202.000000</td>\n      <td>10968.000000</td>\n      <td>2.830000</td>\n    </tr>\n    <tr>\n      <th>75%</th>\n      <td>91417.000000</td>\n      <td>44978.000000</td>\n      <td>41.000000</td>\n      <td>22219.500000</td>\n      <td>22690.500000</td>\n      <td>14889.500000</td>\n      <td>3.320000</td>\n    </tr>\n    <tr>\n      <th>max</th>\n      <td>93591.000000</td>\n      <td>105549.000000</td>\n      <td>74.000000</td>\n      <td>52794.000000</td>\n      <td>53185.000000</td>\n      <td>31087.000000</td>\n      <td>4.670000</td>\n    </tr>\n  </tbody>\n</table>\n</div>"
     },
     "execution_count": 13,
     "metadata": {},
     "output_type": "execute_result"
    }
   ],
   "source": [
    "df.describe()"
   ]
  },
  {
   "cell_type": "markdown",
   "metadata": {
    "pycharm": {
     "name": "#%% md\n"
    }
   },
   "source": [
    "Pandas 基于 NumPy 开发，所以任何时候你都可以通过 `.values` 将 DataFrame 转换为 NumPy 数组。"
   ]
  },
  {
   "cell_type": "code",
   "execution_count": 14,
   "metadata": {
    "pycharm": {
     "name": "#%%\n"
    }
   },
   "outputs": [
    {
     "data": {
      "text/plain": "array([[9.1371e+04, 1.0000e+00, 7.3500e+01, ..., 1.0000e+00, 1.0000e+00,\n        1.0000e+00],\n       [9.0001e+04, 5.7110e+04, 2.6600e+01, ..., 2.8642e+04, 1.2971e+04,\n        4.4000e+00],\n       [9.0002e+04, 5.1223e+04, 2.5500e+01, ..., 2.6347e+04, 1.1731e+04,\n        4.3600e+00],\n       ...,\n       [9.3560e+04, 1.8910e+04, 3.2400e+01, ..., 9.4190e+03, 6.4690e+03,\n        2.9200e+00],\n       [9.3563e+04, 3.8800e+02, 4.4500e+01, ..., 1.2500e+02, 1.0300e+02,\n        2.5300e+00],\n       [9.3591e+04, 7.2850e+03, 3.0900e+01, ..., 3.6320e+03, 1.9820e+03,\n        3.6700e+00]])"
     },
     "execution_count": 14,
     "metadata": {},
     "output_type": "execute_result"
    }
   ],
   "source": [
    "df.values"
   ]
  },
  {
   "cell_type": "markdown",
   "metadata": {
    "pycharm": {
     "name": "#%% md\n"
    }
   },
   "source": [
    "这也就说明了，你可以同时使用 Pandas 和 NumPy 提供的 API 对同一数据进行操作，并在二者之间进行随意转换。这就是一个非常灵活的工具生态圈。"
   ]
  },
  {
   "cell_type": "markdown",
   "metadata": {
    "pycharm": {
     "name": "#%% md\n"
    }
   },
   "source": [
    "除了 `.values`，DataFrame 支持的常见属性可以通过 [<i class=\"fa fa-external-link-square\" aria-hidden=\"true\"> 官方文档相应章节</i>](https://pandas.pydata.org/pandas-docs/stable/reference/frame.html#attributes-and-underlying-data) 查看。其中常用的有："
   ]
  },
  {
   "cell_type": "code",
   "execution_count": 15,
   "metadata": {
    "pycharm": {
     "name": "#%%\n"
    }
   },
   "outputs": [
    {
     "data": {
      "text/plain": "RangeIndex(start=0, stop=319, step=1)"
     },
     "execution_count": 15,
     "metadata": {},
     "output_type": "execute_result"
    }
   ],
   "source": [
    "df.index  # 查看索引"
   ]
  },
  {
   "cell_type": "code",
   "execution_count": 16,
   "metadata": {
    "pycharm": {
     "name": "#%%\n"
    }
   },
   "outputs": [
    {
     "data": {
      "text/plain": "Index(['Zip Code', 'Total Population', 'Median Age', 'Total Males',\n       'Total Females', 'Total Households', 'Average Household Size'],\n      dtype='object')"
     },
     "execution_count": 16,
     "metadata": {},
     "output_type": "execute_result"
    }
   ],
   "source": [
    "df.columns  # 查看列名"
   ]
  },
  {
   "cell_type": "code",
   "execution_count": 17,
   "metadata": {
    "pycharm": {
     "name": "#%%\n"
    }
   },
   "outputs": [
    {
     "data": {
      "text/plain": "(319, 7)"
     },
     "execution_count": 17,
     "metadata": {},
     "output_type": "execute_result"
    }
   ],
   "source": [
    "df.shape  # 查看形状"
   ]
  },
  {
   "cell_type": "markdown",
   "metadata": {
    "pycharm": {
     "name": "#%% md\n"
    }
   },
   "source": [
    "### 数据选择"
   ]
  },
  {
   "cell_type": "markdown",
   "metadata": {
    "pycharm": {
     "name": "#%% md\n"
    }
   },
   "source": [
    "在数据预处理过程中，我们往往会对数据集进行切分，只将需要的某些行、列，或者数据块保留下来，输出到下一个流程中去。这也就是所谓的数据选择，或者数据索引。"
   ]
  },
  {
   "cell_type": "markdown",
   "metadata": {
    "pycharm": {
     "name": "#%% md\n"
    }
   },
   "source": [
    "由于 Pandas 的数据结构中存在索引、标签，所以我们可以通过多轴索引完成对数据的选择。"
   ]
  },
  {
   "cell_type": "markdown",
   "metadata": {
    "pycharm": {
     "name": "#%% md\n"
    }
   },
   "source": [
    "#### 基于索引数字选择"
   ]
  },
  {
   "cell_type": "markdown",
   "metadata": {
    "pycharm": {
     "name": "#%% md\n"
    }
   },
   "source": [
    "当我们新建一个 DataFrame 之后，如果未自己指定行索引或者列对应的标签，那么 Pandas 会默认从 0 开始以数字的形式作为行索引，并以数据集的第一行作为列对应的标签。其实，这里的「列」也有数字索引，默认也是从 0 开始，只是未显示出来。"
   ]
  },
  {
   "cell_type": "markdown",
   "metadata": {
    "pycharm": {
     "name": "#%% md\n"
    }
   },
   "source": [
    "所以，我们首先可以基于数字索引对数据集进行选择。这里用到的 Pandas 中的 [`.iloc`](https://pandas.pydata.org/pandas-docs/stable/reference/api/pandas.DataFrame.iloc.html#pandas.DataFrame.iloc) 方法。该方法可以接受的类型有："
   ]
  },
  {
   "cell_type": "markdown",
   "metadata": {
    "pycharm": {
     "name": "#%% md\n"
    }
   },
   "source": [
    "1.  整数。例如：`5`\n",
    "2.  整数构成的列表或数组。例如：`[1, 2, 3]`\n",
    "3.  布尔数组。\n",
    "4.  可返回索引值的函数或参数。"
   ]
  },
  {
   "cell_type": "markdown",
   "metadata": {
    "pycharm": {
     "name": "#%% md\n"
    }
   },
   "source": [
    "下面，我们使用上方的示例数据进行演示。"
   ]
  },
  {
   "cell_type": "markdown",
   "metadata": {
    "pycharm": {
     "name": "#%% md\n"
    }
   },
   "source": [
    "首先，我们可以选择前 3 行数据。这和 Python 或者 NumPy 里面的切片很相似。"
   ]
  },
  {
   "cell_type": "code",
   "execution_count": 18,
   "metadata": {
    "pycharm": {
     "name": "#%%\n"
    }
   },
   "outputs": [
    {
     "data": {
      "text/plain": "   Zip Code  Total Population  Median Age  Total Males  Total Females  \\\n0     91371                 1        73.5            0              1   \n1     90001             57110        26.6        28468          28642   \n2     90002             51223        25.5        24876          26347   \n\n   Total Households  Average Household Size  \n0                 1                    1.00  \n1             12971                    4.40  \n2             11731                    4.36  ",
      "text/html": "<div>\n<style scoped>\n    .dataframe tbody tr th:only-of-type {\n        vertical-align: middle;\n    }\n\n    .dataframe tbody tr th {\n        vertical-align: top;\n    }\n\n    .dataframe thead th {\n        text-align: right;\n    }\n</style>\n<table border=\"1\" class=\"dataframe\">\n  <thead>\n    <tr style=\"text-align: right;\">\n      <th></th>\n      <th>Zip Code</th>\n      <th>Total Population</th>\n      <th>Median Age</th>\n      <th>Total Males</th>\n      <th>Total Females</th>\n      <th>Total Households</th>\n      <th>Average Household Size</th>\n    </tr>\n  </thead>\n  <tbody>\n    <tr>\n      <th>0</th>\n      <td>91371</td>\n      <td>1</td>\n      <td>73.5</td>\n      <td>0</td>\n      <td>1</td>\n      <td>1</td>\n      <td>1.00</td>\n    </tr>\n    <tr>\n      <th>1</th>\n      <td>90001</td>\n      <td>57110</td>\n      <td>26.6</td>\n      <td>28468</td>\n      <td>28642</td>\n      <td>12971</td>\n      <td>4.40</td>\n    </tr>\n    <tr>\n      <th>2</th>\n      <td>90002</td>\n      <td>51223</td>\n      <td>25.5</td>\n      <td>24876</td>\n      <td>26347</td>\n      <td>11731</td>\n      <td>4.36</td>\n    </tr>\n  </tbody>\n</table>\n</div>"
     },
     "execution_count": 18,
     "metadata": {},
     "output_type": "execute_result"
    }
   ],
   "source": [
    "df.iloc[:3]"
   ]
  },
  {
   "cell_type": "code",
   "execution_count": 19,
   "metadata": {
    "pycharm": {
     "name": "#%%\n"
    }
   },
   "outputs": [
    {
     "data": {
      "text/plain": "Zip Code                  90005.0\nTotal Population          37681.0\nMedian Age                   33.9\nTotal Males               19299.0\nTotal Females             18382.0\nTotal Households          15044.0\nAverage Household Size        2.5\nName: 5, dtype: float64"
     },
     "execution_count": 19,
     "metadata": {},
     "output_type": "execute_result"
    }
   ],
   "source": [
    "df.iloc[5]"
   ]
  },
  {
   "cell_type": "markdown",
   "metadata": {
    "pycharm": {
     "name": "#%% md\n"
    }
   },
   "source": [
    "那么选择多行，是不是 `df.iloc[1, 3, 5]` 这样呢？\n",
    "答案是错误的。`df.iloc[]` 的 `[[行]，[列]]` 里面可以同时接受行和列的位置，如果你直接键入 `df.iloc[1, 3, 5]` 就会报错。\n",
    "所以，很简单。如果你想要选择 2，4，6 行，可以这样做。"
   ]
  },
  {
   "cell_type": "code",
   "execution_count": 20,
   "metadata": {
    "pycharm": {
     "name": "#%%\n"
    }
   },
   "outputs": [
    {
     "data": {
      "text/plain": "   Zip Code  Total Population  Median Age  Total Males  Total Females  \\\n1     90001             57110        26.6        28468          28642   \n3     90003             66266        26.3        32631          33635   \n5     90005             37681        33.9        19299          18382   \n\n   Total Households  Average Household Size  \n1             12971                    4.40  \n3             15642                    4.22  \n5             15044                    2.50  ",
      "text/html": "<div>\n<style scoped>\n    .dataframe tbody tr th:only-of-type {\n        vertical-align: middle;\n    }\n\n    .dataframe tbody tr th {\n        vertical-align: top;\n    }\n\n    .dataframe thead th {\n        text-align: right;\n    }\n</style>\n<table border=\"1\" class=\"dataframe\">\n  <thead>\n    <tr style=\"text-align: right;\">\n      <th></th>\n      <th>Zip Code</th>\n      <th>Total Population</th>\n      <th>Median Age</th>\n      <th>Total Males</th>\n      <th>Total Females</th>\n      <th>Total Households</th>\n      <th>Average Household Size</th>\n    </tr>\n  </thead>\n  <tbody>\n    <tr>\n      <th>1</th>\n      <td>90001</td>\n      <td>57110</td>\n      <td>26.6</td>\n      <td>28468</td>\n      <td>28642</td>\n      <td>12971</td>\n      <td>4.40</td>\n    </tr>\n    <tr>\n      <th>3</th>\n      <td>90003</td>\n      <td>66266</td>\n      <td>26.3</td>\n      <td>32631</td>\n      <td>33635</td>\n      <td>15642</td>\n      <td>4.22</td>\n    </tr>\n    <tr>\n      <th>5</th>\n      <td>90005</td>\n      <td>37681</td>\n      <td>33.9</td>\n      <td>19299</td>\n      <td>18382</td>\n      <td>15044</td>\n      <td>2.50</td>\n    </tr>\n  </tbody>\n</table>\n</div>"
     },
     "execution_count": 20,
     "metadata": {},
     "output_type": "execute_result"
    }
   ],
   "source": [
    "df.iloc[[1, 3, 5]]"
   ]
  },
  {
   "cell_type": "markdown",
   "metadata": {
    "pycharm": {
     "name": "#%% md\n"
    }
   },
   "source": [
    "选择行学会以后，选择列就应该能想到怎么办了。例如，我们要选择第 2-4 列。"
   ]
  },
  {
   "cell_type": "code",
   "execution_count": 21,
   "metadata": {
    "pycharm": {
     "name": "#%%\n"
    }
   },
   "outputs": [
    {
     "data": {
      "text/plain": "     Total Population  Median Age  Total Males\n0                   1        73.5            0\n1               57110        26.6        28468\n2               51223        25.5        24876\n3               66266        26.3        32631\n4               62180        34.8        31302\n..                ...         ...          ...\n314             38158        28.4        18711\n315              2138        43.3         1121\n316             18910        32.4         9491\n317               388        44.5          263\n318              7285        30.9         3653\n\n[319 rows x 3 columns]",
      "text/html": "<div>\n<style scoped>\n    .dataframe tbody tr th:only-of-type {\n        vertical-align: middle;\n    }\n\n    .dataframe tbody tr th {\n        vertical-align: top;\n    }\n\n    .dataframe thead th {\n        text-align: right;\n    }\n</style>\n<table border=\"1\" class=\"dataframe\">\n  <thead>\n    <tr style=\"text-align: right;\">\n      <th></th>\n      <th>Total Population</th>\n      <th>Median Age</th>\n      <th>Total Males</th>\n    </tr>\n  </thead>\n  <tbody>\n    <tr>\n      <th>0</th>\n      <td>1</td>\n      <td>73.5</td>\n      <td>0</td>\n    </tr>\n    <tr>\n      <th>1</th>\n      <td>57110</td>\n      <td>26.6</td>\n      <td>28468</td>\n    </tr>\n    <tr>\n      <th>2</th>\n      <td>51223</td>\n      <td>25.5</td>\n      <td>24876</td>\n    </tr>\n    <tr>\n      <th>3</th>\n      <td>66266</td>\n      <td>26.3</td>\n      <td>32631</td>\n    </tr>\n    <tr>\n      <th>4</th>\n      <td>62180</td>\n      <td>34.8</td>\n      <td>31302</td>\n    </tr>\n    <tr>\n      <th>...</th>\n      <td>...</td>\n      <td>...</td>\n      <td>...</td>\n    </tr>\n    <tr>\n      <th>314</th>\n      <td>38158</td>\n      <td>28.4</td>\n      <td>18711</td>\n    </tr>\n    <tr>\n      <th>315</th>\n      <td>2138</td>\n      <td>43.3</td>\n      <td>1121</td>\n    </tr>\n    <tr>\n      <th>316</th>\n      <td>18910</td>\n      <td>32.4</td>\n      <td>9491</td>\n    </tr>\n    <tr>\n      <th>317</th>\n      <td>388</td>\n      <td>44.5</td>\n      <td>263</td>\n    </tr>\n    <tr>\n      <th>318</th>\n      <td>7285</td>\n      <td>30.9</td>\n      <td>3653</td>\n    </tr>\n  </tbody>\n</table>\n<p>319 rows × 3 columns</p>\n</div>"
     },
     "execution_count": 21,
     "metadata": {},
     "output_type": "execute_result"
    }
   ],
   "source": [
    "df.iloc[:, 1:4]"
   ]
  },
  {
   "cell_type": "markdown",
   "metadata": {
    "pycharm": {
     "name": "#%% md\n"
    }
   },
   "source": [
    "#### 基于标签名称选择"
   ]
  },
  {
   "cell_type": "markdown",
   "metadata": {
    "pycharm": {
     "name": "#%% md\n"
    }
   },
   "source": [
    "除了根据数字索引选择，还可以直接根据标签对应的名称选择。这里用到的方法和上面的 `iloc` 很相似，少了个 `i` 为 [`df.loc[]`](https://pandas.pydata.org/pandas-docs/stable/reference/api/pandas.DataFrame.loc.html#pandas.DataFrame.loc)。"
   ]
  },
  {
   "cell_type": "markdown",
   "metadata": {
    "pycharm": {
     "name": "#%% md\n"
    }
   },
   "source": [
    "`df.loc[]` 可以接受的类型有："
   ]
  },
  {
   "cell_type": "markdown",
   "metadata": {
    "pycharm": {
     "name": "#%% md\n"
    }
   },
   "source": [
    "1.  单个标签。例如：`2` 或 `'a'`，这里的 `2` 指的是标签而不是索引位置。\n",
    "2.  列表或数组包含的标签。例如：`['A', 'B', 'C']`。\n",
    "3.  切片对象。例如：`'A':'E'`，注意这里和上面切片的不同之处，首尾都包含在内。\n",
    "4.  布尔数组。\n",
    "5.  可返回标签的函数或参数。"
   ]
  },
  {
   "cell_type": "markdown",
   "metadata": {
    "pycharm": {
     "name": "#%% md\n"
    }
   },
   "source": [
    "下面，我们来演示 `df.loc[]` 的用法。先选择前 3 行："
   ]
  },
  {
   "cell_type": "code",
   "execution_count": 22,
   "metadata": {
    "pycharm": {
     "name": "#%%\n"
    }
   },
   "outputs": [
    {
     "data": {
      "text/plain": "   Zip Code  Total Population  Median Age  Total Males  Total Females  \\\n0     91371                 1        73.5            0              1   \n1     90001             57110        26.6        28468          28642   \n2     90002             51223        25.5        24876          26347   \n\n   Total Households  Average Household Size  \n0                 1                    1.00  \n1             12971                    4.40  \n2             11731                    4.36  ",
      "text/html": "<div>\n<style scoped>\n    .dataframe tbody tr th:only-of-type {\n        vertical-align: middle;\n    }\n\n    .dataframe tbody tr th {\n        vertical-align: top;\n    }\n\n    .dataframe thead th {\n        text-align: right;\n    }\n</style>\n<table border=\"1\" class=\"dataframe\">\n  <thead>\n    <tr style=\"text-align: right;\">\n      <th></th>\n      <th>Zip Code</th>\n      <th>Total Population</th>\n      <th>Median Age</th>\n      <th>Total Males</th>\n      <th>Total Females</th>\n      <th>Total Households</th>\n      <th>Average Household Size</th>\n    </tr>\n  </thead>\n  <tbody>\n    <tr>\n      <th>0</th>\n      <td>91371</td>\n      <td>1</td>\n      <td>73.5</td>\n      <td>0</td>\n      <td>1</td>\n      <td>1</td>\n      <td>1.00</td>\n    </tr>\n    <tr>\n      <th>1</th>\n      <td>90001</td>\n      <td>57110</td>\n      <td>26.6</td>\n      <td>28468</td>\n      <td>28642</td>\n      <td>12971</td>\n      <td>4.40</td>\n    </tr>\n    <tr>\n      <th>2</th>\n      <td>90002</td>\n      <td>51223</td>\n      <td>25.5</td>\n      <td>24876</td>\n      <td>26347</td>\n      <td>11731</td>\n      <td>4.36</td>\n    </tr>\n  </tbody>\n</table>\n</div>"
     },
     "execution_count": 22,
     "metadata": {},
     "output_type": "execute_result"
    }
   ],
   "source": [
    "df.loc[0:2]"
   ]
  },
  {
   "cell_type": "markdown",
   "metadata": {
    "pycharm": {
     "name": "#%% md\n"
    }
   },
   "source": [
    "再选择 1，3，5 行："
   ]
  },
  {
   "cell_type": "code",
   "execution_count": 23,
   "metadata": {
    "pycharm": {
     "name": "#%%\n"
    }
   },
   "outputs": [
    {
     "data": {
      "text/plain": "   Zip Code  Total Population  Median Age  Total Males  Total Females  \\\n0     91371                 1        73.5            0              1   \n2     90002             51223        25.5        24876          26347   \n4     90004             62180        34.8        31302          30878   \n\n   Total Households  Average Household Size  \n0                 1                    1.00  \n2             11731                    4.36  \n4             22547                    2.73  ",
      "text/html": "<div>\n<style scoped>\n    .dataframe tbody tr th:only-of-type {\n        vertical-align: middle;\n    }\n\n    .dataframe tbody tr th {\n        vertical-align: top;\n    }\n\n    .dataframe thead th {\n        text-align: right;\n    }\n</style>\n<table border=\"1\" class=\"dataframe\">\n  <thead>\n    <tr style=\"text-align: right;\">\n      <th></th>\n      <th>Zip Code</th>\n      <th>Total Population</th>\n      <th>Median Age</th>\n      <th>Total Males</th>\n      <th>Total Females</th>\n      <th>Total Households</th>\n      <th>Average Household Size</th>\n    </tr>\n  </thead>\n  <tbody>\n    <tr>\n      <th>0</th>\n      <td>91371</td>\n      <td>1</td>\n      <td>73.5</td>\n      <td>0</td>\n      <td>1</td>\n      <td>1</td>\n      <td>1.00</td>\n    </tr>\n    <tr>\n      <th>2</th>\n      <td>90002</td>\n      <td>51223</td>\n      <td>25.5</td>\n      <td>24876</td>\n      <td>26347</td>\n      <td>11731</td>\n      <td>4.36</td>\n    </tr>\n    <tr>\n      <th>4</th>\n      <td>90004</td>\n      <td>62180</td>\n      <td>34.8</td>\n      <td>31302</td>\n      <td>30878</td>\n      <td>22547</td>\n      <td>2.73</td>\n    </tr>\n  </tbody>\n</table>\n</div>"
     },
     "execution_count": 23,
     "metadata": {},
     "output_type": "execute_result"
    }
   ],
   "source": [
    "df.loc[[0, 2, 4]]"
   ]
  },
  {
   "cell_type": "markdown",
   "metadata": {
    "pycharm": {
     "name": "#%% md\n"
    }
   },
   "source": [
    "然后，选择 2-4 列："
   ]
  },
  {
   "cell_type": "code",
   "execution_count": 24,
   "metadata": {
    "pycharm": {
     "name": "#%%\n"
    }
   },
   "outputs": [
    {
     "data": {
      "text/plain": "     Total Population  Median Age  Total Males\n0                   1        73.5            0\n1               57110        26.6        28468\n2               51223        25.5        24876\n3               66266        26.3        32631\n4               62180        34.8        31302\n..                ...         ...          ...\n314             38158        28.4        18711\n315              2138        43.3         1121\n316             18910        32.4         9491\n317               388        44.5          263\n318              7285        30.9         3653\n\n[319 rows x 3 columns]",
      "text/html": "<div>\n<style scoped>\n    .dataframe tbody tr th:only-of-type {\n        vertical-align: middle;\n    }\n\n    .dataframe tbody tr th {\n        vertical-align: top;\n    }\n\n    .dataframe thead th {\n        text-align: right;\n    }\n</style>\n<table border=\"1\" class=\"dataframe\">\n  <thead>\n    <tr style=\"text-align: right;\">\n      <th></th>\n      <th>Total Population</th>\n      <th>Median Age</th>\n      <th>Total Males</th>\n    </tr>\n  </thead>\n  <tbody>\n    <tr>\n      <th>0</th>\n      <td>1</td>\n      <td>73.5</td>\n      <td>0</td>\n    </tr>\n    <tr>\n      <th>1</th>\n      <td>57110</td>\n      <td>26.6</td>\n      <td>28468</td>\n    </tr>\n    <tr>\n      <th>2</th>\n      <td>51223</td>\n      <td>25.5</td>\n      <td>24876</td>\n    </tr>\n    <tr>\n      <th>3</th>\n      <td>66266</td>\n      <td>26.3</td>\n      <td>32631</td>\n    </tr>\n    <tr>\n      <th>4</th>\n      <td>62180</td>\n      <td>34.8</td>\n      <td>31302</td>\n    </tr>\n    <tr>\n      <th>...</th>\n      <td>...</td>\n      <td>...</td>\n      <td>...</td>\n    </tr>\n    <tr>\n      <th>314</th>\n      <td>38158</td>\n      <td>28.4</td>\n      <td>18711</td>\n    </tr>\n    <tr>\n      <th>315</th>\n      <td>2138</td>\n      <td>43.3</td>\n      <td>1121</td>\n    </tr>\n    <tr>\n      <th>316</th>\n      <td>18910</td>\n      <td>32.4</td>\n      <td>9491</td>\n    </tr>\n    <tr>\n      <th>317</th>\n      <td>388</td>\n      <td>44.5</td>\n      <td>263</td>\n    </tr>\n    <tr>\n      <th>318</th>\n      <td>7285</td>\n      <td>30.9</td>\n      <td>3653</td>\n    </tr>\n  </tbody>\n</table>\n<p>319 rows × 3 columns</p>\n</div>"
     },
     "execution_count": 24,
     "metadata": {},
     "output_type": "execute_result"
    }
   ],
   "source": [
    "df.loc[:, 'Total Population':'Total Males']"
   ]
  },
  {
   "cell_type": "markdown",
   "metadata": {
    "pycharm": {
     "name": "#%% md\n"
    }
   },
   "source": [
    "最后，选择 1，3 行和 Median Age 后面的列："
   ]
  },
  {
   "cell_type": "code",
   "execution_count": 25,
   "metadata": {
    "pycharm": {
     "name": "#%%\n"
    }
   },
   "outputs": [
    {
     "data": {
      "text/plain": "   Median Age  Total Males  Total Females  Total Households  \\\n0        73.5            0              1                 1   \n2        25.5        24876          26347             11731   \n\n   Average Household Size  \n0                    1.00  \n2                    4.36  ",
      "text/html": "<div>\n<style scoped>\n    .dataframe tbody tr th:only-of-type {\n        vertical-align: middle;\n    }\n\n    .dataframe tbody tr th {\n        vertical-align: top;\n    }\n\n    .dataframe thead th {\n        text-align: right;\n    }\n</style>\n<table border=\"1\" class=\"dataframe\">\n  <thead>\n    <tr style=\"text-align: right;\">\n      <th></th>\n      <th>Median Age</th>\n      <th>Total Males</th>\n      <th>Total Females</th>\n      <th>Total Households</th>\n      <th>Average Household Size</th>\n    </tr>\n  </thead>\n  <tbody>\n    <tr>\n      <th>0</th>\n      <td>73.5</td>\n      <td>0</td>\n      <td>1</td>\n      <td>1</td>\n      <td>1.00</td>\n    </tr>\n    <tr>\n      <th>2</th>\n      <td>25.5</td>\n      <td>24876</td>\n      <td>26347</td>\n      <td>11731</td>\n      <td>4.36</td>\n    </tr>\n  </tbody>\n</table>\n</div>"
     },
     "execution_count": 25,
     "metadata": {},
     "output_type": "execute_result"
    }
   ],
   "source": [
    "df.loc[[0, 2], 'Median Age':]"
   ]
  },
  {
   "cell_type": "markdown",
   "metadata": {
    "pycharm": {
     "name": "#%% md\n"
    }
   },
   "source": [
    "### 数据删减"
   ]
  },
  {
   "cell_type": "markdown",
   "metadata": {
    "pycharm": {
     "name": "#%% md\n"
    }
   },
   "source": [
    "虽然我们可以通过数据选择方法从一个完整的数据集中拿到我们需要的数据，但有的时候直接删除不需要的数据更加简单直接。Pandas 中，以 `.drop` 开头的方法都与数据删减有关。"
   ]
  },
  {
   "cell_type": "markdown",
   "metadata": {
    "pycharm": {
     "name": "#%% md\n"
    }
   },
   "source": [
    "[`DataFrame.drop`](https://pandas.pydata.org/pandas-docs/stable/reference/api/pandas.DataFrame.drop.html#pandas.DataFrame.drop) 可以直接去掉数据集中指定的列和行。一般在使用时，我们指定 `labels` 标签参数，然后再通过 `axis` 指定按列或按行删除即可。当然，你也可以通过索引参数删除数据，具体查看官方文档。"
   ]
  },
  {
   "cell_type": "code",
   "execution_count": 26,
   "metadata": {
    "pycharm": {
     "name": "#%%\n"
    }
   },
   "outputs": [
    {
     "data": {
      "text/plain": "     Zip Code  Total Population  Total Females  Total Households  \\\n0       91371                 1              1                 1   \n1       90001             57110          28642             12971   \n2       90002             51223          26347             11731   \n3       90003             66266          33635             15642   \n4       90004             62180          30878             22547   \n..        ...               ...            ...               ...   \n314     93552             38158          19447              9690   \n315     93553              2138           1017               816   \n316     93560             18910           9419              6469   \n317     93563               388            125               103   \n318     93591              7285           3632              1982   \n\n     Average Household Size  \n0                      1.00  \n1                      4.40  \n2                      4.36  \n3                      4.22  \n4                      2.73  \n..                      ...  \n314                    3.93  \n315                    2.62  \n316                    2.92  \n317                    2.53  \n318                    3.67  \n\n[319 rows x 5 columns]",
      "text/html": "<div>\n<style scoped>\n    .dataframe tbody tr th:only-of-type {\n        vertical-align: middle;\n    }\n\n    .dataframe tbody tr th {\n        vertical-align: top;\n    }\n\n    .dataframe thead th {\n        text-align: right;\n    }\n</style>\n<table border=\"1\" class=\"dataframe\">\n  <thead>\n    <tr style=\"text-align: right;\">\n      <th></th>\n      <th>Zip Code</th>\n      <th>Total Population</th>\n      <th>Total Females</th>\n      <th>Total Households</th>\n      <th>Average Household Size</th>\n    </tr>\n  </thead>\n  <tbody>\n    <tr>\n      <th>0</th>\n      <td>91371</td>\n      <td>1</td>\n      <td>1</td>\n      <td>1</td>\n      <td>1.00</td>\n    </tr>\n    <tr>\n      <th>1</th>\n      <td>90001</td>\n      <td>57110</td>\n      <td>28642</td>\n      <td>12971</td>\n      <td>4.40</td>\n    </tr>\n    <tr>\n      <th>2</th>\n      <td>90002</td>\n      <td>51223</td>\n      <td>26347</td>\n      <td>11731</td>\n      <td>4.36</td>\n    </tr>\n    <tr>\n      <th>3</th>\n      <td>90003</td>\n      <td>66266</td>\n      <td>33635</td>\n      <td>15642</td>\n      <td>4.22</td>\n    </tr>\n    <tr>\n      <th>4</th>\n      <td>90004</td>\n      <td>62180</td>\n      <td>30878</td>\n      <td>22547</td>\n      <td>2.73</td>\n    </tr>\n    <tr>\n      <th>...</th>\n      <td>...</td>\n      <td>...</td>\n      <td>...</td>\n      <td>...</td>\n      <td>...</td>\n    </tr>\n    <tr>\n      <th>314</th>\n      <td>93552</td>\n      <td>38158</td>\n      <td>19447</td>\n      <td>9690</td>\n      <td>3.93</td>\n    </tr>\n    <tr>\n      <th>315</th>\n      <td>93553</td>\n      <td>2138</td>\n      <td>1017</td>\n      <td>816</td>\n      <td>2.62</td>\n    </tr>\n    <tr>\n      <th>316</th>\n      <td>93560</td>\n      <td>18910</td>\n      <td>9419</td>\n      <td>6469</td>\n      <td>2.92</td>\n    </tr>\n    <tr>\n      <th>317</th>\n      <td>93563</td>\n      <td>388</td>\n      <td>125</td>\n      <td>103</td>\n      <td>2.53</td>\n    </tr>\n    <tr>\n      <th>318</th>\n      <td>93591</td>\n      <td>7285</td>\n      <td>3632</td>\n      <td>1982</td>\n      <td>3.67</td>\n    </tr>\n  </tbody>\n</table>\n<p>319 rows × 5 columns</p>\n</div>"
     },
     "execution_count": 26,
     "metadata": {},
     "output_type": "execute_result"
    }
   ],
   "source": [
    "df.drop(labels=['Median Age', 'Total Males'], axis=1)"
   ]
  },
  {
   "cell_type": "markdown",
   "metadata": {
    "pycharm": {
     "name": "#%% md\n"
    }
   },
   "source": [
    "[`DataFrame.drop_duplicates`](https://pandas.pydata.org/pandas-docs/stable/reference/api/pandas.DataFrame.drop_duplicates.html#pandas.DataFrame.drop_duplicates) 则通常用于数据去重，即剔除数据集中的重复值。使用方法非常简单，默认情况下，它会根据所有列删除重复的行。也可以使用 subset 指定要删除的特定列上的重复项，要删除重复项并保留最后一次出现，请使用 keep='last'。"
   ]
  },
  {
   "cell_type": "code",
   "execution_count": 27,
   "metadata": {
    "pycharm": {
     "name": "#%%\n"
    }
   },
   "outputs": [
    {
     "data": {
      "text/plain": "     Zip Code  Total Population  Median Age  Total Males  Total Females  \\\n0       91371                 1        73.5            0              1   \n1       90001             57110        26.6        28468          28642   \n2       90002             51223        25.5        24876          26347   \n3       90003             66266        26.3        32631          33635   \n4       90004             62180        34.8        31302          30878   \n..        ...               ...         ...          ...            ...   \n314     93552             38158        28.4        18711          19447   \n315     93553              2138        43.3         1121           1017   \n316     93560             18910        32.4         9491           9419   \n317     93563               388        44.5          263            125   \n318     93591              7285        30.9         3653           3632   \n\n     Total Households  Average Household Size  \n0                   1                    1.00  \n1               12971                    4.40  \n2               11731                    4.36  \n3               15642                    4.22  \n4               22547                    2.73  \n..                ...                     ...  \n314              9690                    3.93  \n315               816                    2.62  \n316              6469                    2.92  \n317               103                    2.53  \n318              1982                    3.67  \n\n[319 rows x 7 columns]",
      "text/html": "<div>\n<style scoped>\n    .dataframe tbody tr th:only-of-type {\n        vertical-align: middle;\n    }\n\n    .dataframe tbody tr th {\n        vertical-align: top;\n    }\n\n    .dataframe thead th {\n        text-align: right;\n    }\n</style>\n<table border=\"1\" class=\"dataframe\">\n  <thead>\n    <tr style=\"text-align: right;\">\n      <th></th>\n      <th>Zip Code</th>\n      <th>Total Population</th>\n      <th>Median Age</th>\n      <th>Total Males</th>\n      <th>Total Females</th>\n      <th>Total Households</th>\n      <th>Average Household Size</th>\n    </tr>\n  </thead>\n  <tbody>\n    <tr>\n      <th>0</th>\n      <td>91371</td>\n      <td>1</td>\n      <td>73.5</td>\n      <td>0</td>\n      <td>1</td>\n      <td>1</td>\n      <td>1.00</td>\n    </tr>\n    <tr>\n      <th>1</th>\n      <td>90001</td>\n      <td>57110</td>\n      <td>26.6</td>\n      <td>28468</td>\n      <td>28642</td>\n      <td>12971</td>\n      <td>4.40</td>\n    </tr>\n    <tr>\n      <th>2</th>\n      <td>90002</td>\n      <td>51223</td>\n      <td>25.5</td>\n      <td>24876</td>\n      <td>26347</td>\n      <td>11731</td>\n      <td>4.36</td>\n    </tr>\n    <tr>\n      <th>3</th>\n      <td>90003</td>\n      <td>66266</td>\n      <td>26.3</td>\n      <td>32631</td>\n      <td>33635</td>\n      <td>15642</td>\n      <td>4.22</td>\n    </tr>\n    <tr>\n      <th>4</th>\n      <td>90004</td>\n      <td>62180</td>\n      <td>34.8</td>\n      <td>31302</td>\n      <td>30878</td>\n      <td>22547</td>\n      <td>2.73</td>\n    </tr>\n    <tr>\n      <th>...</th>\n      <td>...</td>\n      <td>...</td>\n      <td>...</td>\n      <td>...</td>\n      <td>...</td>\n      <td>...</td>\n      <td>...</td>\n    </tr>\n    <tr>\n      <th>314</th>\n      <td>93552</td>\n      <td>38158</td>\n      <td>28.4</td>\n      <td>18711</td>\n      <td>19447</td>\n      <td>9690</td>\n      <td>3.93</td>\n    </tr>\n    <tr>\n      <th>315</th>\n      <td>93553</td>\n      <td>2138</td>\n      <td>43.3</td>\n      <td>1121</td>\n      <td>1017</td>\n      <td>816</td>\n      <td>2.62</td>\n    </tr>\n    <tr>\n      <th>316</th>\n      <td>93560</td>\n      <td>18910</td>\n      <td>32.4</td>\n      <td>9491</td>\n      <td>9419</td>\n      <td>6469</td>\n      <td>2.92</td>\n    </tr>\n    <tr>\n      <th>317</th>\n      <td>93563</td>\n      <td>388</td>\n      <td>44.5</td>\n      <td>263</td>\n      <td>125</td>\n      <td>103</td>\n      <td>2.53</td>\n    </tr>\n    <tr>\n      <th>318</th>\n      <td>93591</td>\n      <td>7285</td>\n      <td>30.9</td>\n      <td>3653</td>\n      <td>3632</td>\n      <td>1982</td>\n      <td>3.67</td>\n    </tr>\n  </tbody>\n</table>\n<p>319 rows × 7 columns</p>\n</div>"
     },
     "execution_count": 27,
     "metadata": {},
     "output_type": "execute_result"
    }
   ],
   "source": [
    "df.drop_duplicates()"
   ]
  },
  {
   "cell_type": "markdown",
   "metadata": {
    "pycharm": {
     "name": "#%% md\n"
    }
   },
   "source": [
    "除此之外，另一个用于数据删减的方法 [`DataFrame.dropna`](https://pandas.pydata.org/pandas-docs/stable/reference/api/pandas.DataFrame.dropna.html#pandas.DataFrame.dropna) 也十分常用，其主要的用途是删除缺少值，即数据集中空缺的数据列或行。"
   ]
  },
  {
   "cell_type": "code",
   "execution_count": 28,
   "metadata": {
    "pycharm": {
     "name": "#%%\n"
    }
   },
   "outputs": [
    {
     "data": {
      "text/plain": "     Zip Code  Total Population  Median Age  Total Males  Total Females  \\\n0       91371                 1        73.5            0              1   \n1       90001             57110        26.6        28468          28642   \n2       90002             51223        25.5        24876          26347   \n3       90003             66266        26.3        32631          33635   \n4       90004             62180        34.8        31302          30878   \n..        ...               ...         ...          ...            ...   \n314     93552             38158        28.4        18711          19447   \n315     93553              2138        43.3         1121           1017   \n316     93560             18910        32.4         9491           9419   \n317     93563               388        44.5          263            125   \n318     93591              7285        30.9         3653           3632   \n\n     Total Households  Average Household Size  \n0                   1                    1.00  \n1               12971                    4.40  \n2               11731                    4.36  \n3               15642                    4.22  \n4               22547                    2.73  \n..                ...                     ...  \n314              9690                    3.93  \n315               816                    2.62  \n316              6469                    2.92  \n317               103                    2.53  \n318              1982                    3.67  \n\n[319 rows x 7 columns]",
      "text/html": "<div>\n<style scoped>\n    .dataframe tbody tr th:only-of-type {\n        vertical-align: middle;\n    }\n\n    .dataframe tbody tr th {\n        vertical-align: top;\n    }\n\n    .dataframe thead th {\n        text-align: right;\n    }\n</style>\n<table border=\"1\" class=\"dataframe\">\n  <thead>\n    <tr style=\"text-align: right;\">\n      <th></th>\n      <th>Zip Code</th>\n      <th>Total Population</th>\n      <th>Median Age</th>\n      <th>Total Males</th>\n      <th>Total Females</th>\n      <th>Total Households</th>\n      <th>Average Household Size</th>\n    </tr>\n  </thead>\n  <tbody>\n    <tr>\n      <th>0</th>\n      <td>91371</td>\n      <td>1</td>\n      <td>73.5</td>\n      <td>0</td>\n      <td>1</td>\n      <td>1</td>\n      <td>1.00</td>\n    </tr>\n    <tr>\n      <th>1</th>\n      <td>90001</td>\n      <td>57110</td>\n      <td>26.6</td>\n      <td>28468</td>\n      <td>28642</td>\n      <td>12971</td>\n      <td>4.40</td>\n    </tr>\n    <tr>\n      <th>2</th>\n      <td>90002</td>\n      <td>51223</td>\n      <td>25.5</td>\n      <td>24876</td>\n      <td>26347</td>\n      <td>11731</td>\n      <td>4.36</td>\n    </tr>\n    <tr>\n      <th>3</th>\n      <td>90003</td>\n      <td>66266</td>\n      <td>26.3</td>\n      <td>32631</td>\n      <td>33635</td>\n      <td>15642</td>\n      <td>4.22</td>\n    </tr>\n    <tr>\n      <th>4</th>\n      <td>90004</td>\n      <td>62180</td>\n      <td>34.8</td>\n      <td>31302</td>\n      <td>30878</td>\n      <td>22547</td>\n      <td>2.73</td>\n    </tr>\n    <tr>\n      <th>...</th>\n      <td>...</td>\n      <td>...</td>\n      <td>...</td>\n      <td>...</td>\n      <td>...</td>\n      <td>...</td>\n      <td>...</td>\n    </tr>\n    <tr>\n      <th>314</th>\n      <td>93552</td>\n      <td>38158</td>\n      <td>28.4</td>\n      <td>18711</td>\n      <td>19447</td>\n      <td>9690</td>\n      <td>3.93</td>\n    </tr>\n    <tr>\n      <th>315</th>\n      <td>93553</td>\n      <td>2138</td>\n      <td>43.3</td>\n      <td>1121</td>\n      <td>1017</td>\n      <td>816</td>\n      <td>2.62</td>\n    </tr>\n    <tr>\n      <th>316</th>\n      <td>93560</td>\n      <td>18910</td>\n      <td>32.4</td>\n      <td>9491</td>\n      <td>9419</td>\n      <td>6469</td>\n      <td>2.92</td>\n    </tr>\n    <tr>\n      <th>317</th>\n      <td>93563</td>\n      <td>388</td>\n      <td>44.5</td>\n      <td>263</td>\n      <td>125</td>\n      <td>103</td>\n      <td>2.53</td>\n    </tr>\n    <tr>\n      <th>318</th>\n      <td>93591</td>\n      <td>7285</td>\n      <td>30.9</td>\n      <td>3653</td>\n      <td>3632</td>\n      <td>1982</td>\n      <td>3.67</td>\n    </tr>\n  </tbody>\n</table>\n<p>319 rows × 7 columns</p>\n</div>"
     },
     "execution_count": 28,
     "metadata": {},
     "output_type": "execute_result"
    }
   ],
   "source": [
    "df.dropna()"
   ]
  },
  {
   "cell_type": "markdown",
   "metadata": {
    "pycharm": {
     "name": "#%% md\n"
    }
   },
   "source": [
    "### 数据填充"
   ]
  },
  {
   "cell_type": "markdown",
   "metadata": {
    "pycharm": {
     "name": "#%% md\n"
    }
   },
   "source": [
    "既然提到了数据删减，反之则可能会遇到数据填充的情况。而对于一个给定的数据集而言，我们一般不会乱填数据，而更多的是对缺失值进行填充。"
   ]
  },
  {
   "cell_type": "markdown",
   "metadata": {
    "pycharm": {
     "name": "#%% md\n"
    }
   },
   "source": [
    "#### 检测缺失值"
   ]
  },
  {
   "cell_type": "markdown",
   "metadata": {
    "pycharm": {
     "name": "#%% md\n"
    }
   },
   "source": [
    "Pandas 为了更方便地检测缺失值，将不同类型数据的缺失均采用 `NaN` 标记。这里的 NaN 代表 Not a Number，它仅仅是作为一个标记。例外是，在时间序列里，时间戳的丢失采用 `NaT` 标记。"
   ]
  },
  {
   "cell_type": "markdown",
   "metadata": {
    "pycharm": {
     "name": "#%% md\n"
    }
   },
   "source": [
    "Pandas 中用于检测缺失值主要用到两个方法，分别是：[`isna()`](https://pandas.pydata.org/pandas-docs/stable/reference/api/pandas.DataFrame.isna.html#pandas.DataFrame.isna) 和 [`notna()`](https://pandas.pydata.org/pandas-docs/stable/reference/api/pandas.DataFrame.notna.html#pandas.DataFrame.notna)，故名思意就是「是缺失值」和「不是缺失值」。默认会返回布尔值用于判断。"
   ]
  },
  {
   "cell_type": "markdown",
   "metadata": {
    "pycharm": {
     "name": "#%% md\n"
    }
   },
   "source": [
    "接下来，我们人为生成一组包含缺失值的示例数据。"
   ]
  },
  {
   "cell_type": "code",
   "execution_count": 29,
   "metadata": {
    "pycharm": {
     "name": "#%%\n"
    }
   },
   "outputs": [
    {
     "data": {
      "text/plain": "        Time         A         B         C         D         E\n0 2017-10-01  0.966972  0.554303  0.130830  0.118823  0.508544\n1        NaT  0.016609       NaN  0.134696       NaN  0.020024\n2 2017-10-01       NaN  0.363470       NaN  0.643152       NaN\n3        NaT  0.425233       NaN  0.907961       NaN  0.955007\n4 2017-10-01       NaN  0.171726       NaN  0.364684       NaN\n5        NaT  0.933643       NaN  0.971487       NaN  0.346008\n6 2017-10-01       NaN  0.033414       NaN  0.794983       NaN\n7        NaT  0.179628       NaN  0.662900       NaN  0.010243\n8 2017-10-01       NaN  0.031645       NaN  0.097126       NaN",
      "text/html": "<div>\n<style scoped>\n    .dataframe tbody tr th:only-of-type {\n        vertical-align: middle;\n    }\n\n    .dataframe tbody tr th {\n        vertical-align: top;\n    }\n\n    .dataframe thead th {\n        text-align: right;\n    }\n</style>\n<table border=\"1\" class=\"dataframe\">\n  <thead>\n    <tr style=\"text-align: right;\">\n      <th></th>\n      <th>Time</th>\n      <th>A</th>\n      <th>B</th>\n      <th>C</th>\n      <th>D</th>\n      <th>E</th>\n    </tr>\n  </thead>\n  <tbody>\n    <tr>\n      <th>0</th>\n      <td>2017-10-01</td>\n      <td>0.966972</td>\n      <td>0.554303</td>\n      <td>0.130830</td>\n      <td>0.118823</td>\n      <td>0.508544</td>\n    </tr>\n    <tr>\n      <th>1</th>\n      <td>NaT</td>\n      <td>0.016609</td>\n      <td>NaN</td>\n      <td>0.134696</td>\n      <td>NaN</td>\n      <td>0.020024</td>\n    </tr>\n    <tr>\n      <th>2</th>\n      <td>2017-10-01</td>\n      <td>NaN</td>\n      <td>0.363470</td>\n      <td>NaN</td>\n      <td>0.643152</td>\n      <td>NaN</td>\n    </tr>\n    <tr>\n      <th>3</th>\n      <td>NaT</td>\n      <td>0.425233</td>\n      <td>NaN</td>\n      <td>0.907961</td>\n      <td>NaN</td>\n      <td>0.955007</td>\n    </tr>\n    <tr>\n      <th>4</th>\n      <td>2017-10-01</td>\n      <td>NaN</td>\n      <td>0.171726</td>\n      <td>NaN</td>\n      <td>0.364684</td>\n      <td>NaN</td>\n    </tr>\n    <tr>\n      <th>5</th>\n      <td>NaT</td>\n      <td>0.933643</td>\n      <td>NaN</td>\n      <td>0.971487</td>\n      <td>NaN</td>\n      <td>0.346008</td>\n    </tr>\n    <tr>\n      <th>6</th>\n      <td>2017-10-01</td>\n      <td>NaN</td>\n      <td>0.033414</td>\n      <td>NaN</td>\n      <td>0.794983</td>\n      <td>NaN</td>\n    </tr>\n    <tr>\n      <th>7</th>\n      <td>NaT</td>\n      <td>0.179628</td>\n      <td>NaN</td>\n      <td>0.662900</td>\n      <td>NaN</td>\n      <td>0.010243</td>\n    </tr>\n    <tr>\n      <th>8</th>\n      <td>2017-10-01</td>\n      <td>NaN</td>\n      <td>0.031645</td>\n      <td>NaN</td>\n      <td>0.097126</td>\n      <td>NaN</td>\n    </tr>\n  </tbody>\n</table>\n</div>"
     },
     "execution_count": 29,
     "metadata": {},
     "output_type": "execute_result"
    }
   ],
   "source": [
    "df = pd.DataFrame(np.random.rand(9, 5), columns=list('ABCDE'))\n",
    "# 插入 T 列，并打上时间戳\n",
    "df.insert(value=pd.Timestamp('2017-10-1'), loc=0, column='Time')\n",
    "# 将 1, 3, 5 列的 2，4，6，8 行置为缺失值\n",
    "df.iloc[[1, 3, 5, 7], [0, 2, 4]] = np.nan\n",
    "# 将 2, 4, 6 列的 3，5，7，9 行置为缺失值\n",
    "df.iloc[[2, 4, 6, 8], [1, 3, 5]] = np.nan\n",
    "df"
   ]
  },
  {
   "cell_type": "markdown",
   "metadata": {
    "pycharm": {
     "name": "#%% md\n"
    }
   },
   "source": [
    "然后，通过 [`isna()`](https://pandas.pydata.org/pandas-docs/stable/reference/api/pandas.DataFrame.isna.html#pandas.DataFrame.isna) 或 [`notna()`](https://pandas.pydata.org/pandas-docs/stable/reference/api/pandas.DataFrame.notna.html#pandas.DataFrame.notna) 中的一个即可确定数据集中的缺失值。"
   ]
  },
  {
   "cell_type": "code",
   "execution_count": 30,
   "metadata": {
    "pycharm": {
     "name": "#%%\n"
    }
   },
   "outputs": [
    {
     "data": {
      "text/plain": "    Time      A      B      C      D      E\n0  False  False  False  False  False  False\n1   True  False   True  False   True  False\n2  False   True  False   True  False   True\n3   True  False   True  False   True  False\n4  False   True  False   True  False   True\n5   True  False   True  False   True  False\n6  False   True  False   True  False   True\n7   True  False   True  False   True  False\n8  False   True  False   True  False   True",
      "text/html": "<div>\n<style scoped>\n    .dataframe tbody tr th:only-of-type {\n        vertical-align: middle;\n    }\n\n    .dataframe tbody tr th {\n        vertical-align: top;\n    }\n\n    .dataframe thead th {\n        text-align: right;\n    }\n</style>\n<table border=\"1\" class=\"dataframe\">\n  <thead>\n    <tr style=\"text-align: right;\">\n      <th></th>\n      <th>Time</th>\n      <th>A</th>\n      <th>B</th>\n      <th>C</th>\n      <th>D</th>\n      <th>E</th>\n    </tr>\n  </thead>\n  <tbody>\n    <tr>\n      <th>0</th>\n      <td>False</td>\n      <td>False</td>\n      <td>False</td>\n      <td>False</td>\n      <td>False</td>\n      <td>False</td>\n    </tr>\n    <tr>\n      <th>1</th>\n      <td>True</td>\n      <td>False</td>\n      <td>True</td>\n      <td>False</td>\n      <td>True</td>\n      <td>False</td>\n    </tr>\n    <tr>\n      <th>2</th>\n      <td>False</td>\n      <td>True</td>\n      <td>False</td>\n      <td>True</td>\n      <td>False</td>\n      <td>True</td>\n    </tr>\n    <tr>\n      <th>3</th>\n      <td>True</td>\n      <td>False</td>\n      <td>True</td>\n      <td>False</td>\n      <td>True</td>\n      <td>False</td>\n    </tr>\n    <tr>\n      <th>4</th>\n      <td>False</td>\n      <td>True</td>\n      <td>False</td>\n      <td>True</td>\n      <td>False</td>\n      <td>True</td>\n    </tr>\n    <tr>\n      <th>5</th>\n      <td>True</td>\n      <td>False</td>\n      <td>True</td>\n      <td>False</td>\n      <td>True</td>\n      <td>False</td>\n    </tr>\n    <tr>\n      <th>6</th>\n      <td>False</td>\n      <td>True</td>\n      <td>False</td>\n      <td>True</td>\n      <td>False</td>\n      <td>True</td>\n    </tr>\n    <tr>\n      <th>7</th>\n      <td>True</td>\n      <td>False</td>\n      <td>True</td>\n      <td>False</td>\n      <td>True</td>\n      <td>False</td>\n    </tr>\n    <tr>\n      <th>8</th>\n      <td>False</td>\n      <td>True</td>\n      <td>False</td>\n      <td>True</td>\n      <td>False</td>\n      <td>True</td>\n    </tr>\n  </tbody>\n</table>\n</div>"
     },
     "execution_count": 30,
     "metadata": {},
     "output_type": "execute_result"
    }
   ],
   "source": [
    "df.isna()"
   ]
  },
  {
   "cell_type": "markdown",
   "metadata": {
    "pycharm": {
     "name": "#%% md\n"
    }
   },
   "source": [
    "上面已经对缺省值的产生、检测进行了介绍。实际上，面对缺失值一般就是填充和剔除两项操作。填充和清除都是两个极端。如果你感觉有必要保留缺失值所在的列或行，那么就需要对缺失值进行填充。如果没有必要保留，就可以选择清除缺失值。"
   ]
  },
  {
   "cell_type": "markdown",
   "metadata": {
    "pycharm": {
     "name": "#%% md\n"
    }
   },
   "source": [
    "其中，缺失值剔除的方法 `dropna()` 已经在上面介绍过了。下面来看一看填充缺失值 `fillna()` 方法。"
   ]
  },
  {
   "cell_type": "markdown",
   "metadata": {
    "pycharm": {
     "name": "#%% md\n"
    }
   },
   "source": [
    "首先，我们可以用相同的标量值替换 `NaN`，比如用 `0`。"
   ]
  },
  {
   "cell_type": "code",
   "execution_count": 31,
   "metadata": {
    "pycharm": {
     "name": "#%%\n"
    }
   },
   "outputs": [
    {
     "data": {
      "text/plain": "                  Time         A         B         C         D         E\n0  2017-10-01 00:00:00  0.966972  0.554303  0.130830  0.118823  0.508544\n1                    0  0.016609  0.000000  0.134696  0.000000  0.020024\n2  2017-10-01 00:00:00  0.000000  0.363470  0.000000  0.643152  0.000000\n3                    0  0.425233  0.000000  0.907961  0.000000  0.955007\n4  2017-10-01 00:00:00  0.000000  0.171726  0.000000  0.364684  0.000000\n5                    0  0.933643  0.000000  0.971487  0.000000  0.346008\n6  2017-10-01 00:00:00  0.000000  0.033414  0.000000  0.794983  0.000000\n7                    0  0.179628  0.000000  0.662900  0.000000  0.010243\n8  2017-10-01 00:00:00  0.000000  0.031645  0.000000  0.097126  0.000000",
      "text/html": "<div>\n<style scoped>\n    .dataframe tbody tr th:only-of-type {\n        vertical-align: middle;\n    }\n\n    .dataframe tbody tr th {\n        vertical-align: top;\n    }\n\n    .dataframe thead th {\n        text-align: right;\n    }\n</style>\n<table border=\"1\" class=\"dataframe\">\n  <thead>\n    <tr style=\"text-align: right;\">\n      <th></th>\n      <th>Time</th>\n      <th>A</th>\n      <th>B</th>\n      <th>C</th>\n      <th>D</th>\n      <th>E</th>\n    </tr>\n  </thead>\n  <tbody>\n    <tr>\n      <th>0</th>\n      <td>2017-10-01 00:00:00</td>\n      <td>0.966972</td>\n      <td>0.554303</td>\n      <td>0.130830</td>\n      <td>0.118823</td>\n      <td>0.508544</td>\n    </tr>\n    <tr>\n      <th>1</th>\n      <td>0</td>\n      <td>0.016609</td>\n      <td>0.000000</td>\n      <td>0.134696</td>\n      <td>0.000000</td>\n      <td>0.020024</td>\n    </tr>\n    <tr>\n      <th>2</th>\n      <td>2017-10-01 00:00:00</td>\n      <td>0.000000</td>\n      <td>0.363470</td>\n      <td>0.000000</td>\n      <td>0.643152</td>\n      <td>0.000000</td>\n    </tr>\n    <tr>\n      <th>3</th>\n      <td>0</td>\n      <td>0.425233</td>\n      <td>0.000000</td>\n      <td>0.907961</td>\n      <td>0.000000</td>\n      <td>0.955007</td>\n    </tr>\n    <tr>\n      <th>4</th>\n      <td>2017-10-01 00:00:00</td>\n      <td>0.000000</td>\n      <td>0.171726</td>\n      <td>0.000000</td>\n      <td>0.364684</td>\n      <td>0.000000</td>\n    </tr>\n    <tr>\n      <th>5</th>\n      <td>0</td>\n      <td>0.933643</td>\n      <td>0.000000</td>\n      <td>0.971487</td>\n      <td>0.000000</td>\n      <td>0.346008</td>\n    </tr>\n    <tr>\n      <th>6</th>\n      <td>2017-10-01 00:00:00</td>\n      <td>0.000000</td>\n      <td>0.033414</td>\n      <td>0.000000</td>\n      <td>0.794983</td>\n      <td>0.000000</td>\n    </tr>\n    <tr>\n      <th>7</th>\n      <td>0</td>\n      <td>0.179628</td>\n      <td>0.000000</td>\n      <td>0.662900</td>\n      <td>0.000000</td>\n      <td>0.010243</td>\n    </tr>\n    <tr>\n      <th>8</th>\n      <td>2017-10-01 00:00:00</td>\n      <td>0.000000</td>\n      <td>0.031645</td>\n      <td>0.000000</td>\n      <td>0.097126</td>\n      <td>0.000000</td>\n    </tr>\n  </tbody>\n</table>\n</div>"
     },
     "execution_count": 31,
     "metadata": {},
     "output_type": "execute_result"
    }
   ],
   "source": [
    "df.fillna(0)"
   ]
  },
  {
   "cell_type": "markdown",
   "metadata": {
    "pycharm": {
     "name": "#%% md\n"
    }
   },
   "source": [
    "除了直接填充值，我们还可以通过参数，将缺失值前面或者后面的值填充给相应的缺失值。例如使用缺失值前面的值进行填充："
   ]
  },
  {
   "cell_type": "code",
   "execution_count": 32,
   "metadata": {
    "pycharm": {
     "name": "#%%\n"
    }
   },
   "outputs": [
    {
     "data": {
      "text/plain": "        Time         A         B         C         D         E\n0 2017-10-01  0.966972  0.554303  0.130830  0.118823  0.508544\n1 2017-10-01  0.016609  0.554303  0.134696  0.118823  0.020024\n2 2017-10-01  0.016609  0.363470  0.134696  0.643152  0.020024\n3 2017-10-01  0.425233  0.363470  0.907961  0.643152  0.955007\n4 2017-10-01  0.425233  0.171726  0.907961  0.364684  0.955007\n5 2017-10-01  0.933643  0.171726  0.971487  0.364684  0.346008\n6 2017-10-01  0.933643  0.033414  0.971487  0.794983  0.346008\n7 2017-10-01  0.179628  0.033414  0.662900  0.794983  0.010243\n8 2017-10-01  0.179628  0.031645  0.662900  0.097126  0.010243",
      "text/html": "<div>\n<style scoped>\n    .dataframe tbody tr th:only-of-type {\n        vertical-align: middle;\n    }\n\n    .dataframe tbody tr th {\n        vertical-align: top;\n    }\n\n    .dataframe thead th {\n        text-align: right;\n    }\n</style>\n<table border=\"1\" class=\"dataframe\">\n  <thead>\n    <tr style=\"text-align: right;\">\n      <th></th>\n      <th>Time</th>\n      <th>A</th>\n      <th>B</th>\n      <th>C</th>\n      <th>D</th>\n      <th>E</th>\n    </tr>\n  </thead>\n  <tbody>\n    <tr>\n      <th>0</th>\n      <td>2017-10-01</td>\n      <td>0.966972</td>\n      <td>0.554303</td>\n      <td>0.130830</td>\n      <td>0.118823</td>\n      <td>0.508544</td>\n    </tr>\n    <tr>\n      <th>1</th>\n      <td>2017-10-01</td>\n      <td>0.016609</td>\n      <td>0.554303</td>\n      <td>0.134696</td>\n      <td>0.118823</td>\n      <td>0.020024</td>\n    </tr>\n    <tr>\n      <th>2</th>\n      <td>2017-10-01</td>\n      <td>0.016609</td>\n      <td>0.363470</td>\n      <td>0.134696</td>\n      <td>0.643152</td>\n      <td>0.020024</td>\n    </tr>\n    <tr>\n      <th>3</th>\n      <td>2017-10-01</td>\n      <td>0.425233</td>\n      <td>0.363470</td>\n      <td>0.907961</td>\n      <td>0.643152</td>\n      <td>0.955007</td>\n    </tr>\n    <tr>\n      <th>4</th>\n      <td>2017-10-01</td>\n      <td>0.425233</td>\n      <td>0.171726</td>\n      <td>0.907961</td>\n      <td>0.364684</td>\n      <td>0.955007</td>\n    </tr>\n    <tr>\n      <th>5</th>\n      <td>2017-10-01</td>\n      <td>0.933643</td>\n      <td>0.171726</td>\n      <td>0.971487</td>\n      <td>0.364684</td>\n      <td>0.346008</td>\n    </tr>\n    <tr>\n      <th>6</th>\n      <td>2017-10-01</td>\n      <td>0.933643</td>\n      <td>0.033414</td>\n      <td>0.971487</td>\n      <td>0.794983</td>\n      <td>0.346008</td>\n    </tr>\n    <tr>\n      <th>7</th>\n      <td>2017-10-01</td>\n      <td>0.179628</td>\n      <td>0.033414</td>\n      <td>0.662900</td>\n      <td>0.794983</td>\n      <td>0.010243</td>\n    </tr>\n    <tr>\n      <th>8</th>\n      <td>2017-10-01</td>\n      <td>0.179628</td>\n      <td>0.031645</td>\n      <td>0.662900</td>\n      <td>0.097126</td>\n      <td>0.010243</td>\n    </tr>\n  </tbody>\n</table>\n</div>"
     },
     "execution_count": 32,
     "metadata": {},
     "output_type": "execute_result"
    }
   ],
   "source": [
    "df.fillna(method='pad')"
   ]
  },
  {
   "cell_type": "markdown",
   "metadata": {
    "pycharm": {
     "name": "#%% md\n"
    }
   },
   "source": [
    "或者是后面的值："
   ]
  },
  {
   "cell_type": "code",
   "execution_count": 33,
   "metadata": {
    "pycharm": {
     "name": "#%%\n"
    }
   },
   "outputs": [
    {
     "data": {
      "text/plain": "        Time         A         B         C         D         E\n0 2017-10-01  0.966972  0.554303  0.130830  0.118823  0.508544\n1 2017-10-01  0.016609  0.363470  0.134696  0.643152  0.020024\n2 2017-10-01  0.425233  0.363470  0.907961  0.643152  0.955007\n3 2017-10-01  0.425233  0.171726  0.907961  0.364684  0.955007\n4 2017-10-01  0.933643  0.171726  0.971487  0.364684  0.346008\n5 2017-10-01  0.933643  0.033414  0.971487  0.794983  0.346008\n6 2017-10-01  0.179628  0.033414  0.662900  0.794983  0.010243\n7 2017-10-01  0.179628  0.031645  0.662900  0.097126  0.010243\n8 2017-10-01       NaN  0.031645       NaN  0.097126       NaN",
      "text/html": "<div>\n<style scoped>\n    .dataframe tbody tr th:only-of-type {\n        vertical-align: middle;\n    }\n\n    .dataframe tbody tr th {\n        vertical-align: top;\n    }\n\n    .dataframe thead th {\n        text-align: right;\n    }\n</style>\n<table border=\"1\" class=\"dataframe\">\n  <thead>\n    <tr style=\"text-align: right;\">\n      <th></th>\n      <th>Time</th>\n      <th>A</th>\n      <th>B</th>\n      <th>C</th>\n      <th>D</th>\n      <th>E</th>\n    </tr>\n  </thead>\n  <tbody>\n    <tr>\n      <th>0</th>\n      <td>2017-10-01</td>\n      <td>0.966972</td>\n      <td>0.554303</td>\n      <td>0.130830</td>\n      <td>0.118823</td>\n      <td>0.508544</td>\n    </tr>\n    <tr>\n      <th>1</th>\n      <td>2017-10-01</td>\n      <td>0.016609</td>\n      <td>0.363470</td>\n      <td>0.134696</td>\n      <td>0.643152</td>\n      <td>0.020024</td>\n    </tr>\n    <tr>\n      <th>2</th>\n      <td>2017-10-01</td>\n      <td>0.425233</td>\n      <td>0.363470</td>\n      <td>0.907961</td>\n      <td>0.643152</td>\n      <td>0.955007</td>\n    </tr>\n    <tr>\n      <th>3</th>\n      <td>2017-10-01</td>\n      <td>0.425233</td>\n      <td>0.171726</td>\n      <td>0.907961</td>\n      <td>0.364684</td>\n      <td>0.955007</td>\n    </tr>\n    <tr>\n      <th>4</th>\n      <td>2017-10-01</td>\n      <td>0.933643</td>\n      <td>0.171726</td>\n      <td>0.971487</td>\n      <td>0.364684</td>\n      <td>0.346008</td>\n    </tr>\n    <tr>\n      <th>5</th>\n      <td>2017-10-01</td>\n      <td>0.933643</td>\n      <td>0.033414</td>\n      <td>0.971487</td>\n      <td>0.794983</td>\n      <td>0.346008</td>\n    </tr>\n    <tr>\n      <th>6</th>\n      <td>2017-10-01</td>\n      <td>0.179628</td>\n      <td>0.033414</td>\n      <td>0.662900</td>\n      <td>0.794983</td>\n      <td>0.010243</td>\n    </tr>\n    <tr>\n      <th>7</th>\n      <td>2017-10-01</td>\n      <td>0.179628</td>\n      <td>0.031645</td>\n      <td>0.662900</td>\n      <td>0.097126</td>\n      <td>0.010243</td>\n    </tr>\n    <tr>\n      <th>8</th>\n      <td>2017-10-01</td>\n      <td>NaN</td>\n      <td>0.031645</td>\n      <td>NaN</td>\n      <td>0.097126</td>\n      <td>NaN</td>\n    </tr>\n  </tbody>\n</table>\n</div>"
     },
     "execution_count": 33,
     "metadata": {},
     "output_type": "execute_result"
    }
   ],
   "source": [
    "df.fillna(method='bfill')"
   ]
  },
  {
   "cell_type": "markdown",
   "metadata": {
    "pycharm": {
     "name": "#%% md\n"
    }
   },
   "source": [
    "最后一行由于没有对于的后序值，自然继续存在缺失值。"
   ]
  },
  {
   "cell_type": "markdown",
   "metadata": {
    "pycharm": {
     "name": "#%% md\n"
    }
   },
   "source": [
    "上面的例子中，我们的缺失值是间隔存在的。那么，如果存在连续的缺失值是怎样的情况呢？试一试。首先，我们将数据集的第 2，4 ，6 列的第 3，5 行也置为缺失值。"
   ]
  },
  {
   "cell_type": "code",
   "execution_count": 34,
   "metadata": {
    "pycharm": {
     "name": "#%%\n"
    }
   },
   "outputs": [],
   "source": [
    "df.iloc[[3, 5], [1, 3, 5]] = np.nan"
   ]
  },
  {
   "cell_type": "markdown",
   "metadata": {
    "pycharm": {
     "name": "#%% md\n"
    }
   },
   "source": [
    "然后来正向填充："
   ]
  },
  {
   "cell_type": "code",
   "execution_count": 35,
   "metadata": {
    "pycharm": {
     "name": "#%%\n"
    }
   },
   "outputs": [
    {
     "data": {
      "text/plain": "        Time         A         B         C         D         E\n0 2017-10-01  0.966972  0.554303  0.130830  0.118823  0.508544\n1 2017-10-01  0.016609  0.554303  0.134696  0.118823  0.020024\n2 2017-10-01  0.016609  0.363470  0.134696  0.643152  0.020024\n3 2017-10-01  0.016609  0.363470  0.134696  0.643152  0.020024\n4 2017-10-01  0.016609  0.171726  0.134696  0.364684  0.020024\n5 2017-10-01  0.016609  0.171726  0.134696  0.364684  0.020024\n6 2017-10-01  0.016609  0.033414  0.134696  0.794983  0.020024\n7 2017-10-01  0.179628  0.033414  0.662900  0.794983  0.010243\n8 2017-10-01  0.179628  0.031645  0.662900  0.097126  0.010243",
      "text/html": "<div>\n<style scoped>\n    .dataframe tbody tr th:only-of-type {\n        vertical-align: middle;\n    }\n\n    .dataframe tbody tr th {\n        vertical-align: top;\n    }\n\n    .dataframe thead th {\n        text-align: right;\n    }\n</style>\n<table border=\"1\" class=\"dataframe\">\n  <thead>\n    <tr style=\"text-align: right;\">\n      <th></th>\n      <th>Time</th>\n      <th>A</th>\n      <th>B</th>\n      <th>C</th>\n      <th>D</th>\n      <th>E</th>\n    </tr>\n  </thead>\n  <tbody>\n    <tr>\n      <th>0</th>\n      <td>2017-10-01</td>\n      <td>0.966972</td>\n      <td>0.554303</td>\n      <td>0.130830</td>\n      <td>0.118823</td>\n      <td>0.508544</td>\n    </tr>\n    <tr>\n      <th>1</th>\n      <td>2017-10-01</td>\n      <td>0.016609</td>\n      <td>0.554303</td>\n      <td>0.134696</td>\n      <td>0.118823</td>\n      <td>0.020024</td>\n    </tr>\n    <tr>\n      <th>2</th>\n      <td>2017-10-01</td>\n      <td>0.016609</td>\n      <td>0.363470</td>\n      <td>0.134696</td>\n      <td>0.643152</td>\n      <td>0.020024</td>\n    </tr>\n    <tr>\n      <th>3</th>\n      <td>2017-10-01</td>\n      <td>0.016609</td>\n      <td>0.363470</td>\n      <td>0.134696</td>\n      <td>0.643152</td>\n      <td>0.020024</td>\n    </tr>\n    <tr>\n      <th>4</th>\n      <td>2017-10-01</td>\n      <td>0.016609</td>\n      <td>0.171726</td>\n      <td>0.134696</td>\n      <td>0.364684</td>\n      <td>0.020024</td>\n    </tr>\n    <tr>\n      <th>5</th>\n      <td>2017-10-01</td>\n      <td>0.016609</td>\n      <td>0.171726</td>\n      <td>0.134696</td>\n      <td>0.364684</td>\n      <td>0.020024</td>\n    </tr>\n    <tr>\n      <th>6</th>\n      <td>2017-10-01</td>\n      <td>0.016609</td>\n      <td>0.033414</td>\n      <td>0.134696</td>\n      <td>0.794983</td>\n      <td>0.020024</td>\n    </tr>\n    <tr>\n      <th>7</th>\n      <td>2017-10-01</td>\n      <td>0.179628</td>\n      <td>0.033414</td>\n      <td>0.662900</td>\n      <td>0.794983</td>\n      <td>0.010243</td>\n    </tr>\n    <tr>\n      <th>8</th>\n      <td>2017-10-01</td>\n      <td>0.179628</td>\n      <td>0.031645</td>\n      <td>0.662900</td>\n      <td>0.097126</td>\n      <td>0.010243</td>\n    </tr>\n  </tbody>\n</table>\n</div>"
     },
     "execution_count": 35,
     "metadata": {},
     "output_type": "execute_result"
    }
   ],
   "source": [
    "df.fillna(method='pad')"
   ]
  },
  {
   "cell_type": "markdown",
   "metadata": {
    "pycharm": {
     "name": "#%% md\n"
    }
   },
   "source": [
    "可以看到，连续缺失值也是按照前序数值进行填充的，并且完全填充。这里，我们可以通过 `limit=` 参数设置连续填充的限制数量。"
   ]
  },
  {
   "cell_type": "code",
   "execution_count": 36,
   "metadata": {
    "pycharm": {
     "name": "#%%\n"
    }
   },
   "outputs": [
    {
     "data": {
      "text/plain": "        Time         A         B         C         D         E\n0 2017-10-01  0.966972  0.554303  0.130830  0.118823  0.508544\n1 2017-10-01  0.016609  0.554303  0.134696  0.118823  0.020024\n2 2017-10-01  0.016609  0.363470  0.134696  0.643152  0.020024\n3 2017-10-01       NaN  0.363470       NaN  0.643152       NaN\n4 2017-10-01       NaN  0.171726       NaN  0.364684       NaN\n5 2017-10-01       NaN  0.171726       NaN  0.364684       NaN\n6 2017-10-01       NaN  0.033414       NaN  0.794983       NaN\n7 2017-10-01  0.179628  0.033414  0.662900  0.794983  0.010243\n8 2017-10-01  0.179628  0.031645  0.662900  0.097126  0.010243",
      "text/html": "<div>\n<style scoped>\n    .dataframe tbody tr th:only-of-type {\n        vertical-align: middle;\n    }\n\n    .dataframe tbody tr th {\n        vertical-align: top;\n    }\n\n    .dataframe thead th {\n        text-align: right;\n    }\n</style>\n<table border=\"1\" class=\"dataframe\">\n  <thead>\n    <tr style=\"text-align: right;\">\n      <th></th>\n      <th>Time</th>\n      <th>A</th>\n      <th>B</th>\n      <th>C</th>\n      <th>D</th>\n      <th>E</th>\n    </tr>\n  </thead>\n  <tbody>\n    <tr>\n      <th>0</th>\n      <td>2017-10-01</td>\n      <td>0.966972</td>\n      <td>0.554303</td>\n      <td>0.130830</td>\n      <td>0.118823</td>\n      <td>0.508544</td>\n    </tr>\n    <tr>\n      <th>1</th>\n      <td>2017-10-01</td>\n      <td>0.016609</td>\n      <td>0.554303</td>\n      <td>0.134696</td>\n      <td>0.118823</td>\n      <td>0.020024</td>\n    </tr>\n    <tr>\n      <th>2</th>\n      <td>2017-10-01</td>\n      <td>0.016609</td>\n      <td>0.363470</td>\n      <td>0.134696</td>\n      <td>0.643152</td>\n      <td>0.020024</td>\n    </tr>\n    <tr>\n      <th>3</th>\n      <td>2017-10-01</td>\n      <td>NaN</td>\n      <td>0.363470</td>\n      <td>NaN</td>\n      <td>0.643152</td>\n      <td>NaN</td>\n    </tr>\n    <tr>\n      <th>4</th>\n      <td>2017-10-01</td>\n      <td>NaN</td>\n      <td>0.171726</td>\n      <td>NaN</td>\n      <td>0.364684</td>\n      <td>NaN</td>\n    </tr>\n    <tr>\n      <th>5</th>\n      <td>2017-10-01</td>\n      <td>NaN</td>\n      <td>0.171726</td>\n      <td>NaN</td>\n      <td>0.364684</td>\n      <td>NaN</td>\n    </tr>\n    <tr>\n      <th>6</th>\n      <td>2017-10-01</td>\n      <td>NaN</td>\n      <td>0.033414</td>\n      <td>NaN</td>\n      <td>0.794983</td>\n      <td>NaN</td>\n    </tr>\n    <tr>\n      <th>7</th>\n      <td>2017-10-01</td>\n      <td>0.179628</td>\n      <td>0.033414</td>\n      <td>0.662900</td>\n      <td>0.794983</td>\n      <td>0.010243</td>\n    </tr>\n    <tr>\n      <th>8</th>\n      <td>2017-10-01</td>\n      <td>0.179628</td>\n      <td>0.031645</td>\n      <td>0.662900</td>\n      <td>0.097126</td>\n      <td>0.010243</td>\n    </tr>\n  </tbody>\n</table>\n</div>"
     },
     "execution_count": 36,
     "metadata": {},
     "output_type": "execute_result"
    }
   ],
   "source": [
    "df.fillna(method='pad', limit=1)  # 最多填充一项"
   ]
  },
  {
   "cell_type": "markdown",
   "metadata": {
    "pycharm": {
     "name": "#%% md\n"
    }
   },
   "source": [
    "除了上面的填充方式，还可以通过 Pandas 自带的求平均值方法等来填充特定列或行。举个例子："
   ]
  },
  {
   "cell_type": "code",
   "execution_count": 37,
   "metadata": {
    "pycharm": {
     "name": "#%%\n"
    }
   },
   "outputs": [
    {
     "name": "stderr",
     "output_type": "stream",
     "text": [
      "C:\\Users\\15032\\AppData\\Local\\Temp\\ipykernel_12556\\3242948215.py:1: FutureWarning: DataFrame.mean and DataFrame.median with numeric_only=None will include datetime64 and datetime64tz columns in a future version.\n",
      "  df.fillna(df.mean()['C':'E'])#对 C 列到 E 列用平均值填充。\n"
     ]
    },
    {
     "data": {
      "text/plain": "        Time         A         B         C         D         E\n0 2017-10-01  0.966972  0.554303  0.130830  0.118823  0.508544\n1        NaT  0.016609       NaN  0.134696  0.403754  0.020024\n2 2017-10-01       NaN  0.363470  0.309475  0.643152  0.179604\n3        NaT       NaN       NaN  0.309475  0.403754  0.179604\n4 2017-10-01       NaN  0.171726  0.309475  0.364684  0.179604\n5        NaT       NaN       NaN  0.309475  0.403754  0.179604\n6 2017-10-01       NaN  0.033414  0.309475  0.794983  0.179604\n7        NaT  0.179628       NaN  0.662900  0.403754  0.010243\n8 2017-10-01       NaN  0.031645  0.309475  0.097126  0.179604",
      "text/html": "<div>\n<style scoped>\n    .dataframe tbody tr th:only-of-type {\n        vertical-align: middle;\n    }\n\n    .dataframe tbody tr th {\n        vertical-align: top;\n    }\n\n    .dataframe thead th {\n        text-align: right;\n    }\n</style>\n<table border=\"1\" class=\"dataframe\">\n  <thead>\n    <tr style=\"text-align: right;\">\n      <th></th>\n      <th>Time</th>\n      <th>A</th>\n      <th>B</th>\n      <th>C</th>\n      <th>D</th>\n      <th>E</th>\n    </tr>\n  </thead>\n  <tbody>\n    <tr>\n      <th>0</th>\n      <td>2017-10-01</td>\n      <td>0.966972</td>\n      <td>0.554303</td>\n      <td>0.130830</td>\n      <td>0.118823</td>\n      <td>0.508544</td>\n    </tr>\n    <tr>\n      <th>1</th>\n      <td>NaT</td>\n      <td>0.016609</td>\n      <td>NaN</td>\n      <td>0.134696</td>\n      <td>0.403754</td>\n      <td>0.020024</td>\n    </tr>\n    <tr>\n      <th>2</th>\n      <td>2017-10-01</td>\n      <td>NaN</td>\n      <td>0.363470</td>\n      <td>0.309475</td>\n      <td>0.643152</td>\n      <td>0.179604</td>\n    </tr>\n    <tr>\n      <th>3</th>\n      <td>NaT</td>\n      <td>NaN</td>\n      <td>NaN</td>\n      <td>0.309475</td>\n      <td>0.403754</td>\n      <td>0.179604</td>\n    </tr>\n    <tr>\n      <th>4</th>\n      <td>2017-10-01</td>\n      <td>NaN</td>\n      <td>0.171726</td>\n      <td>0.309475</td>\n      <td>0.364684</td>\n      <td>0.179604</td>\n    </tr>\n    <tr>\n      <th>5</th>\n      <td>NaT</td>\n      <td>NaN</td>\n      <td>NaN</td>\n      <td>0.309475</td>\n      <td>0.403754</td>\n      <td>0.179604</td>\n    </tr>\n    <tr>\n      <th>6</th>\n      <td>2017-10-01</td>\n      <td>NaN</td>\n      <td>0.033414</td>\n      <td>0.309475</td>\n      <td>0.794983</td>\n      <td>0.179604</td>\n    </tr>\n    <tr>\n      <th>7</th>\n      <td>NaT</td>\n      <td>0.179628</td>\n      <td>NaN</td>\n      <td>0.662900</td>\n      <td>0.403754</td>\n      <td>0.010243</td>\n    </tr>\n    <tr>\n      <th>8</th>\n      <td>2017-10-01</td>\n      <td>NaN</td>\n      <td>0.031645</td>\n      <td>0.309475</td>\n      <td>0.097126</td>\n      <td>0.179604</td>\n    </tr>\n  </tbody>\n</table>\n</div>"
     },
     "execution_count": 37,
     "metadata": {},
     "output_type": "execute_result"
    }
   ],
   "source": [
    "df.fillna(df.mean()['C':'E'])#对 C 列到 E 列用平均值填充。"
   ]
  },
  {
   "cell_type": "markdown",
   "metadata": {
    "pycharm": {
     "name": "#%% md\n"
    }
   },
   "source": [
    "#### 插值填充"
   ]
  },
  {
   "cell_type": "markdown",
   "metadata": {
    "pycharm": {
     "name": "#%% md\n"
    }
   },
   "source": [
    "插值是数值分析中一种方法。简而言之，就是借助于一个函数（线性或非线性），再根据已知数据去求解未知数据的值。插值在数据领域非常常见，它的好处在于，可以尽量去还原数据本身的样子。"
   ]
  },
  {
   "cell_type": "markdown",
   "metadata": {
    "pycharm": {
     "name": "#%% md\n"
    }
   },
   "source": [
    "我们可以通过 [`interpolate()`](https://pandas.pydata.org/pandas-docs/stable/reference/api/pandas.DataFrame.interpolate.html#pandas.DataFrame.interpolate) 方法完成线性插值。当然，其他一些插值算法可以阅读官方文档了解。"
   ]
  },
  {
   "cell_type": "code",
   "execution_count": 38,
   "metadata": {
    "pycharm": {
     "name": "#%%\n"
    }
   },
   "outputs": [
    {
     "data": {
      "text/plain": "     A      B\n0  1.1   0.21\n1  2.2    NaN\n2  NaN    NaN\n3  4.5   3.10\n4  5.7  11.70\n5  6.9  13.20",
      "text/html": "<div>\n<style scoped>\n    .dataframe tbody tr th:only-of-type {\n        vertical-align: middle;\n    }\n\n    .dataframe tbody tr th {\n        vertical-align: top;\n    }\n\n    .dataframe thead th {\n        text-align: right;\n    }\n</style>\n<table border=\"1\" class=\"dataframe\">\n  <thead>\n    <tr style=\"text-align: right;\">\n      <th></th>\n      <th>A</th>\n      <th>B</th>\n    </tr>\n  </thead>\n  <tbody>\n    <tr>\n      <th>0</th>\n      <td>1.1</td>\n      <td>0.21</td>\n    </tr>\n    <tr>\n      <th>1</th>\n      <td>2.2</td>\n      <td>NaN</td>\n    </tr>\n    <tr>\n      <th>2</th>\n      <td>NaN</td>\n      <td>NaN</td>\n    </tr>\n    <tr>\n      <th>3</th>\n      <td>4.5</td>\n      <td>3.10</td>\n    </tr>\n    <tr>\n      <th>4</th>\n      <td>5.7</td>\n      <td>11.70</td>\n    </tr>\n    <tr>\n      <th>5</th>\n      <td>6.9</td>\n      <td>13.20</td>\n    </tr>\n  </tbody>\n</table>\n</div>"
     },
     "execution_count": 38,
     "metadata": {},
     "output_type": "execute_result"
    }
   ],
   "source": [
    "# 生成一个 DataFrame\n",
    "df = pd.DataFrame({'A': [1.1, 2.2, np.nan, 4.5, 5.7, 6.9],\n",
    "                   'B': [.21, np.nan, np.nan, 3.1, 11.7, 13.2]})\n",
    "df"
   ]
  },
  {
   "cell_type": "markdown",
   "metadata": {
    "pycharm": {
     "name": "#%% md\n"
    }
   },
   "source": [
    "对于上面存在的缺失值，如果通过前后值，或者平均值来填充是不太能反映出趋势的。这时候，插值最好使。我们用默认的线性插值试一试。"
   ]
  },
  {
   "cell_type": "code",
   "execution_count": 39,
   "metadata": {
    "pycharm": {
     "name": "#%%\n"
    }
   },
   "outputs": [
    {
     "data": {
      "text/plain": "      A          B\n0  1.10   0.210000\n1  2.20   1.173333\n2  3.35   2.136667\n3  4.50   3.100000\n4  5.70  11.700000\n5  6.90  13.200000",
      "text/html": "<div>\n<style scoped>\n    .dataframe tbody tr th:only-of-type {\n        vertical-align: middle;\n    }\n\n    .dataframe tbody tr th {\n        vertical-align: top;\n    }\n\n    .dataframe thead th {\n        text-align: right;\n    }\n</style>\n<table border=\"1\" class=\"dataframe\">\n  <thead>\n    <tr style=\"text-align: right;\">\n      <th></th>\n      <th>A</th>\n      <th>B</th>\n    </tr>\n  </thead>\n  <tbody>\n    <tr>\n      <th>0</th>\n      <td>1.10</td>\n      <td>0.210000</td>\n    </tr>\n    <tr>\n      <th>1</th>\n      <td>2.20</td>\n      <td>1.173333</td>\n    </tr>\n    <tr>\n      <th>2</th>\n      <td>3.35</td>\n      <td>2.136667</td>\n    </tr>\n    <tr>\n      <th>3</th>\n      <td>4.50</td>\n      <td>3.100000</td>\n    </tr>\n    <tr>\n      <th>4</th>\n      <td>5.70</td>\n      <td>11.700000</td>\n    </tr>\n    <tr>\n      <th>5</th>\n      <td>6.90</td>\n      <td>13.200000</td>\n    </tr>\n  </tbody>\n</table>\n</div>"
     },
     "execution_count": 39,
     "metadata": {},
     "output_type": "execute_result"
    }
   ],
   "source": [
    "df_interpolate = df.interpolate()\n",
    "df_interpolate"
   ]
  },
  {
   "cell_type": "markdown",
   "metadata": {
    "pycharm": {
     "name": "#%% md\n"
    }
   },
   "source": [
    "对于 [`interpolate()`](https://pandas.pydata.org/pandas-docs/stable/reference/api/pandas.DataFrame.interpolate.html#pandas.DataFrame.interpolate) 支持的插值算法，也就是 `method=`。下面给出几条选择的建议："
   ]
  },
  {
   "cell_type": "markdown",
   "metadata": {
    "pycharm": {
     "name": "#%% md\n"
    }
   },
   "source": [
    "1.  如果你的数据增长速率越来越快，可以选择 `method='quadratic'`二次插值。\n",
    "2.  如果数据集呈现出累计分布的样子，推荐选择 `method='pchip'`。\n",
    "3.  如果需要填补缺省值，以平滑绘图为目标，推荐选择 `method='akima'`。"
   ]
  },
  {
   "cell_type": "markdown",
   "metadata": {
    "pycharm": {
     "name": "#%% md\n"
    }
   },
   "source": [
    "当然，最后提到的 `method='akima'`，需要你的环境中安装了 Scipy 库。除此之外，`method='barycentric'` 和 `method='pchip'` 同样也需要 Scipy 才能使用。"
   ]
  },
  {
   "cell_type": "markdown",
   "metadata": {
    "pycharm": {
     "name": "#%% md\n"
    }
   },
   "source": [
    "### 数据可视化"
   ]
  },
  {
   "cell_type": "markdown",
   "metadata": {
    "pycharm": {
     "name": "#%% md\n"
    }
   },
   "source": [
    "NumPy，Pandas，Matplotlib 构成了一个完善的数据分析生态圈，所以 3 个工具的兼容性也非常好，甚至共享了大量的接口。当我们的数据是以 DataFrame 格式呈现时，可以直接使用 Pandas 提供的 [`DataFrame.plot`](https://pandas.pydata.org/pandas-docs/stable/reference/frame.html#plotting) 方法调用 Matplotlib 接口绘制常见的图形。"
   ]
  },
  {
   "cell_type": "markdown",
   "metadata": {
    "pycharm": {
     "name": "#%% md\n"
    }
   },
   "source": [
    "例如，我们使用上面插值后的数据 `df_interpolate` 绘制线形图。"
   ]
  },
  {
   "cell_type": "code",
   "execution_count": 40,
   "metadata": {
    "pycharm": {
     "name": "#%%\n"
    }
   },
   "outputs": [
    {
     "data": {
      "text/plain": "<Axes: >"
     },
     "execution_count": 40,
     "metadata": {},
     "output_type": "execute_result"
    },
    {
     "data": {
      "text/plain": "<Figure size 640x480 with 1 Axes>",
      "image/png": "[encoded data removed]"
     },
     "metadata": {},
     "output_type": "display_data"
    }
   ],
   "source": [
    "df_interpolate.plot()"
   ]
  },
  {
   "cell_type": "markdown",
   "metadata": {
    "pycharm": {
     "name": "#%% md\n"
    }
   },
   "source": [
    "其他样式的图形也很简单，指定 `kind=` 参数即可。"
   ]
  },
  {
   "cell_type": "code",
   "execution_count": 41,
   "metadata": {
    "pycharm": {
     "name": "#%%\n"
    }
   },
   "outputs": [
    {
     "data": {
      "text/plain": "<Axes: >"
     },
     "execution_count": 41,
     "metadata": {},
     "output_type": "execute_result"
    },
    {
     "data": {
      "text/plain": "<Figure size 640x480 with 1 Axes>",
      "image/png": "[encoded data removed]"
     },
     "metadata": {},
     "output_type": "display_data"
    }
   ],
   "source": [
    "df_interpolate.plot(kind='bar')"
   ]
  },
  {
   "cell_type": "markdown",
   "metadata": {
    "pycharm": {
     "name": "#%% md\n"
    }
   },
   "source": [
    "更多的图形样式和参数，阅读官方文档中的详细说明。Pandas 绘图虽然不可能做到 Matplotlib 的灵活性，但是其简单易用，适合于数据的快速呈现和预览。"
   ]
  },
  {
   "cell_type": "markdown",
   "metadata": {
    "pycharm": {
     "name": "#%% md\n"
    }
   },
   "source": [
    "### 其他用法"
   ]
  },
  {
   "cell_type": "markdown",
   "metadata": {
    "pycharm": {
     "name": "#%% md\n"
    }
   },
   "source": [
    "由于 Pandas 包含的内容实在太多，除了阅读完整的官方文档，很难做到通过一个实验或者一个课程进行全面了解。当然，本课程的目的是带大家熟悉 Pandas 的常用基础方法，至少你大致清楚了 Pandas 是什么，能干什么。"
   ]
  },
  {
   "cell_type": "markdown",
   "metadata": {
    "pycharm": {
     "name": "#%% md\n"
    }
   },
   "source": [
    "除了上面提到的一些方法和技巧，实际上 Pandas 常用的还有："
   ]
  },
  {
   "cell_type": "markdown",
   "metadata": {
    "pycharm": {
     "name": "#%% md\n"
    }
   },
   "source": [
    "- [<i class=\"fa fa-external-link-square\" aria-hidden=\"true\"> 数据计算</i>](https://pandas.pydata.org/pandas-docs/stable/reference/frame.html#binary-operator-functions)，例如：`DataFrame.add` 等。\n",
    "- [<i class=\"fa fa-external-link-square\" aria-hidden=\"true\"> 数据聚合</i>](https://pandas.pydata.org/pandas-docs/stable/reference/frame.html#function-application-groupby-window)，例如：`DataFrame.groupby` 等。\n",
    "- [<i class=\"fa fa-external-link-square\" aria-hidden=\"true\"> 统计分析</i>](https://pandas.pydata.org/pandas-docs/stable/reference/frame.html#computations-descriptive-stats)，例如：`DataFrame.abs` 等。\n",
    "- [<i class=\"fa fa-external-link-square\" aria-hidden=\"true\"> 时间序列</i>](https://pandas.pydata.org/pandas-docs/stable/reference/frame.html#time-series-related)，例如：`DataFrame.shift` 等。"
   ]
  },
  {
   "cell_type": "code",
   "execution_count": 41,
   "metadata": {
    "pycharm": {
     "name": "#%%\n"
    }
   },
   "outputs": [],
   "source": []
  }
 ],
 "metadata": {
  "kernelspec": {
   "display_name": "Python 3 (ipykernel)",
   "language": "python",
   "name": "python3"
  },
  "language_info": {
   "codemirror_mode": {
    "name": "ipython",
    "version": 3
   },
   "file_extension": ".py",
   "mimetype": "text/x-python",
   "name": "python",
   "nbconvert_exporter": "python",
   "pygments_lexer": "ipython3",
   "version": "3.9.13"
  }
 },
 "nbformat": 4,
 "nbformat_minor": 1
}